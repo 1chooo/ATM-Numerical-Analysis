{
 "cells": [
  {
   "attachments": {},
   "cell_type": "markdown",
   "metadata": {},
   "source": [
    "# [2021 Fall] Final Exam - Question 4\n",
    "\n",
    "> Course: AP3021"
   ]
  },
  {
   "cell_type": "code",
   "execution_count": null,
   "metadata": {},
   "outputs": [],
   "source": [
    "import numpy as np\n",
    "import matplotlib.pyplot as plt\n",
    "import pandas as pd\n",
    "from scipy.fft import fft, fftfreq, ifft"
   ]
  },
  {
   "attachments": {},
   "cell_type": "markdown",
   "metadata": {},
   "source": [
    "讀檔"
   ]
  },
  {
   "cell_type": "code",
   "execution_count": null,
   "metadata": {},
   "outputs": [],
   "source": [
    "df = pd.read_fwf('./data/test.dat.rtf',skiprows=8)"
   ]
  },
  {
   "cell_type": "code",
   "execution_count": null,
   "metadata": {},
   "outputs": [],
   "source": [
    "time=df.iloc[:, 1]\n",
    "data=df.iloc[:, 7]\n",
    "#print(df)\n",
    "data=data.to_numpy()\n",
    "#print(time)\n",
    "#print(data)\n",
    "n=48 #data amount\n",
    "x = np.arange(0, n, 1)\n",
    "\n",
    "plt.plot(data)\n",
    "plt.title(\"zenith total delay\")\n",
    "plt.ylabel(\"zenith total delay\")\n",
    "plt.xlabel(\"Time (30min interval)\")\n",
    "plt.show()"
   ]
  },
  {
   "cell_type": "code",
   "execution_count": null,
   "metadata": {},
   "outputs": [],
   "source": [
    "y1= np.zeros(n, dtype=complex)  #轉完的資料為complex形式\n",
    "yf = fft(data)\n",
    "\n",
    "k=1                #晝、夜\n",
    "y1[0]=yf[0]\n",
    "y1[1:1+k-1]=yf[1:1+k-1]\n",
    "y1[n-k:n]=yf[n-k:n]         \n",
    "yt = ifft(y1,n)          \n",
    "\n",
    "plt.title('Zenith total delay')\n",
    "plt.ylabel('Zenith total delay')\n",
    "plt.xlabel('Time (30min interval)')\n",
    "#plt.axis([0.0, 20.0, 0.0, 6.0])\n",
    "plt.plot(data, label = \"Origional\")\n",
    "plt.plot(yt, label = \"FFT\")\n",
    "plt.grid(True)\n",
    "#plt.xticks(range(0, 21, 1))\n",
    "#plt.yticks(range(0, 7, 1))\n",
    "plt.legend()\n",
    "#plt.savefig('Windspeed_High_Relation_fft.png')\n",
    "plt.show()"
   ]
  }
 ],
 "metadata": {
  "language_info": {
   "name": "python"
  },
  "orig_nbformat": 4
 },
 "nbformat": 4,
 "nbformat_minor": 2
}
