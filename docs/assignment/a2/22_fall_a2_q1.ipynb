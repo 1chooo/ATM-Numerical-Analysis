{
 "cells": [
  {
   "attachments": {},
   "cell_type": "markdown",
   "metadata": {},
   "source": [
    "# [2022 Fall] Assignment2-1\n",
    "\n",
    "> Course: AP3021\n",
    "\n",
    "### Question: Evaluate the quantity $\\sqrt{(c^2 + d)} -c$ to 4 correct significant figures, where c = 246886422468 and d = 13579.\n",
    "### Answer: "
   ]
  },
  {
   "cell_type": "code",
   "execution_count": null,
   "metadata": {},
   "outputs": [],
   "source": [
    "import math\n",
    "\n",
    "c = 246886422468.0000\n",
    "d = 13579.0000\n",
    "\n",
    "def formula(c, d) :\n",
    "    return math.sqrt(c ** 2 + d) - c\n",
    "\n",
    "\n",
    "ans = formula(c, d)\n",
    "print(\"%.4f\" %(ans))\n",
    "\n",
    "print(float((c * c + d)))"
   ]
  },
  {
   "attachments": {},
   "cell_type": "markdown",
   "metadata": {},
   "source": [
    "![A2-1](./imgs/Picture1.jpg)"
   ]
  },
  {
   "cell_type": "markdown",
   "metadata": {},
   "source": []
  }
 ],
 "metadata": {
  "language_info": {
   "name": "python"
  },
  "orig_nbformat": 4
 },
 "nbformat": 4,
 "nbformat_minor": 2
}
