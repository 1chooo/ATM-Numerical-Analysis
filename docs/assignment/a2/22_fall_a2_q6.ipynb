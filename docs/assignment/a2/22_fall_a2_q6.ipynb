{
 "cells": [
  {
   "attachments": {},
   "cell_type": "markdown",
   "metadata": {},
   "source": [
    "# [2022 Fall] Assignment2-6\n",
    "\n",
    "> Course: AP3021\n",
    "### Question: \n",
    "### Answer: \n",
    "\n",
    "``` c\n",
    "epsilon = 1\n",
    "\n",
    "while (epsilon + 1 <= 1)\n",
    "    epsilon /= 2\n",
    "\n",
    "epsilon *= 2\n",
    "```"
   ]
  },
  {
   "attachments": {},
   "cell_type": "markdown",
   "metadata": {},
   "source": [
    "![A2-6](./imgs/Picture6.png)"
   ]
  },
  {
   "cell_type": "markdown",
   "metadata": {},
   "source": []
  }
 ],
 "metadata": {
  "language_info": {
   "name": "python"
  },
  "orig_nbformat": 4
 },
 "nbformat": 4,
 "nbformat_minor": 2
}
