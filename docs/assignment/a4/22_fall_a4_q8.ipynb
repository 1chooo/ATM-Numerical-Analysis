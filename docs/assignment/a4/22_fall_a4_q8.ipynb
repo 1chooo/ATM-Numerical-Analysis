{
 "cells": [
  {
   "cell_type": "markdown",
   "metadata": {},
   "source": [
    "# [2022 Fall] Assignment4-8\n",
    "\n",
    "> Course: AP3021"
   ]
  },
  {
   "cell_type": "markdown",
   "metadata": {},
   "source": [
    "### 4-8\n",
    "\n",
    "Read chapter 7.2.2 and explain how to remove a found root of an nth-order polynomial.\n",
    "\n",
    "\n",
    "在迭代數次之後常會發現得到相同的解，因此在我們要進行迭代數次的時候可以從小數點進行著手，以減輕 round-off error 為目標使得結果不會離我們預期的太過遙遠。\n",
    "\n",
    "使 round-off error 不會這麼影響我們的結果，便是要挑選好的估計值，有的時候我們需要從高次項著手，反之我們需要再低次項著手，在好的結果猜想中，所得到的結果可以使我們下次迭代中得到更好的結果，\n",
    "\n",
    "另一種方法是在 deflaction 將獲得的連續根視為良好的初步猜測。然後可以將每個估計值用做初始猜測，再運用 nondeflated polynomial 判定，不過要小心如果兩個 deflacted root 不夠準確以至於收斂至一個解的時候，可能會發生錯誤的誤差發生，此時便要去比對每一個 polished root。\n",
    "\n",
    "##### synthetic division\n",
    "```\n",
    "r = a(n)\n",
    "a(n) = 0\n",
    "DOFOR i = n−1, 0, −1\n",
    "    s = a(i)\n",
    "    a(i) = r r=s+r*t\n",
    "END DO\n",
    "```\n",
    "\n",
    "\n",
    "##### Ploynomial deflaction\n",
    "``` f90\n",
    "SUB poldiv(a, n, d, m, q, r) \n",
    "    DOFOR j = 0, n\n",
    "        r(j) = a(j)\n",
    "        q(j) = 0 \n",
    "    END DO\n",
    "    DOFOR k = n−m, 0, −1 \n",
    "        q(k+1) = r(m+k) ∕ d(m) \n",
    "        DOFOR j = m+k−1, k, −1\n",
    "            r(j) = r(j)−q(k+1) * d(j−k) \n",
    "        END DO\n",
    "    END DO\n",
    "    DOFOR j = m, n\n",
    "        r(j) = 0 \n",
    "    END DO\n",
    "    n = n−m \n",
    "END SUB\n",
    "```"
   ]
  },
  {
   "cell_type": "code",
   "execution_count": null,
   "metadata": {},
   "outputs": [],
   "source": []
  }
 ],
 "metadata": {
  "language_info": {
   "name": "python"
  },
  "orig_nbformat": 4
 },
 "nbformat": 4,
 "nbformat_minor": 2
}
