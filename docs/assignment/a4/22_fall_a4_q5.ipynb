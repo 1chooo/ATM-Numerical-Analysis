{
 "cells": [
  {
   "attachments": {},
   "cell_type": "markdown",
   "metadata": {},
   "source": [
    "# [2022 Fall] Assignment4-5\n",
    "\n",
    "> Course: AP3021"
   ]
  },
  {
   "cell_type": "markdown",
   "metadata": {},
   "source": [
    "## 4-5-1\n",
    "\n",
    "Use the Newton-Raphson method to find the root of $f(x) = e^{-0.5x} (4 - x) - 2$\n",
    "\n",
    "![plot](./src/imgs/A4_5_1.jpg)"
   ]
  },
  {
   "cell_type": "markdown",
   "metadata": {},
   "source": [
    "## 4-5-2\n",
    "\n",
    "Employ initial guesses of (a) 2, (b) 6, and (c) 8. Explain your results. (Python+解釋) Hint: Think about the problems of this method."
   ]
  },
  {
   "cell_type": "code",
   "execution_count": 4,
   "metadata": {},
   "outputs": [],
   "source": [
    "import math"
   ]
  },
  {
   "cell_type": "code",
   "execution_count": 5,
   "metadata": {},
   "outputs": [],
   "source": [
    "def f(x) :\n",
    "    e = math.e\n",
    "    ans = ((e ** (-0.5 * x)) * (4 - x)) - 2\n",
    "\n",
    "    return ans\n",
    "\n",
    "def f_prime(x) :\n",
    "    e = math.e\n",
    "    ans = (-0.5 * (e ** (-0.5 * x)) * (4 - x)) - (e ** (-0.5 * x))\n",
    "\n",
    "    return ans\n",
    "\n",
    "def newton_raphson(x0, es, iter_max) :\n",
    "    iter_count = 0\n",
    "    iter_count_list = []\n",
    "    x_root = x0\n",
    "    print(\"x0 =\", x0)\n",
    "    print()\n",
    "\n",
    "    while True :\n",
    "        last_x_root = x_root\n",
    "\n",
    "        try :\n",
    "            x_root = last_x_root - (f(x_root) / f_prime(x_root))\n",
    "        except :\n",
    "            print(\"total use\", iter_count, \"times.\")\n",
    "            return \"Divergence\"\n",
    "\n",
    "        iter_count += 1\n",
    "        iter_count_list.append(iter_count)\n",
    "        if x_root != 0 :\n",
    "            ea = abs((x_root - last_x_root) / x_root) * 100        \n",
    "\n",
    "        print(\"iter time:\", iter_count, \",ea =\", ea, \"root:\", x_root)\n",
    "\n",
    "        if (ea < es or iter_count >= iter_max) :\n",
    "            print(\"total use\", iter_count, \"times.\")\n",
    "            return x_root"
   ]
  },
  {
   "cell_type": "markdown",
   "metadata": {},
   "source": [
    "### a. $x_0 = 2$"
   ]
  },
  {
   "cell_type": "code",
   "execution_count": 6,
   "metadata": {},
   "outputs": [
    {
     "name": "stdout",
     "output_type": "stream",
     "text": [
      "x0 = 2\n",
      "\n",
      "iter time: 1 ,ea = 609.9293556607687 root: 0.2817181715409549\n",
      "iter time: 2 ,ea = 63.73755414477369 root: 0.7768868450453745\n",
      "iter time: 3 ,ea = 11.888408438696143 root: 0.8817078789285671\n",
      "iter time: 4 ,ea = 0.4510949099401444 root: 0.8857032411666447\n",
      "iter time: 5 ,ea = 0.0006278392363200894 root: 0.8857088019940231\n",
      "total use 5 times.\n",
      "\n",
      "The approximate ans: 0.8857088019940231\n"
     ]
    }
   ],
   "source": [
    "x0 = 2\n",
    "es = 0.01\n",
    "iter_max = 500\n",
    "\n",
    "print(\"\\nThe approximate ans:\", newton_raphson(x0, es, iter_max))"
   ]
  },
  {
   "cell_type": "markdown",
   "metadata": {},
   "source": [
    "### b. $x_0 = 6$"
   ]
  },
  {
   "cell_type": "code",
   "execution_count": 7,
   "metadata": {},
   "outputs": [
    {
     "name": "stdout",
     "output_type": "stream",
     "text": [
      "x0 = 6\n",
      "\n",
      "total use 0 times.\n",
      "\n",
      "The approximate ans: Divergence\n"
     ]
    }
   ],
   "source": [
    "x0 = 6\n",
    "es = 0.01\n",
    "iter_max = 500\n",
    "\n",
    "print(\"\\nThe approximate ans:\", newton_raphson(x0, es, iter_max))"
   ]
  },
  {
   "cell_type": "markdown",
   "metadata": {},
   "source": [
    "### c. $x_0 = 8$"
   ]
  },
  {
   "cell_type": "code",
   "execution_count": 8,
   "metadata": {},
   "outputs": [
    {
     "name": "stdout",
     "output_type": "stream",
     "text": [
      "x0 = 8\n",
      "\n",
      "iter time: 1 ,ea = 93.39913842615294 root: 121.19630006628846\n",
      "iter time: 2 ,ea = 100.0 root: 7.212131452880089e+24\n",
      "total use 2 times.\n",
      "\n",
      "The approximate ans: Divergence\n"
     ]
    }
   ],
   "source": [
    "x0 = 8\n",
    "es = 0.01\n",
    "iter_max = 500\n",
    "\n",
    "print(\"\\nThe approximate ans:\", newton_raphson(x0, es, iter_max))"
   ]
  },
  {
   "cell_type": "markdown",
   "metadata": {},
   "source": []
  }
 ],
 "metadata": {
  "kernelspec": {
   "display_name": "venv",
   "language": "python",
   "name": "python3"
  },
  "language_info": {
   "codemirror_mode": {
    "name": "ipython",
    "version": 3
   },
   "file_extension": ".py",
   "mimetype": "text/x-python",
   "name": "python",
   "nbconvert_exporter": "python",
   "pygments_lexer": "ipython3",
   "version": "3.10.1"
  },
  "orig_nbformat": 4
 },
 "nbformat": 4,
 "nbformat_minor": 2
}
