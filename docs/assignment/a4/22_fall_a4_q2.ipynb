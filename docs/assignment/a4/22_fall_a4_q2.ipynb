{
 "cells": [
  {
   "attachments": {},
   "cell_type": "markdown",
   "metadata": {},
   "source": [
    "# [2022 Fall] Assignment4-2\n",
    "\n",
    "> Course: AP3021"
   ]
  },
  {
   "cell_type": "code",
   "execution_count": 1,
   "metadata": {},
   "outputs": [],
   "source": [
    "import matplotlib.pyplot as plt\n",
    "import math\n",
    "import numpy as np\n",
    "import pandas as pd\n",
    "import os"
   ]
  },
  {
   "attachments": {},
   "cell_type": "markdown",
   "metadata": {},
   "source": [
    "## 4-2-1\n",
    "\n",
    "How many bisection iterations would be required to determine temperature to an\n",
    "absolute error of 0.05°C? (𝑥𝑙 = 0°C, 𝑥𝑢 = 40°C)\n",
    "\n",
    "![plot](./src/imgs/A4_2_1.jpg)"
   ]
  },
  {
   "attachments": {},
   "cell_type": "markdown",
   "metadata": {},
   "source": [
    "## 4-2-2\n",
    "\n",
    "延續(1). Bisection program. (𝑂𝑠𝑓 = 8, 10, 𝑎𝑛𝑑 12𝑚𝑔/𝐿) (Python) PS : 溫度請帶絕對溫標"
   ]
  },
  {
   "cell_type": "code",
   "execution_count": 2,
   "metadata": {},
   "outputs": [],
   "source": [
    "def f(temperature, osf) :\n",
    "    absolute_temperature = temperature + 273.15 # Ta\n",
    "\n",
    "    ans = ((-8.621949 * 10 ** 11) / absolute_temperature ** 4) \\\n",
    "        + ((1.243800  * 10 ** 10) / absolute_temperature ** 3) \\\n",
    "        + ((-6.642308 * 10 **  7) / absolute_temperature ** 2) \\\n",
    "        + ((1.575701  * 10 **  5) / absolute_temperature)      \\\n",
    "        - 139.34411 - math.log(osf)\n",
    "    \n",
    "    return ans"
   ]
  },
  {
   "cell_type": "code",
   "execution_count": 3,
   "metadata": {},
   "outputs": [],
   "source": [
    "def count_et(true_value, approximation) :\n",
    "    true_error = true_value - approximation\n",
    "    et = (true_error / true_value) * 100\n",
    "\n",
    "    return et"
   ]
  },
  {
   "cell_type": "code",
   "execution_count": 4,
   "metadata": {},
   "outputs": [],
   "source": [
    "def count_ea(new_x_root, old_x_root) :\n",
    "\n",
    "    if (old_x_root == -1) : # jump out the first data.\n",
    "        return 9999\n",
    "    else :\n",
    "        ea = abs((new_x_root - old_x_root) / new_x_root)\n",
    "        ea = ea * 100   # turn into percent\n",
    "        \n",
    "        return ea"
   ]
  },
  {
   "cell_type": "code",
   "execution_count": 5,
   "metadata": {},
   "outputs": [],
   "source": [
    "def count_iter_times(x_lowwer, x_upper, Ead) :\n",
    "    iter_times = math.log(((x_upper - x_lowwer) / Ead), 2)\n",
    "\n",
    "    return iter_times"
   ]
  },
  {
   "cell_type": "code",
   "execution_count": 6,
   "metadata": {},
   "outputs": [],
   "source": [
    "def bisection(x_lowwer, x_upper, Ead, osf, iter_max, iter_count) :\n",
    "    iter_times = count_iter_times(x_lowwer, x_upper, Ead)\n",
    "    print(\"Iterator at least:\", iter_times, \"times.\")\n",
    "    x_root = -1\n",
    "    \n",
    "    while True :\n",
    "        last_x_root = x_root\n",
    "        x_root = (x_lowwer + x_upper) / 2\n",
    "        iter_count += 1\n",
    "        temp = f(x_lowwer, osf) * f(x_root, osf)\n",
    "        # print(temp)\n",
    "\n",
    "        if (temp < 0) :\n",
    "            x_upper = x_root\n",
    "            # print(\"here\")\n",
    "        elif(temp > 0) :\n",
    "            x_lowwer = x_root\n",
    "            # print(\"here2\")\n",
    "        else :\n",
    "            return x_root\n",
    "\n",
    "        # how to get the true_value?\n",
    "        # true_value = \n",
    "\n",
    "        # et = (count_et(true_value, x_root))\n",
    "\n",
    "        ea = count_ea(x_root, last_x_root)\n",
    "\n",
    "        print(\"count:\", iter_count, \"root:\", x_root, \"ea\", ea)\n",
    "        # print(x_lowwer, x_upper)\n",
    "        \n",
    "        if iter_count >= iter_times or iter_count >= iter_max:\n",
    "            temperature = x_root + 273.15\n",
    "            \n",
    "            print(f\"if the os is {osf}\\nI iterate {iter_count} times\\nThe temperature is {temperature}K\")\n",
    "            return x_root"
   ]
  },
  {
   "attachments": {},
   "cell_type": "markdown",
   "metadata": {},
   "source": [
    "### Osf = 8"
   ]
  },
  {
   "cell_type": "code",
   "execution_count": 7,
   "metadata": {},
   "outputs": [
    {
     "name": "stdout",
     "output_type": "stream",
     "text": [
      "Iterator at least: 9.643856189774725 times.\n",
      "count: 1 root: 20.0 ea 9999\n",
      "count: 2 root: 30.0 ea 33.33333333333333\n",
      "count: 3 root: 25.0 ea 20.0\n",
      "count: 4 root: 27.5 ea 9.090909090909092\n",
      "count: 5 root: 26.25 ea 4.761904761904762\n",
      "count: 6 root: 26.875 ea 2.3255813953488373\n",
      "count: 7 root: 26.5625 ea 1.1764705882352942\n",
      "count: 8 root: 26.71875 ea 0.5847953216374269\n",
      "count: 9 root: 26.796875 ea 0.2915451895043732\n",
      "count: 10 root: 26.7578125 ea 0.145985401459854\n",
      "if the os is 8\n",
      "I iterate 10 times\n",
      "The temperature is 299.9078125K\n"
     ]
    }
   ],
   "source": [
    "x_lowwer = 0\n",
    "x_upper = 40\n",
    "Ead = 0.05\n",
    "osf = 8\n",
    "iter_max = 500\n",
    "iter_count = 0\n",
    "\n",
    "ans = bisection(x_lowwer, x_upper, Ead, osf, iter_max, iter_count)"
   ]
  },
  {
   "attachments": {},
   "cell_type": "markdown",
   "metadata": {},
   "source": [
    "### Osf = 10"
   ]
  },
  {
   "cell_type": "code",
   "execution_count": 8,
   "metadata": {},
   "outputs": [
    {
     "name": "stdout",
     "output_type": "stream",
     "text": [
      "Osf: 10\n",
      "Iterator at least: 9.643856189774725 times.\n",
      "count: 1 root: 20.0 ea 9999\n",
      "count: 2 root: 10.0 ea 100.0\n",
      "count: 3 root: 15.0 ea 33.33333333333333\n",
      "count: 4 root: 17.5 ea 14.285714285714285\n",
      "count: 5 root: 16.25 ea 7.6923076923076925\n",
      "count: 6 root: 15.625 ea 4.0\n",
      "count: 7 root: 15.3125 ea 2.0408163265306123\n",
      "count: 8 root: 15.46875 ea 1.0101010101010102\n",
      "count: 9 root: 15.390625 ea 0.5076142131979695\n",
      "count: 10 root: 15.3515625 ea 0.2544529262086514\n",
      "if the os is 10\n",
      "I iterate 10 times\n",
      "The temperature is 288.5015625K\n",
      "15.3515625\n"
     ]
    }
   ],
   "source": [
    "x_lowwer = 0\n",
    "x_upper = 40\n",
    "Ead = 0.05\n",
    "osf = 10\n",
    "iter_max = 500\n",
    "iter_count = 0\n",
    "\n",
    "print(\"Osf:\", osf)\n",
    "ans = bisection(x_lowwer, x_upper, Ead, osf, iter_max, iter_count)\n",
    "print(ans)"
   ]
  },
  {
   "attachments": {},
   "cell_type": "markdown",
   "metadata": {},
   "source": [
    "### Osf = 12"
   ]
  },
  {
   "cell_type": "code",
   "execution_count": 9,
   "metadata": {},
   "outputs": [
    {
     "name": "stdout",
     "output_type": "stream",
     "text": [
      "Osf: 12\n",
      "Iterator at least: 9.643856189774725 times.\n",
      "count: 1 root: 20.0 ea 9999\n",
      "count: 2 root: 10.0 ea 100.0\n",
      "count: 3 root: 5.0 ea 100.0\n",
      "count: 4 root: 7.5 ea 33.33333333333333\n",
      "count: 5 root: 6.25 ea 20.0\n",
      "count: 6 root: 6.875 ea 9.090909090909092\n",
      "count: 7 root: 7.1875 ea 4.3478260869565215\n",
      "count: 8 root: 7.34375 ea 2.127659574468085\n",
      "count: 9 root: 7.421875 ea 1.0526315789473684\n",
      "count: 10 root: 7.4609375 ea 0.5235602094240838\n",
      "if the os is 12\n",
      "I iterate 10 times\n",
      "The temperature is 280.6109375K\n",
      "7.4609375\n"
     ]
    }
   ],
   "source": [
    "x_lowwer = 0\n",
    "x_upper = 40\n",
    "Ead = 0.05\n",
    "osf = 12\n",
    "iter_max = 500\n",
    "iter_count = 0\n",
    "\n",
    "print(\"Osf:\", osf)\n",
    "ans = bisection(x_lowwer, x_upper, Ead, osf, iter_max, iter_count)\n",
    "print(ans)"
   ]
  },
  {
   "cell_type": "code",
   "execution_count": null,
   "metadata": {},
   "outputs": [],
   "source": []
  }
 ],
 "metadata": {
  "kernelspec": {
   "display_name": "venv",
   "language": "python",
   "name": "python3"
  },
  "language_info": {
   "codemirror_mode": {
    "name": "ipython",
    "version": 3
   },
   "file_extension": ".py",
   "mimetype": "text/x-python",
   "name": "python",
   "nbconvert_exporter": "python",
   "pygments_lexer": "ipython3",
   "version": "3.10.1"
  },
  "orig_nbformat": 4
 },
 "nbformat": 4,
 "nbformat_minor": 2
}
