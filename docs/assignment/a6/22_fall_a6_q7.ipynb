{
 "cells": [
  {
   "cell_type": "markdown",
   "metadata": {},
   "source": [
    "# [2022 Fall] Assignment6-7\n",
    "\n",
    "> Course: AP3021"
   ]
  },
  {
   "cell_type": "markdown",
   "metadata": {},
   "source": [
    "## Q6-7"
   ]
  },
  {
   "cell_type": "code",
   "execution_count": null,
   "metadata": {},
   "outputs": [],
   "source": [
    "a = np.array([[-4,  1,  1,  0],\n",
    "              [ 1, -4,  0,  1],\n",
    "              [ 1,  0, -4,  1],\n",
    "              [ 0,  1,  1, -4]])\n",
    "b = np.array([[-275],\n",
    "              [-225],\n",
    "              [ -75],\n",
    "              [-25]])\n",
    "\n",
    "x1 = 1\n",
    "x2 = 1\n",
    "x3 = 1\n",
    "x4 = 1\n",
    "count = 0\n",
    "\n",
    "while True:\n",
    "    xold1 = x1\n",
    "    xold2 = x2\n",
    "    xold3 = x3\n",
    "    xold4 = x4\n",
    "    count += 1\n",
    "    es = 0.0005\n",
    "    x1 = (b[0][0] - a[0][1] * xold2 - a[0][2] * xold3 - a[0][3] * xold4) / a[0][0]\n",
    "    x2 = (b[1][0] - a[1][0] * xold1 - a[1][2] * xold3 - a[1][3] * xold4) / a[1][1]\n",
    "    x3 = (b[2][0] - a[2][0] * xold1 - a[2][1] * xold2 - a[2][3] * xold4) / a[2][2]\n",
    "    x4 = (b[3][0] - a[3][0] * xold1 - a[3][1] * xold2 - a[3][2] * xold3) / a[3][3]\n",
    "\n",
    "    if (((x1 - xold1) / x1) < es) and \\\n",
    "             ((x2-xold2)/x2 < es) and \\\n",
    "             ((x3-xold3)/x3 < es) :\n",
    "        break\n",
    "\n",
    "print('t11 =', x1)\n",
    "print('t12 =', x2)\n",
    "print('t21 =', x3)\n",
    "print('t22 =', x4)\n",
    "print()\n",
    "print('Total used', count, \"times.\")"
   ]
  }
 ],
 "metadata": {
  "language_info": {
   "name": "python"
  },
  "orig_nbformat": 4
 },
 "nbformat": 4,
 "nbformat_minor": 2
}
