{
 "cells": [
  {
   "cell_type": "markdown",
   "metadata": {},
   "source": [
    "# [2022 Fall] Assignment6-2\n",
    "\n",
    "> Course: AP3021"
   ]
  },
  {
   "cell_type": "markdown",
   "metadata": {},
   "source": [
    "## Q6-2\n",
    "\n",
    "### 1. Determine the condition number for the following system using the row-sum norm. Do not normalize the system."
   ]
  },
  {
   "cell_type": "code",
   "execution_count": null,
   "metadata": {},
   "outputs": [],
   "source": [
    "import numpy as np"
   ]
  },
  {
   "cell_type": "code",
   "execution_count": null,
   "metadata": {},
   "outputs": [],
   "source": [
    "a = np.array([[ 1,  4,  9, 16, 25],\n",
    "              [ 4,  9, 16, 25, 36],\n",
    "              [ 9, 16, 25, 36, 49],\n",
    "              [16, 25, 36, 49, 64],\n",
    "              [25, 36, 49, 64, 81]])\n",
    "a_determinant = np.linalg.det(a)\n",
    "\n",
    "print(\"Condition number of A:\", np.linalg.cond(a, p=None))\n",
    "\n",
    "# print('determinant of A =', a_determine)"
   ]
  },
  {
   "cell_type": "markdown",
   "metadata": {},
   "source": [
    "### 2. Repeat (a) but scale the matrix by making the max element in each row to 1."
   ]
  },
  {
   "cell_type": "code",
   "execution_count": null,
   "metadata": {},
   "outputs": [],
   "source": [
    "a = np.float32([[ 1,  4,  9, 16, 25],\n",
    "              [ 4,  9, 16, 25, 36],\n",
    "              [ 9, 16, 25, 36, 49],\n",
    "              [16, 25, 36, 49, 64],\n",
    "              [25, 36, 49, 64, 81]])\n",
    "\n",
    "for i in range(0, 5) :\n",
    "    for j in range(0, 5) :\n",
    "        a[i][j] = float(a[i][j] / a[i][4])\n",
    "        # print(a[i][j])\n",
    "        \n",
    "print(\"Making the max element in each row to 1:\\n\")\n",
    "print(a)"
   ]
  },
  {
   "cell_type": "markdown",
   "metadata": {},
   "source": [
    "### 3. 想想看，由condition number可知，這是一個什麼樣的矩陣呢?\n",
    "\n",
    "![6.2-3](./imgs/6.2-3.jpg)"
   ]
  }
 ],
 "metadata": {
  "language_info": {
   "name": "python"
  },
  "orig_nbformat": 4
 },
 "nbformat": 4,
 "nbformat_minor": 2
}
