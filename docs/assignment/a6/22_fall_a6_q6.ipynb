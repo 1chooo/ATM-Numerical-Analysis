{
 "cells": [
  {
   "cell_type": "markdown",
   "metadata": {},
   "source": [
    "# [2022 Fall] Assignment6-6\n",
    "\n",
    "> Course: AP3021"
   ]
  },
  {
   "cell_type": "markdown",
   "metadata": {},
   "source": [
    "## Q6-6\n",
    "\n",
    "### 1. without relaxation."
   ]
  },
  {
   "cell_type": "code",
   "execution_count": null,
   "metadata": {},
   "outputs": [],
   "source": [
    "import numpy as np"
   ]
  },
  {
   "cell_type": "code",
   "execution_count": null,
   "metadata": {},
   "outputs": [],
   "source": [
    "a = np.array([[ 2.0, -6.0, -1.0],\n",
    "              [-3.0, -1.0,  7.0],\n",
    "              [-8.0,  1.0, -2.0]])\n",
    "b = np.array([[-38.0],\n",
    "              [-34.0],\n",
    "              [-20.0]])\n",
    "\n",
    "def pivot(a, b):  \n",
    "\n",
    "    p = np.array((a), float)\n",
    "    q = np.array((b), float)\n",
    "    n = len(q)\n",
    "\n",
    "    for i in range(0, n - 1):\n",
    "\n",
    "        if abs(p[i, 1]) == 0:\n",
    "            for k in range(i + 1, n):\n",
    "                if abs((p[k, i])) > abs(p[i, i]):\n",
    "                    p[[i, k]] = p[[k, i]]\n",
    "                    q[[i, k]] = q[[k, i]]\n",
    "\n",
    "                    break\n",
    "\n",
    "        for j in range(i + 1, n):\n",
    "            f = p[j][i] / p[i][i]\n",
    "            p[j, :] = p[j, :] - f * p[i, :]\n",
    "            q[j] = q[j] -f * q[i]\n",
    "\n",
    "    return p,q\n",
    "\n",
    "\n",
    "a, b = pivot(a, b)\n",
    "x1 = 1\n",
    "x2 = 1\n",
    "x3 = 1\n",
    "count = 0\n",
    "es = 0.05\n",
    "\n",
    "while True:\n",
    "\n",
    "    xold1 = x1\n",
    "    xold2 = x2\n",
    "    xold3 = x3\n",
    "    count += 1\n",
    "    x1 = ((b[0][0]) - (a[0][1]) * xold2 - (a[0][2]) * xold3) / a[0][0]\n",
    "    x2 = ((b[1][0]) - (a[1][0]) * xold1 - (a[1][2]) * xold3) / a[1][1]\n",
    "    x3 = ((b[2][0]) - (a[2][0]) * xold1 - (a[2][1]) * xold2) / a[2][2]\n",
    "\n",
    "    if (((x1 - xold1) / x1) < es) and \\\n",
    "             ((x2-xold2)/x2 < es) and \\\n",
    "             ((x3-xold3)/x3 < es) :\n",
    "        break\n",
    "\n",
    "\n",
    "print('without relaxation')\n",
    "print('x1 =', x1)\n",
    "print('x2 =', x2)\n",
    "print('x3 =', x3)\n",
    "print()\n",
    "print('Total used', count, \"times.\")"
   ]
  },
  {
   "cell_type": "markdown",
   "metadata": {},
   "source": [
    "### 2. with relaxation.\n"
   ]
  },
  {
   "cell_type": "code",
   "execution_count": null,
   "metadata": {},
   "outputs": [],
   "source": [
    "a, b = pivot(a, b)\n",
    "x1 = 1\n",
    "x2 = 1\n",
    "x3 = 1\n",
    "count = 0\n",
    "c = 1.2\n",
    "es = 0.05\n",
    "\n",
    "while True:\n",
    "    xold1 = x1\n",
    "    xold2 = x2\n",
    "    xold3 = x3\n",
    "    count += 1\n",
    "    x1 = ((b[0][0]) - (a[0][1]) * xold2 - (a[0][2]) * xold3) / a[0][0]\n",
    "    x2 = ((b[1][0]) - (a[1][0]) * xold1 - (a[1][2]) * xold3) / a[1][1]\n",
    "    x3 = ((b[2][0]) - (a[2][0]) * xold1 - (a[2][1]) * xold2) / a[2][2]\n",
    "    x1 = c * x1 + (1 - c) * xold1\n",
    "    x2 = c * x2 + (1 - c) * xold2\n",
    "    x3 = c * x3 + (1 - c) * xold3\n",
    "\n",
    "    if (((x1 - xold1) / x1) < es) and \\\n",
    "             ((x2-xold2)/x2 < es) and \\\n",
    "             ((x3-xold3)/x3 < es) :\n",
    "        break\n",
    "    \n",
    "\n",
    "print('with relaxation')\n",
    "print('x1=',x1)\n",
    "print('x2=',x2)\n",
    "print('x3=',x3)\n",
    "print()\n",
    "print('Total used', count, \"times.\")"
   ]
  }
 ],
 "metadata": {
  "language_info": {
   "name": "python"
  },
  "orig_nbformat": 4
 },
 "nbformat": 4,
 "nbformat_minor": 2
}
