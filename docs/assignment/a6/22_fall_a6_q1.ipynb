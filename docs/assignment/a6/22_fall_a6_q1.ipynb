{
 "cells": [
  {
   "cell_type": "markdown",
   "metadata": {},
   "source": [
    "# [2022 Fall] Assignment6-1\n",
    "\n",
    "> Course: AP3021"
   ]
  },
  {
   "cell_type": "markdown",
   "metadata": {},
   "source": [
    "## Q6-1\n",
    "\n",
    "### 1. Determine the matrix inverse."
   ]
  },
  {
   "cell_type": "code",
   "execution_count": null,
   "metadata": {},
   "outputs": [],
   "source": [
    "import numpy as np\n",
    "\n",
    "a = np.array([[15, -3, -1],\n",
    "              [-3, 18, -6],\n",
    "              [-4, -1, 12]])\n",
    "b = np.array([[3300], \n",
    "              [1200], \n",
    "              [2400]])\n",
    "\n",
    "def L(x):\n",
    "\n",
    "    f21 = x[1][0] / x[0][0]\n",
    "    f31 = x[2][0] / x[0][0]\n",
    "    x = np.array([[x[0][0], x[0][1], x[0][2]],\n",
    "                  [x[1][0] - (x[0][0] * f21), x[1][1] - (x[0][1] * f21), x[1][2] - (x[0][2] * f21)],\n",
    "                  [x[2][0] - (x[0][0] * f31), x[2][1] - (x[0][1] * f31), x[2][2] - (x[0][2] * f31)]])\n",
    "    f32 = x[2][1] / x[1][1]\n",
    "\n",
    "    return np.array([[  1,   0, 0],\n",
    "                     [f21,   1, 0],\n",
    "                     [f31, f32, 1]])\n",
    "\n",
    "\n",
    "def U(x):\n",
    "\n",
    "    a10 = x[1][0] / x[0][0]\n",
    "    a20 = x[2][0] / x[0][0]\n",
    "    x = np.array([[x[0][0], x[0][1], x[0][2]],\n",
    "                  [x[1][0] - (x[0][0] * a10), x[1][1] - (x[0][1] * a10), x[1][2] - (x[0][2] * a10)],\n",
    "                  [x[2][0] - (x[0][0] * a20), x[2][1] - (x[0][1] * a20), x[2][2] - (x[0][2] * a20)]])\n",
    "    a21 = x[2][1] / x[1][1]\n",
    "    x = np.array([[x[0][0], x[0][1], x[0][2]],\n",
    "                  [x[1][0], x[1][1], x[1][2]],\n",
    "                  [x[2][0], x[2][1] - (x[1][1] * a21), x[2][2] - (x[1][2] * a21)]])\n",
    "\n",
    "    return x\n",
    "\n",
    "\n",
    "def inverse(x):\n",
    "    LU_L = L(x)\n",
    "    LU_U = U(x)\n",
    "    inv = np.array([[0., 0., 0.],\n",
    "                    [0., 0., 0.],\n",
    "                    [0., 0., 0.]])\n",
    "\n",
    "    for i in range(0, 3):\n",
    "        if i == 0:\n",
    "            b_1 = 1\n",
    "            b_2 = 0\n",
    "            b_3 = 0\n",
    "        elif i == 1:\n",
    "            b_1 = 0\n",
    "            b_2 = 1\n",
    "            b_3 = 0\n",
    "        elif i == 2:\n",
    "            b_1 = 0\n",
    "            b_2 = 0\n",
    "            b_3 = 1\n",
    "        \n",
    "        d1 = b_1/LU_L[0][0]\n",
    "        d2 = (b_2-LU_L[1][0]*d1)/LU_L[1][1]\n",
    "        d3 = (b_3-LU_L[2][0]*d1-LU_L[2][1]*d2)/LU_L[2][2]\n",
    "        x3 = d3/LU_U[2][2]\n",
    "        x2 = (d2-LU_U[1][2]*x3)/LU_U[1][1]\n",
    "        x1 = (d1-LU_U[0][2]*x3-LU_U[0][1]*x2)/LU_U[0][0]\n",
    "        inv[0][i] = x1\n",
    "        inv[1][i] = x2\n",
    "        inv[2][i] = x3\n",
    "\n",
    "    return inv\n",
    "\n",
    "inverse_a = inverse(a)\n",
    "print(inverse_a)"
   ]
  },
  {
   "cell_type": "markdown",
   "metadata": {},
   "source": [
    "### 2. Use the inverse to determine the solution."
   ]
  },
  {
   "cell_type": "code",
   "execution_count": null,
   "metadata": {},
   "outputs": [],
   "source": [
    "x = np.dot(inverse_a, b)\n",
    "print(x)"
   ]
  },
  {
   "cell_type": "markdown",
   "metadata": {},
   "source": [
    "### 3. How much the rate of mass input to reactor 3 must be increased to induce a 10g/m3 rise in the concentration of reactor 1?"
   ]
  },
  {
   "cell_type": "code",
   "execution_count": null,
   "metadata": {},
   "outputs": [],
   "source": [
    "x[0][0] = x[0][0] - 10 \n",
    "b_new = np.dot(a, x)\n",
    "\n",
    "print('the rate of mass input to reactor3=', b_new[2][0])"
   ]
  },
  {
   "cell_type": "markdown",
   "metadata": {},
   "source": [
    "### 4. How much will the concentration in reactor 3 be reduced if the rate of mass input to reactors 1 and 2 is reduced by 700 and 350 g/day, respectively?"
   ]
  },
  {
   "cell_type": "code",
   "execution_count": null,
   "metadata": {},
   "outputs": [],
   "source": [
    "print('initial concentration in reactor3 =', x[2][0])\n",
    "\n",
    "for i in range(1, 4):\n",
    "    b[0][0] = b[0][0] - 700\n",
    "    b[1][0] = b[1][0] - 350\n",
    "    x_new = np.dot(inverse_a, b)\n",
    "\n",
    "    print('Day', i, ': the concentration in reactor3 =', x_new[2][0])"
   ]
  }
 ],
 "metadata": {
  "language_info": {
   "name": "python"
  },
  "orig_nbformat": 4
 },
 "nbformat": 4,
 "nbformat_minor": 2
}
