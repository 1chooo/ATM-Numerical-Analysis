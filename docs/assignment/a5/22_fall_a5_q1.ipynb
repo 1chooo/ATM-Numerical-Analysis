{
 "cells": [
  {
   "cell_type": "markdown",
   "metadata": {},
   "source": [
    "# [2022 Fall] Assignment5-1\n",
    "\n",
    "> Course: AP3021"
   ]
  },
  {
   "cell_type": "markdown",
   "metadata": {},
   "source": [
    "## Q5-1\n",
    "\n",
    "### Given the equations\n",
    "\n",
    "$10x_1 +2x_2 -x_3 = 27 $\n",
    "\n",
    "$-3x_1 – 6x_2 + 2x_3 = -61.5$\n",
    "\n",
    "$x_1 +x_2 +5x_3 = -21.5$\n",
    "\n",
    "1. Solve by naïve Gauss elimination. Show all steps of the computation.(手寫)\n",
    "2. Substitute your results into the original equations to check your answers."
   ]
  },
  {
   "cell_type": "markdown",
   "metadata": {},
   "source": [
    "### Solve by naïve Gauss elimination. Show all steps of the computation.(手寫)\n",
    "\n",
    "![plot](./src/A5-1-1.jpg)\n",
    "\n",
    "### Substitute your results into the original equations to check your answers.\n",
    "\n",
    "![plot](./src/A5-1-2.jpg)"
   ]
  },
  {
   "cell_type": "code",
   "execution_count": null,
   "metadata": {},
   "outputs": [],
   "source": []
  }
 ],
 "metadata": {
  "language_info": {
   "name": "python"
  },
  "orig_nbformat": 4
 },
 "nbformat": 4,
 "nbformat_minor": 2
}
