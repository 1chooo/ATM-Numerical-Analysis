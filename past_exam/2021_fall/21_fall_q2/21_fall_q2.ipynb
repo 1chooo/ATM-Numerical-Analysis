{
 "cells": [
  {
   "attachments": {},
   "cell_type": "markdown",
   "metadata": {},
   "source": [
    "# [2021 Fall] Final Exam - Question 2\n",
    "\n",
    "> Course: AP3021"
   ]
  },
  {
   "cell_type": "code",
   "execution_count": null,
   "metadata": {},
   "outputs": [],
   "source": [
    "from scipy import integrate\n",
    "from scipy.special import erf\n",
    "import numpy as np"
   ]
  },
  {
   "cell_type": "code",
   "execution_count": null,
   "metadata": {},
   "outputs": [],
   "source": [
    "def q(z):\n",
    "    qz = -6.01 * (z**8) + 4.92 * (z**7) - 0.024 * (z**4) + 0.13 * (z**3) - 0.37 * (z**2) - 1.88 * z + 20.00\n",
    "    return qz"
   ]
  },
  {
   "cell_type": "code",
   "execution_count": null,
   "metadata": {},
   "outputs": [],
   "source": [
    "Pw = 1000 * 1000 * 1000 * 1000\n",
    "g = 9.8 * 0.001\n",
    "para = 1 / (Pw * g)\n",
    "\n",
    "x = np.array([\n",
    "    0.,1.,2.,\n",
    "    3., 4., 5., \n",
    "    6., 7., 8., \n",
    "    9., 10.]\n",
    ")\n",
    "# x = np.array([0.,1000.,2000.,3000., 4000., 5000., 6000., 7000., 8000., 9000., 10000.])\n",
    "fx = q(x)\n",
    "trap = np.trapz(fx, dx=1)\n",
    "simp = integrate.simps(fx,dx=1)\n",
    "romb = integrate.romberg(q, 0, 10)\n",
    "quad = float((integrate.quadrature(q, 0.0, 10.0))[0])"
   ]
  },
  {
   "cell_type": "markdown",
   "metadata": {},
   "source": [
    "(a)"
   ]
  },
  {
   "cell_type": "code",
   "execution_count": null,
   "metadata": {},
   "outputs": [],
   "source": [
    "print('Trapezoid:', para * trap, '\\nSimpson 1/3:', para * simp, '\\nRomberg:', para * romb)"
   ]
  },
  {
   "cell_type": "markdown",
   "metadata": {},
   "source": [
    "(b)"
   ]
  },
  {
   "cell_type": "code",
   "execution_count": null,
   "metadata": {},
   "outputs": [],
   "source": [
    "print('Gauss-quadrature:', para * quad)"
   ]
  }
 ],
 "metadata": {
  "language_info": {
   "name": "python"
  },
  "orig_nbformat": 4
 },
 "nbformat": 4,
 "nbformat_minor": 2
}
