{
 "cells": [
  {
   "attachments": {},
   "cell_type": "markdown",
   "metadata": {},
   "source": [
    "# [2021 Fall] Final Exam - Question 3\n",
    "\n",
    "> Course: AP3021"
   ]
  },
  {
   "cell_type": "code",
   "execution_count": null,
   "metadata": {},
   "outputs": [],
   "source": [
    "from os.path import dirname, join as pjoin\n",
    "import scipy.io as sio\n",
    "import matplotlib.pyplot as plt\n",
    "import numpy as np"
   ]
  },
  {
   "attachments": {},
   "cell_type": "markdown",
   "metadata": {},
   "source": [
    "讀資料"
   ]
  },
  {
   "cell_type": "code",
   "execution_count": null,
   "metadata": {},
   "outputs": [],
   "source": [
    "mat_contents = sio.loadmat(r\"./data/cceqs.mat\")\n",
    "sorted(mat_contents.keys())\n",
    "#print(mat_contents)\n",
    "Tc = mat_contents['Tc'][0]\n",
    "e = mat_contents['e'][0]"
   ]
  },
  {
   "attachments": {},
   "cell_type": "markdown",
   "metadata": {},
   "source": [
    "確認資料"
   ]
  },
  {
   "cell_type": "code",
   "execution_count": null,
   "metadata": {},
   "outputs": [],
   "source": [
    "plt.scatter(Tc,e)\n",
    "plt.title(\"Vapor Pressure vs Temperature\")\n",
    "plt.ylabel(\"Vapor Pressure (Pa)\")\n",
    "plt.xlabel(\"Temperature (degree Celsius)\")\n",
    "plt.show()"
   ]
  },
  {
   "cell_type": "code",
   "execution_count": null,
   "metadata": {},
   "outputs": [],
   "source": [
    "def sig_xn(inf, power, dat):\n",
    "    sig = 0\n",
    "    for i in range(0, dat):\n",
    "        sig = sig + inf[i]**power\n",
    "    return sig"
   ]
  },
  {
   "attachments": {},
   "cell_type": "markdown",
   "metadata": {},
   "source": [
    "回傳回歸直線係數的矩陣"
   ]
  },
  {
   "cell_type": "code",
   "execution_count": null,
   "metadata": {},
   "outputs": [],
   "source": [
    "def a(x, y, dat):\n",
    "    sig_y = 0\n",
    "    sig_yy = 0\n",
    "    sig_xy = 0\n",
    "    sig_xxy = 0\n",
    "    for i in range(0, dat):\n",
    "        sig_y = sig_y + y[i]\n",
    "        sig_yy = sig_yy + y[i]**2\n",
    "        sig_xy = sig_xy + x[i] * y[i]\n",
    "        sig_xxy = sig_xxy + x[i]*x[i]*y[i]\n",
    "    linear_A = np.array([[dat, sig_xn(x, 1, dat)],\n",
    "                         [sig_xn(x, 1, dat), sig_xn(x, 2, dat)]])\n",
    "    linear_B = np.array([[sig_y],\n",
    "                         [sig_xy]])\n",
    "\n",
    "    l = np.array([[linear_A[0, 0],linear_A[0, 1]],\n",
    "                  [linear_A[1, 0]-linear_A[0, 0]*(linear_A[1, 0]/linear_A[0, 0]),linear_A[1, 1]-linear_A[0, 1]*(linear_A[1, 0]/linear_A[0, 0])]])\n",
    "    \n",
    "    a1 = (linear_B[1, 0]-(linear_B[0, 0]*(linear_A[1, 0]/linear_A[0, 0]))) / l[1, 1]  \n",
    "    a0 = (linear_B[0, 0] - l[0, 1]*a1) / l[0, 0]\n",
    "    arr_a = np.array([[a0],\n",
    "                      [a1]])\n",
    "    return arr_a"
   ]
  },
  {
   "attachments": {},
   "cell_type": "markdown",
   "metadata": {},
   "source": [
    "a_0 a_1 為回歸直線的2係數"
   ]
  },
  {
   "cell_type": "code",
   "execution_count": null,
   "metadata": {},
   "outputs": [],
   "source": [
    "def a_0(x, y, dat):\n",
    "    arr_l = a(x, y, dat)\n",
    "    return float(arr_l[0, 0])\n",
    "def a_1(x, y, dat):\n",
    "    arr_l = a(x, y, dat)\n",
    "    return float(arr_l[1, 0])"
   ]
  },
  {
   "cell_type": "code",
   "execution_count": null,
   "metadata": {},
   "outputs": [],
   "source": [
    "def linear(x):\n",
    "    a0_3 = a_0(Tc, e, len(Tc))\n",
    "    a1_3 = a_1(Tc, e, len(Tc))\n",
    "    return a0_3 + a1_3 * x"
   ]
  },
  {
   "attachments": {},
   "cell_type": "markdown",
   "metadata": {},
   "source": [
    "(a) Vapor Pressure vs Temperature(Linear)"
   ]
  },
  {
   "cell_type": "code",
   "execution_count": null,
   "metadata": {},
   "outputs": [],
   "source": [
    "xs = np.arange(-30, 35, 0.1)\n",
    "plt.title('3.(a) Vapor Pressure vs Temperature(Linear)')\n",
    "plt.xlabel('Temperature (degree Celsius)')\n",
    "plt.ylabel('Vapor Pressure (Pa)')\n",
    "plt.plot(Tc, e, 'o', label = 'data')\n",
    "plt.plot(xs, linear(xs), label = \"Regression Line\\n(y=\" + str(a_0(Tc, e, len(Tc))) + \"+\" + str(a_1(Tc, e, len(Tc))) + \"*x)\")\n",
    "plt.grid(True)\n",
    "plt.legend()\n",
    "plt.show()"
   ]
  },
  {
   "attachments": {},
   "cell_type": "markdown",
   "metadata": {},
   "source": [
    "(b) Vapor Pressure vs Temperature(exp)"
   ]
  },
  {
   "cell_type": "code",
   "execution_count": null,
   "metadata": {},
   "outputs": [],
   "source": [
    "e_ln = np.log(e)    #轉為ln\n",
    "\n",
    "def expolin(x):\n",
    "    a0_3 = a_0(Tc, e_ln, len(Tc))\n",
    "    a1_3 = a_1(Tc, e_ln, len(Tc))\n",
    "    return np.exp(a0_3 + a1_3 * x)  #轉回e\n",
    "\n",
    "plt.title('3.(b) Vapor Pressure vs Temperature(exp)')\n",
    "plt.xlabel('Temperature (degree Celsius)')\n",
    "plt.ylabel('Vapor Pressure (Pa)')\n",
    "plt.plot(Tc, e, 'o', label = 'data')\n",
    "plt.plot(xs, expolin(xs), label = \"Regression Line\\n(y=e**(\" + str(a_0(Tc, e_ln, len(Tc))) + \"+\" + str(a_1(Tc, e_ln, len(Tc))) + \"*x))\")\n",
    "plt.grid(True)\n",
    "plt.legend()\n",
    "plt.show()\n"
   ]
  }
 ],
 "metadata": {
  "language_info": {
   "name": "python"
  },
  "orig_nbformat": 4
 },
 "nbformat": 4,
 "nbformat_minor": 2
}
