{
 "cells": [
  {
   "attachments": {},
   "cell_type": "markdown",
   "metadata": {},
   "source": [
    "# [2022 Fall] Final Exam - Example Code\n",
    "\n",
    "This is the example code from TAs."
   ]
  },
  {
   "attachments": {},
   "cell_type": "markdown",
   "metadata": {},
   "source": [
    "### Romberg Intergration Example"
   ]
  },
  {
   "cell_type": "code",
   "execution_count": null,
   "metadata": {},
   "outputs": [],
   "source": [
    "from scipy import integrate\n",
    "from scipy.special import erf\n",
    "import numpy as np\n",
    "gaussian = lambda x: ((2*x) + (3/x))**2\n",
    "result = integrate.romberg(gaussian, 1, 2, show=True)"
   ]
  },
  {
   "attachments": {},
   "cell_type": "markdown",
   "metadata": {},
   "source": [
    "### Trapeziodal Rule Example"
   ]
  },
  {
   "cell_type": "code",
   "execution_count": 1,
   "metadata": {},
   "outputs": [
    {
     "name": "stdout",
     "output_type": "stream",
     "text": [
      "Romberg integration of <function vectorize1.<locals>.vfunc at 0x1071fb2e0> from [1, 2]\n",
      "\n",
      " Steps  StepSize   Results\n",
      "     1  1.000000 27.625000 \n",
      "     2  0.500000 26.312500 25.875000 \n",
      "     4  0.250000 25.955944 25.837092 25.834565 \n",
      "     8  0.125000 25.864188 25.833602 25.833370 25.833351 \n",
      "    16  0.062500 25.841060 25.833351 25.833334 25.833333 25.833333 \n",
      "    32  0.031250 25.835266 25.833334 25.833333 25.833333 25.833333 25.833333 \n",
      "\n",
      "The final result is 25.833333333536203 after 33 function evaluations.\n"
     ]
    }
   ],
   "source": [
    "x=np.array([0,1,2,3])\n",
    "fx=(x**2)*(np.exp(x))\n",
    "np.trapz(fx, dx=1)"
   ]
  },
  {
   "attachments": {},
   "cell_type": "markdown",
   "metadata": {},
   "source": [
    "### Simpson Rule Example (composite simpson (1/3))"
   ]
  },
  {
   "cell_type": "code",
   "execution_count": null,
   "metadata": {},
   "outputs": [],
   "source": [
    "integrate.simps(fx,dx=1)"
   ]
  },
  {
   "attachments": {},
   "cell_type": "markdown",
   "metadata": {},
   "source": [
    "### Gauss Quadrature Example"
   ]
  },
  {
   "cell_type": "code",
   "execution_count": 1,
   "metadata": {},
   "outputs": [
    {
     "data": {
      "text/plain": [
       "(2.498091551681014, 2.0135778822094608e-08)"
      ]
     },
     "execution_count": 1,
     "metadata": {},
     "output_type": "execute_result"
    }
   ],
   "source": [
    "from scipy import integrate\n",
    "\n",
    "f = lambda x: 1/(1+x**2)\n",
    "integrate.quadrature(f, -3.0, 3.0)"
   ]
  },
  {
   "attachments": {},
   "cell_type": "markdown",
   "metadata": {},
   "source": [
    "### Richardson Extropolation"
   ]
  },
  {
   "cell_type": "code",
   "execution_count": 3,
   "metadata": {},
   "outputs": [],
   "source": [
    "import numpy as np\n",
    "\n",
    "def f(x): \n",
    "    return np.cos(x)\n",
    "\n",
    "def fp(x): \n",
    "    return np.sin(x)\n",
    "\n",
    "fp(np.pi/4)\n",
    "\n",
    "def phi(x,h): \n",
    "    return (f(x+h)-f(x-h))/(2*h)\n",
    "\n",
    "# d = [phi(1,h) for h in [2**(-n) for n in range(5)]]\n",
    "d = [phi(np.pi/4,h) for h in [np.pi/3,np.pi/6]]"
   ]
  },
  {
   "cell_type": "code",
   "execution_count": 2,
   "metadata": {},
   "outputs": [
    {
     "data": {
      "text/plain": [
       "[-0.5847726009252571, -0.6752372371178295]"
      ]
     },
     "execution_count": 2,
     "metadata": {},
     "output_type": "execute_result"
    }
   ],
   "source": [
    "d"
   ]
  },
  {
   "cell_type": "code",
   "execution_count": 3,
   "metadata": {},
   "outputs": [],
   "source": [
    "N = len(d)\n",
    "D = np.zeros((N,N))\n",
    "D[:,0] = d\n",
    "for m in range(1,N):\n",
    "    for n in range(m,N):\n",
    "        D[n,m] = (4**m*D[n,m-1]-D[n-1,m-1])/(4**m-1)"
   ]
  },
  {
   "cell_type": "code",
   "execution_count": 4,
   "metadata": {},
   "outputs": [
    {
     "data": {
      "text/plain": [
       "array([[-0.5847726 ,  0.        ],\n",
       "       [-0.67523724, -0.70539212]])"
      ]
     },
     "execution_count": 4,
     "metadata": {},
     "output_type": "execute_result"
    }
   ],
   "source": [
    "D"
   ]
  }
 ],
 "metadata": {
  "kernelspec": {
   "display_name": "Python 3",
   "language": "python",
   "name": "python3"
  },
  "language_info": {
   "codemirror_mode": {
    "name": "ipython",
    "version": 3
   },
   "file_extension": ".py",
   "mimetype": "text/x-python",
   "name": "python",
   "nbconvert_exporter": "python",
   "pygments_lexer": "ipython3",
   "version": "3.10.1"
  },
  "orig_nbformat": 4
 },
 "nbformat": 4,
 "nbformat_minor": 2
}
