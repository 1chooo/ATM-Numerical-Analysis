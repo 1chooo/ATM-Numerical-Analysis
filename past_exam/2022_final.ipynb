{
 "cells": [
  {
   "attachments": {},
   "cell_type": "markdown",
   "metadata": {},
   "source": [
    "### 1. The given data is the temperature profile of the radiosonde.\n",
    "\n",
    "   1. Determine the vertical temperature gradient with the central difference method (10%) "
   ]
  },
  {
   "cell_type": "code",
   "execution_count": 1,
   "metadata": {},
   "outputs": [
    {
     "name": "stdout",
     "output_type": "stream",
     "text": [
      "5\n"
     ]
    }
   ],
   "source": []
  },
  {
   "attachments": {},
   "cell_type": "markdown",
   "metadata": {},
   "source": [
    "2. Determine the determine the temperature at the level of 975hPa with the Newton finite difference methods. (10%)"
   ]
  },
  {
   "cell_type": "code",
   "execution_count": 2,
   "metadata": {},
   "outputs": [
    {
     "name": "stdout",
     "output_type": "stream",
     "text": [
      "5\n"
     ]
    }
   ],
   "source": []
  },
  {
   "attachments": {},
   "cell_type": "markdown",
   "metadata": {},
   "source": [
    "3. Determine the determine the temperature at the level of 975hPa with the cubic spline method (10%)"
   ]
  },
  {
   "cell_type": "code",
   "execution_count": null,
   "metadata": {},
   "outputs": [],
   "source": []
  },
  {
   "attachments": {},
   "cell_type": "markdown",
   "metadata": {},
   "source": [
    "4. Determine the depth of inversion with the Lagrange method (10%) "
   ]
  },
  {
   "cell_type": "code",
   "execution_count": null,
   "metadata": {},
   "outputs": [],
   "source": []
  },
  {
   "attachments": {},
   "cell_type": "markdown",
   "metadata": {},
   "source": [
    "### 2. Please evaluate the total precipitable water (TPW) with the following formula. TPW= !\"!#∫ 𝑞(𝑧)𝑑𝑧$\"% , where 𝑞(𝑧) is the water vapor mixing ratio, 𝜌& is the water density (1000 [kg/m3]), g is the gravitational constant (9.8 [m/s2]) and 𝑍' is the top of atmosphere. The vertical distribution of water vapor mixing ratio (g/Kg) can be described as function of height (km) (Eq. (1)). \n",
    "\n",
    "\n",
    "𝑞(𝑧) = −6.01𝑧(+ 4.92𝑧)− 0.024𝑧*+ 0.13𝑧+− 0.37𝑧,− 1.88𝑧 + 20.00   (1) "
   ]
  },
  {
   "attachments": {},
   "cell_type": "markdown",
   "metadata": {},
   "source": [
    "1. Calculate TPW with the trapezoid, Simpson 1/3 and Romberg methods. (24%) Please use the data points from 0 to 10km with an interval of 1km. "
   ]
  },
  {
   "cell_type": "code",
   "execution_count": null,
   "metadata": {},
   "outputs": [],
   "source": []
  },
  {
   "attachments": {},
   "cell_type": "markdown",
   "metadata": {},
   "source": [
    "2. Calculate TPW with the Gauss-quadrature method (16%) "
   ]
  },
  {
   "cell_type": "code",
   "execution_count": null,
   "metadata": {},
   "outputs": [],
   "source": []
  },
  {
   "attachments": {},
   "cell_type": "markdown",
   "metadata": {},
   "source": [
    "### 3. Given pairs of temperature (°C) and saturation vapor pressure data (Pa), Please derive the Clausius–Clapeyron (C-C) equation. "
   ]
  },
  {
   "attachments": {},
   "cell_type": "markdown",
   "metadata": {},
   "source": [
    "1. Please construct the C-C equation using the LINEAR regression (25%) "
   ]
  },
  {
   "cell_type": "code",
   "execution_count": null,
   "metadata": {},
   "outputs": [],
   "source": []
  },
  {
   "attachments": {},
   "cell_type": "markdown",
   "metadata": {},
   "source": [
    "2. Please determine the goodness of fitting (5%). \n"
   ]
  },
  {
   "cell_type": "code",
   "execution_count": null,
   "metadata": {},
   "outputs": [],
   "source": []
  },
  {
   "attachments": {},
   "cell_type": "markdown",
   "metadata": {},
   "source": [
    "### 4. The given data is the ground-based Global Navigation Satellite System (GNSS) zenith total delay on 19 July 2019 with an interval of 30 min (at 15 and 45 minutes). Please apply FFT and find the diurnal component of this data set. "
   ]
  },
  {
   "cell_type": "code",
   "execution_count": null,
   "metadata": {},
   "outputs": [],
   "source": []
  }
 ],
 "metadata": {
  "kernelspec": {
   "display_name": "Python 3",
   "language": "python",
   "name": "python3"
  },
  "language_info": {
   "codemirror_mode": {
    "name": "ipython",
    "version": 3
   },
   "file_extension": ".py",
   "mimetype": "text/x-python",
   "name": "python",
   "nbconvert_exporter": "python",
   "pygments_lexer": "ipython3",
   "version": "3.10.1"
  },
  "orig_nbformat": 4,
  "vscode": {
   "interpreter": {
    "hash": "aee8b7b246df8f9039afb4144a1f6fd8d2ca17a180786b69acc140d282b71a49"
   }
  }
 },
 "nbformat": 4,
 "nbformat_minor": 2
}
