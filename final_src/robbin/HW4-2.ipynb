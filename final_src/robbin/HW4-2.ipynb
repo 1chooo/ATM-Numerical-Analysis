{
 "cells": [
  {
   "cell_type": "markdown",
   "source": [],
   "metadata": {
    "collapsed": false,
    "pycharm": {
     "name": "#%% md\n"
    }
   }
  },
  {
   "cell_type": "code",
   "execution_count": 5,
   "outputs": [],
   "source": [
    "import numpy as np"
   ],
   "metadata": {
    "collapsed": false,
    "pycharm": {
     "name": "#%%\n"
    }
   }
  },
  {
   "cell_type": "code",
   "execution_count": 19,
   "outputs": [
    {
     "name": "stdout",
     "output_type": "stream",
     "text": [
      "approximate relative error: 0.006512%\n",
      "The temperature is: 299.933594k\n"
     ]
    }
   ],
   "source": [
    "# data\n",
    "ea = 1     # approximate relative error\n",
    "Et = 0.05  # true error\n",
    "\n",
    "xl = 273   # lower bond of x\n",
    "xu = 313   # upper bond of x\n",
    "\n",
    "xr_before = 0\n",
    "xr_current = (xl + xu) / 2\n",
    "\n",
    "iteration_time = np.math.ceil((np.math.log((xu - xl) / Et, 2))) # the smallest integer greater than or equal to x\n",
    "\n",
    "\n",
    "# function definition\n",
    "def func(Osf, Ta):\n",
    "    return -139.34411 + (1.575701 * 10**5 / Ta) - (6.642308 * 10**7 / Ta**2)\\\n",
    "           + (1.243800 * 10**10 / Ta**3) - (8.621949 * 10**11 / Ta**4) - np.log(Osf)\n",
    "\n",
    "def x_range_decision(xl_local, xu_local):\n",
    "    xr_local = (xl_local + xu_local) / 2\n",
    "\n",
    "    judgement = func(Osf, xl_local) * func(Osf, xr_local)\n",
    "    if judgement < 0:\n",
    "        return xl_local, xr_local # xu <- xr\n",
    "    elif judgement > 0:\n",
    "        return xr_local, xu_local # xl <- xr\n",
    "    else:\n",
    "        if func(Osf, xl_local) == 0:\n",
    "            return xl_local, xl_local # xl_local is an answer\n",
    "        else:\n",
    "            return xr_local, xr_local # xr_local is an answer\n",
    "\n",
    "\n",
    "# evaluate\n",
    "Osf = int(input(\"Choose a value of Osf you want: \"))\n",
    "for iteration_count in range(iteration_time):\n",
    "    xr_before = xr_current\n",
    "    #-------------------------------------- a new iteration\n",
    "    xl, xu = x_range_decision(xl, xu)\n",
    "    xr_current = (xl + xu) / 2\n",
    "\n",
    "ea = abs((xr_current - xr_before) / xr_current)\n",
    "print(\"approximate relative error: %f%c\" % (ea * 100, '%'))\n",
    "print(\"The temperature is: %fk\" % xr_current)"
   ],
   "metadata": {
    "collapsed": false,
    "pycharm": {
     "name": "#%%\n"
    }
   }
  },
  {
   "cell_type": "code",
   "execution_count": null,
   "outputs": [],
   "source": [],
   "metadata": {
    "collapsed": false,
    "pycharm": {
     "name": "#%%\n"
    }
   }
  }
 ],
 "metadata": {
  "kernelspec": {
   "display_name": "Python 3",
   "language": "python",
   "name": "python3"
  },
  "language_info": {
   "codemirror_mode": {
    "name": "ipython",
    "version": 2
   },
   "file_extension": ".py",
   "mimetype": "text/x-python",
   "name": "python",
   "nbconvert_exporter": "python",
   "pygments_lexer": "ipython2",
   "version": "2.7.6"
  }
 },
 "nbformat": 4,
 "nbformat_minor": 0
}