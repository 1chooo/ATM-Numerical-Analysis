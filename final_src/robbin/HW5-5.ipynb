{
 "cells": [
  {
   "cell_type": "markdown",
   "source": [
    "### 平衡反應式：\n",
    "##### $\\bullet$ $H_2O + CO_2 \\rightleftharpoons H_2CO_3$\n",
    "##### $\\bullet$ $H_2CO_3 \\rightleftharpoons HCO_3^- + H^+$\n",
    "##### $\\bullet$ $HCO_3^- \\rightleftharpoons CO_3^{2-} + H^+$\n",
    "##### $\\bullet$ $H_2O \\rightleftharpoons OH^- + H^+$\n",
    "### 平衡常數：\n",
    "##### $K_h = \\frac{[H_2CO_3]^1}{[CO_2]^1} = 1.70 \\times 10^{-3}$\n",
    "### 酸解離常數：\n",
    "##### $K_{a1}' = \\frac{[H^+][HCO_3^-]}{[H_2CO_3]} = 2.5 \\times 10^{-4}$\n",
    "##### $K_{a1} = \\frac{[H^+][HCO_3^-]}{[CO_2]} = 10^6\\frac{[H^+][HCO_3^-]}{K_H \\cdot p_{CO_2}} = 4.3 \\times 10^{-7}$\n",
    "##### (因為這邊$p_{CO_2}$的單位是$ppm$，所以乘$10^6$)\n",
    "##### $K_{a2} = \\frac{[H^+][CO_3^{2-}]}{[HCO_3^-]} = 5.61 \\times 10^{-11}$\n",
    "### 亨利定律(Henry’s law)：\n",
    "##### 對於難溶於水或微溶於水的氣體，氣體壓力(P)與氣體溶解度(c)之間呈線性關係（正比）\n",
    "##### $p = kc$\n",
    "##### p 指溶液上的氣體分壓(partial pressure)；c 是溶液的體積莫耳濃度(molar concentration)；k 則是亨利常數，k 會因溶劑和溫度的不同而變化。\n",
    "### 聯立方程組：\n",
    "##### $[HCO_3^-] = \\frac{K_{a1}}{10^6 \\times [H^+]} K_H \\cdot p_{CO_2} $"
   ],
   "metadata": {
    "collapsed": false,
    "pycharm": {
     "name": "#%% md\n"
    }
   }
  },
  {
   "cell_type": "code",
   "execution_count": null,
   "outputs": [],
   "source": [],
   "metadata": {
    "collapsed": false,
    "pycharm": {
     "name": "#%%\n"
    }
   }
  }
 ],
 "metadata": {
  "kernelspec": {
   "display_name": "Python 3",
   "language": "python",
   "name": "python3"
  },
  "language_info": {
   "codemirror_mode": {
    "name": "ipython",
    "version": 2
   },
   "file_extension": ".py",
   "mimetype": "text/x-python",
   "name": "python",
   "nbconvert_exporter": "python",
   "pygments_lexer": "ipython2",
   "version": "2.7.6"
  }
 },
 "nbformat": 4,
 "nbformat_minor": 0
}