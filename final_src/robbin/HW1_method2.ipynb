{
 "cells": [
  {
   "cell_type": "code",
   "execution_count": 16,
   "id": "feabd596",
   "metadata": {},
   "outputs": [],
   "source": [
    "import numpy as np"
   ]
  },
  {
   "cell_type": "code",
   "execution_count": 19,
   "id": "494d3de8",
   "metadata": {
    "pycharm": {
     "name": "#%%\n"
    }
   },
   "outputs": [
    {
     "name": "stdout",
     "output_type": "stream",
     "text": [
      "What point you want to generate the taylor polynomial?\n",
      "5\n",
      "How many significant figures you want to get?\n",
      "5\n",
      "What point you want to see?\n",
      "0\n",
      "tolerance = 0.000500\t order = 0\t y_ploy = 0.283662\n",
      "relative_error = 106.288290tolerance = 0.000500\t order = 1\t y_ploy = -4.510959\n",
      "relative_error = 44.010094tolerance = 0.000500\t order = 2\t y_ploy = -8.056737\n",
      "relative_error = 167.585237tolerance = 0.000500\t order = 3\t y_ploy = 11.920853\n",
      "relative_error = 38.259160tolerance = 0.000500\t order = 4\t y_ploy = 19.307889\n",
      "relative_error = 440.881985tolerance = 0.000500\t order = 5\t y_ploy = -5.664098\n",
      "relative_error = 52.080234tolerance = 0.000500\t order = 6\t y_ploy = -11.819961\n",
      "relative_error = 488.263217tolerance = 0.000500\t order = 7\t y_ploy = 3.044316\n",
      "relative_error = 47.443550tolerance = 0.000500\t order = 8\t y_ploy = 5.792470\n",
      "relative_error = 817.601104tolerance = 0.000500\t order = 9\t y_ploy = 0.631262\n",
      "relative_error = 577.817715tolerance = 0.000500\t order = 10\t y_ploy = -0.132114\n",
      "relative_error = 112.692395tolerance = 0.000500\t order = 11\t y_ploy = 1.040888\n",
      "relative_error = 12.195935tolerance = 0.000500\t order = 12\t y_ploy = 1.185467\n",
      "relative_error = 18.845485tolerance = 0.000500\t order = 13\t y_ploy = 0.997486\n",
      "relative_error = 2.031423tolerance = 0.000500\t order = 14\t y_ploy = 0.977626\n",
      "relative_error = 2.237859tolerance = 0.000500\t order = 15\t y_ploy = 1.000005\n",
      "relative_error = 0.206444tolerance = 0.000500\t order = 16\t y_ploy = 1.002074\n",
      "relative_error = 0.205683tolerance = 0.000500\t order = 17\t y_ploy = 1.000017\n",
      "relative_error = 0.016904tolerance = 0.000500\t order = 18\t y_ploy = 0.999848\n",
      "relative_error = 0.015036tolerance = 0.000500\t order = 19\t y_ploy = 0.999998\n",
      "relative_error = 0.001112tolerance = 0.000500\t order = 20\t y_ploy = 1.000009\n",
      "relative_error = 0.000895tolerance = 0.000500\t order = 21\t y_ploy = 1.000000\n",
      "relative_error = 0.000060tolerance = 0.000500\t order = 22\t y_ploy = 1.000000\n"
     ]
    }
   ],
   "source": [
    "def relative_error(current_approx, previous_approx):\n",
    "    return abs((current_approx - previous_approx) / current_approx) * 100\n",
    "\n",
    "\n",
    "def factorial(n):\n",
    "    f_sum = 1\n",
    "    for i in range(1, n + 1):\n",
    "        f_sum = f_sum * i\n",
    "    return f_sum\n",
    "\n",
    "\n",
    "def taylor_polynomial_of_cosine(x, a, order):\n",
    "    y = 0\n",
    "    for i in range(0, order + 1):\n",
    "        if i % 4 == 0:\n",
    "            y += ((np.cos(a) / factorial(i)) * ((x - a) ** i))\n",
    "        elif i % 4 == 1:\n",
    "            y += ((-np.sin(a) / factorial(i)) * ((x - a) ** i))\n",
    "        elif i % 4 == 2:\n",
    "            y += ((-np.cos(a) / factorial(i)) * ((x - a) ** i))\n",
    "        elif i % 4 == 3:\n",
    "            y += ((np.sin(a) / factorial(i)) * ((x - a) ** i))\n",
    "    return y\n",
    "\n",
    "\n",
    "# ---------------------------------------\n",
    "\n",
    "a = float(input(\"What point you want to generate the taylor polynomial?\\n\"))\n",
    "significant_figures = int(input(\"How many significant figures you want to get?\\n\"))\n",
    "x0 = float(input(\"What point you want to see?\\n\"))\n",
    "tolerance = 0.5 * (10 ** (2 - significant_figures))\n",
    "\n",
    "# --------------------------------------- set the environment of figure\n",
    "\n",
    "order = 0\n",
    "terminate = False\n",
    "\n",
    "while terminate == False:\n",
    "    \n",
    "    previous_y0_poly = taylor_polynomial_of_cosine(x0, a, order-1)\n",
    "    y0_poly = taylor_polynomial_of_cosine(x0, a, order)\n",
    "    y0_reference = np.cos(x0)\n",
    "    \n",
    "    if order >= 1:\n",
    "        print(\"relative_error = %f\" % relative_error(y0_poly, previous_y0_poly), end = '')\n",
    "        \n",
    "    print(\"tolerance = %f\\t order = %d\\t y_ploy = %f\" % (tolerance, order, y0_poly))\n",
    "    \n",
    "    if (relative_error(y0_poly, previous_y0_poly) <= tolerance) and (y0_poly != previous_y0_poly):\n",
    "        terminate = True\n",
    "    \n",
    "    order += 1\n",
    "\n",
    "# ---------------------------------------\n"
   ]
  },
  {
   "cell_type": "code",
   "execution_count": null,
   "id": "b0b303dc",
   "metadata": {},
   "outputs": [],
   "source": []
  }
 ],
 "metadata": {
  "kernelspec": {
   "display_name": "Python 3 (ipykernel)",
   "language": "python",
   "name": "python3"
  },
  "language_info": {
   "codemirror_mode": {
    "name": "ipython",
    "version": 3
   },
   "file_extension": ".py",
   "mimetype": "text/x-python",
   "name": "python",
   "nbconvert_exporter": "python",
   "pygments_lexer": "ipython3",
   "version": "3.9.7"
  }
 },
 "nbformat": 4,
 "nbformat_minor": 5
}
