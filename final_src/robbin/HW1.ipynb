{
 "cells": [
  {
   "cell_type": "code",
   "execution_count": 1,
   "outputs": [
    {
     "name": "stdout",
     "output_type": "stream",
     "text": [
      "Using matplotlib backend: <object object at 0x7fa288182d20>\n"
     ]
    }
   ],
   "source": [
    "%matplotlib\n",
    "import numpy as np\n",
    "import matplotlib.pyplot as plt \n",
    "import matplotlib.animation as animation\n",
    "\n",
    "\n",
    "# ---------------------------------------"
   ],
   "metadata": {
    "collapsed": false,
    "pycharm": {
     "name": "#%%\n"
    }
   }
  },
  {
   "cell_type": "code",
   "execution_count": 6,
   "outputs": [
    {
     "name": "stdout",
     "output_type": "stream",
     "text": [
      "<class 'matplotlib.axes._axes.Axes'>\n"
     ]
    }
   ],
   "source": [
    "\n",
    "\n",
    "def relative_error(current_approx, previous_approx):\n",
    "    return abs((current_approx - previous_approx) / current_approx) * 100\n",
    "\n",
    "\n",
    "def factorial(n):\n",
    "    f_sum = 1\n",
    "    for i in range(1, n + 1):\n",
    "        f_sum = f_sum * i\n",
    "    return f_sum\n",
    "\n",
    "\n",
    "def taylor_polynomial_of_cosine(x, a, order):\n",
    "    y = 0\n",
    "    for i in range(0, order + 1):\n",
    "        if i % 4 == 0:\n",
    "            y += ((np.cos(a) / factorial(i)) * ((x - a) ** i))\n",
    "        elif i % 4 == 1:\n",
    "            y += ((-np.sin(a) / factorial(i)) * ((x - a) ** i))\n",
    "        elif i % 4 == 2:\n",
    "            y += ((-np.cos(a) / factorial(i)) * ((x - a) ** i))\n",
    "        elif i % 4 == 3:\n",
    "            y += ((np.sin(a) / factorial(i)) * ((x - a) ** i))\n",
    "    return y\n",
    "\n",
    "\n",
    "def update(frame):\n",
    "    y = taylor_polynomial_of_cosine(x, a, frame)\n",
    "    taylor_polynomial.set_data(x, y)\n",
    "    previous_y0_ploy = taylor_polynomial_of_cosine(x0, a, frame-1)\n",
    "    y0_poly = taylor_polynomial_of_cosine(x0, a, frame)\n",
    "    if frame >= 1:\n",
    "        relative_error_text.set_text('relative_error=%f' % relative_error(y0_poly, previous_y0_ploy))\n",
    "    view_point_poly.set_data(x0, y0_poly)\n",
    "    order_text.set_text('order= ' + str(frame))\n",
    "    if (relative_error(y0_poly, previous_y0_ploy) <= tolerance) and (y0_poly != previous_y0_ploy):\n",
    "        ani.event_source.stop()\n",
    "    return taylor_polynomial,\n",
    "\n",
    "\n",
    "# ---------------------------------------\n",
    "\n",
    "a = float(input(\"What point you want to generate the taylor polynomial?\\n\"))\n",
    "significant_figures = int(input(\"How many significant figures you want to get?\\n\"))\n",
    "x0 = float(input(\"What point you want to see?\\n\"))\n",
    "tolerance = 0.5 * (10 ** (2 - significant_figures))\n",
    "\n",
    "# --------------------------------------- set the environment of figure\n",
    "\n",
    "fig = plt.figure()\n",
    "ax = fig.add_axes([0, 0, 1, 1])\n",
    "print(type(ax))\n",
    "ax.grid(ls='--')\n",
    "relative_error_text = ax.text(5, 2.8, '', fontsize=12)\n",
    "tolerance_text = ax.text(5, 2.3, 'tolerance= ' + str(tolerance), fontsize=12)\n",
    "order_text = ax.text(5, 3.2, '', fontsize=12)\n",
    "ax.set_xlim([-20, 20])\n",
    "ax.set_ylim([-5, 5])\n",
    "\n",
    "# --------------------------------------- \n",
    "\n",
    "xReference = np.linspace(-20, 20, 1000)\n",
    "yReference = np.cos(xReference)\n",
    "\n",
    "x = np.linspace(-20, 20, 1000)\n",
    "y = taylor_polynomial_of_cosine(x, a, 0)\n",
    "\n",
    "y0_reference = np.cos(x0)\n",
    "\n",
    "# ---------------------------------------\n",
    "\n",
    "reference_function = ax.plot(xReference, yReference)\n",
    "taylor_polynomial, = ax.plot(x, y)\n",
    "view_point_reference = ax.plot(x0, y0_reference, color='red', marker='o', markersize=6, markeredgecolor='black', linestyle='')\n",
    "view_point_poly, = ax.plot([], [], color='aqua', marker='o', markersize=4, markeredgecolor='black', linestyle='')\n",
    "\n",
    "ani = animation.FuncAnimation(fig=fig, func=update, frames=[i for i in range(0, 41)], interval=500)\n",
    "\n",
    "# ---------------------------------------\n",
    "\n",
    "#ani.save('taylor.mp4')\n",
    "plt.show()"
   ],
   "metadata": {
    "collapsed": false,
    "pycharm": {
     "name": "#%%\n"
    }
   }
  },
  {
   "cell_type": "code",
   "execution_count": null,
   "outputs": [],
   "source": [],
   "metadata": {
    "collapsed": false,
    "pycharm": {
     "name": "#%%\n"
    }
   }
  }
 ],
 "metadata": {
  "kernelspec": {
   "display_name": "Python 3 (ipykernel)",
   "language": "python",
   "name": "python3"
  },
  "language_info": {
   "codemirror_mode": {
    "name": "ipython",
    "version": 3
   },
   "file_extension": ".py",
   "mimetype": "text/x-python",
   "name": "python",
   "nbconvert_exporter": "python",
   "pygments_lexer": "ipython3",
   "version": "3.9.7"
  }
 },
 "nbformat": 4,
 "nbformat_minor": 5
}