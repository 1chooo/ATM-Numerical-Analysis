{
 "cells": [
  {
   "cell_type": "code",
   "execution_count": 1,
   "id": "7583f971",
   "metadata": {},
   "outputs": [
    {
     "name": "stdout",
     "output_type": "stream",
     "text": [
      "True value= 98.42768461593835\n",
      "Trapezoidal= 122.65942237852616 relative error= 24.61882330884778 %\n",
      "Simpson's 1/3 rule= 110.28481187148388 relative error= 12.046536807008785 %\n"
     ]
    }
   ],
   "source": [
    "#21.6\n",
    "import numpy as np\n",
    "from scipy import integrate\n",
    "x=np.array([0,1,2,3])\n",
    "fx=(x**2)*(np.exp(x))\n",
    "true_value = 5*np.exp(3)-2\n",
    "\n",
    "trap = np.trapz(fx, dx=1)\n",
    "simpson13 = integrate.simps(fx,dx=1)\n",
    "ea_trap = abs((trap-true_value)/true_value)\n",
    "ea_simpson13 = abs((simpson13-true_value)/true_value)\n",
    "print(\"True value=\",true_value)\n",
    "print(\"Trapezoidal=\",trap,\"relative error=\",ea_trap*100,\"%\")\n",
    "print(\"Simpson's 1/3 rule=\",simpson13,\"relative error=\",ea_simpson13*100,\"%\")\n",
    "\n"
   ]
  },
  {
   "cell_type": "code",
   "execution_count": 2,
   "id": "9dec6692",
   "metadata": {},
   "outputs": [
    {
     "name": "stdout",
     "output_type": "stream",
     "text": [
      "Trapezoidal= 1.0688000000000115\n",
      "True value 1.640533\n",
      "Relative error= 34.850441899065025 %\n"
     ]
    }
   ],
   "source": [
    "#21.16\n",
    "import numpy as np\n",
    "from scipy import integrate\n",
    "true_value = 1.640533\n",
    "x = np.array([0,0.4,0.8])\n",
    "fx = 0.2 + 25*x - 200*x**2 + 675*x**3 - 900*x**4 + 400*x**5\n",
    "trap = np.trapz(fx, dx=0.4)\n",
    "ea = abs((trap - true_value)/true_value)\n",
    "print('Trapezoidal=',trap)\n",
    "print('True value',true_value)\n",
    "print('Relative error=',ea*100,\"%\")"
   ]
  },
  {
   "cell_type": "code",
   "execution_count": 9,
   "id": "b788e352",
   "metadata": {},
   "outputs": [
    {
     "name": "stdout",
     "output_type": "stream",
     "text": [
      "x=0~2用梯形法\n",
      "x=3~6用Simpsons 1/3\n",
      "x=6~10用Simpson's 3/8\n",
      "Total mass 430.8779166666667 kg\n"
     ]
    }
   ],
   "source": [
    "#21.24\n",
    "x = [0,2,3,4,6,8,10]\n",
    "p = [4.00,3.95,3.89,3.80,3.60,3.41,3.30]\n",
    "ac = [100,103,106,110,120,133,150]\n",
    "y = []\n",
    "for i in range(7):\n",
    "    y.append(p[i]*ac[i]*100/1000)  #單位換算g/cm變成kg/m\n",
    "\n",
    "#梯形面積\n",
    "a1 = (y[0]+y[1])*2/2\n",
    "#Simpson's 1/3 rule\n",
    "a2 = (x[3]-x[1])*(y[1]+4*y[2]+y[3])/6   \n",
    "#Simpson's 3/8 rule\n",
    "a3 = (x[6]-x[3])*(y[3]+3*y[4]+3*y[5]+y[6])/8  \n",
    "\n",
    "a_total = a1+a2+a3\n",
    "print(\"x=0~2用梯形法\")\n",
    "print(\"x=3~6用Simpsons 1/3\")\n",
    "print(\"x=6~10用Simpson's 3/8\")\n",
    "print(\"Total mass\",a_total,\"kg\")"
   ]
  },
  {
   "cell_type": "code",
   "execution_count": 13,
   "id": "85382a81",
   "metadata": {},
   "outputs": [
    {
     "name": "stdout",
     "output_type": "stream",
     "text": [
      "Romberg integration of <function vectorize1.<locals>.vfunc at 0x000002643C924DC0> from [1, 2]\n",
      "\n",
      " Steps  StepSize   Results\n",
      "     1  1.000000 27.625000 \n",
      "     2  0.500000 26.312500 25.875000 \n",
      "     4  0.250000 25.955944 25.837092 25.834565 \n",
      "     8  0.125000 25.864188 25.833602 25.833370 25.833351 \n",
      "    16  0.062500 25.841060 25.833351 25.833334 25.833333 25.833333 \n",
      "    32  0.031250 25.835266 25.833334 25.833333 25.833333 25.833333 25.833333 \n",
      "\n",
      "The final result is 25.833333333536203 after 33 function evaluations.\n",
      "第 1 次 \n",
      "Relative approximate error= 25.0 %\n",
      "Relative absolute error= 33.966161947598394 %\n",
      "Integral value= 34.60792517006803\n",
      "第 2 次 \n",
      "Relative approximate error= 2.2727272727272716 %\n",
      "Relative absolute error= 1.7581479050945081 %\n",
      "Integral value= 25.379145124716555\n",
      "第 3 次 \n",
      "Relative approximate error= 0.03526093088857349 %\n",
      "Relative absolute error= 0.5100622442828161 %\n",
      "Integral value= 25.9650994133103\n"
     ]
    }
   ],
   "source": [
    "#22.2\n",
    "import numpy as np\n",
    "import math\n",
    "from scipy import integrate\n",
    "from scipy.special import erf\n",
    "\n",
    "y = lambda x: (2*x + 3/x)**2\n",
    "\n",
    "result = integrate.romberg(y, 1, 2,show=True)  \n",
    "\n",
    "\n",
    "a = 1  \n",
    "b = 2\n",
    "\n",
    "#梯形積分\n",
    "def trapz(f,a,b,k=4):\n",
    "    x = np.linspace(a,b,k+1) # k+1會有k個間隔\n",
    "    y = f(x)        #Integration \n",
    "    y_right = y[1:] #最右邊的點\n",
    "    y_left = y[:-1] #最左邊的點\n",
    "    dx = (b - a)/k\n",
    "    T = (dx/2) * np.sum(y_right + y_left)\n",
    "    return T\n",
    "\n",
    "#Initialize\n",
    "I = np.zeros((10,10)) #可以存到I10\n",
    "ea = 100 \n",
    "n = 1 \n",
    "i = 1\n",
    "I[0,0] = trapz(y,a,b)\n",
    "\n",
    "true_value = 25.833333333536203  \n",
    "while ea > 0.0005: \n",
    "    n = 2**i   \n",
    "    I[i+1,1] = trapz(y,a,b)\n",
    "    for k in range(2,i+2):  \n",
    "        j = 2+i-k\n",
    "        I[j,k] = ((4**(k-1))*I[j+1,k-1] - I[j,k-1])/(4**(k-1)-1)\n",
    "    \n",
    "    ea = abs((I[1,i+1]-I[2,i])/I[1,i+1])\n",
    "    et = abs((true_value-I[1,i+1])/true_value)\n",
    "\n",
    "    print(\"第\",i,\"次 \")\n",
    "    print(\"Relative approximate error=\",ea*100,\"%\")\n",
    "    print(\"Relative absolute error=\",et*100,\"%\")\n",
    "    print(\"Integral value=\",I[1,i+1])\n",
    "    i = i+1"
   ]
  },
  {
   "cell_type": "code",
   "execution_count": 10,
   "id": "23b444f8",
   "metadata": {},
   "outputs": [
    {
     "name": "stdout",
     "output_type": "stream",
     "text": [
      "2 point:\n",
      "Integral value= 1.5000000007389933\n",
      "True error= 0.007407407407407408\n",
      "Relative approximate error= 39.954124921880585 %\n",
      "3 point:\n",
      "Integral value= 3.1875000752740026\n",
      "True error= 6.349206349206349e-05\n",
      "Relative approximate error= 27.597487491403538 %\n",
      "4 point:\n",
      "Integral value= 2.1897811167343106\n",
      "True error= 2.879458661771587e-07\n",
      "Relative approximate error= 12.34178445395039 %\n",
      "5 point:\n",
      "Integral value= 2.6716982064704835\n",
      "True error= 8.079289174443286e-10\n",
      "Relative approximate error= 6.9496377820848565 %\n",
      "6 point:\n",
      "Integral value= 2.41135636865228\n",
      "True error= 1.5408688826020251e-12\n",
      "Relative approximate error= 3.4719978602740516 %\n"
     ]
    }
   ],
   "source": [
    "#22.8\n",
    "import numpy as np\n",
    "import math\n",
    "\n",
    "def f(x):\n",
    "    return 1/(1+x**2)\n",
    "\n",
    "def e(n):\n",
    "    return (((2**(2*n+3))*((math.factorial(n+1))**4))/((2*n+3)*(math.factorial(2*n+2)**3)))\n",
    "\n",
    "\n",
    "#先改積分變成-1到1 (原上界=3,下界=-3)\n",
    "#新的x=3x  新的dx=3dx\n",
    "true_value = 2.49809\n",
    "a = -1 \n",
    "b = 1\n",
    "\n",
    "#新方程式，x_old = 3x_new\n",
    "def f_new(x): \n",
    "    return 3/(1+9*(x**2))\n",
    "\n",
    "n2 = [1.0,1.0]\n",
    "x2 = [-0.577350269,0.577350269]\n",
    "n3 = [0.5555556,0.8888889,0.5555556]\n",
    "x3 = [-0.774596669,0,0.774596669]\n",
    "n4 = [0.3478548,0.6521452,0.6521452,0.3478548]\n",
    "x4 = [-0.861136312,-0.339981044,0.339981044,0.861136312]\n",
    "n5 = [0.2369269,0.4786287,0.5688889,0.4786287,0.2369269]\n",
    "x5 = [-0.906179846,-0.538469310,0,0.538469310,0.906179846]\n",
    "n6 = [0.1713245,0.3607616,0.4679139,0.4679139,0.3607616,0.1713245]\n",
    "x6 = [-0.932469514,-0.661209386,-0.238619186,0.238619186,0.661209386,0.932469514]\n",
    "\n",
    "I2 = n2[0]*f_new(x2[0])+n2[1]*f_new(x2[1])\n",
    "I3 = n3[0]*f_new(x3[0])+n3[1]*f_new(x3[1])+n3[2]*f_new(x3[2])\n",
    "I4 = n4[0]*f_new(x4[0])+n4[1]*f_new(x4[1])+n4[2]*f_new(x4[2])+n4[3]*f_new(x4[3])\n",
    "I5 = n5[0]*f_new(x5[0])+n5[1]*f_new(x5[1])+n5[2]*f_new(x5[2])+n5[3]*f_new(x5[3])+n5[4]*f_new(x5[4])\n",
    "I6 = n6[0]*f_new(x6[0])+n6[1]*f_new(x6[1])+n6[2]*f_new(x6[2])+n6[3]*f_new(x6[3])+n6[4]*f_new(x6[4])+n6[5]*f_new(x6[5])\n",
    "\n",
    "print(\"2 point:\")\n",
    "print(\"Integral value=\",I2)\n",
    "print(\"True error=\",e(1))\n",
    "print(\"Relative true error=\",abs((true_value-I2)/true_value*100),\"%\")\n",
    "print(\"3 point:\")\n",
    "print(\"Integral value=\",I3)\n",
    "print(\"True error=\",e(2))\n",
    "print(\"Relative true error=\",abs((true_value-I3)/true_value*100),\"%\")\n",
    "print(\"4 point:\")\n",
    "print(\"Integral value=\",I4)\n",
    "print(\"True error=\",e(3))\n",
    "print(\"Relative true error=\",abs((true_value-I4)/true_value*100),\"%\")\n",
    "print(\"5 point:\")\n",
    "print(\"Integral value=\",I5)\n",
    "print(\"True error=\",e(4))\n",
    "print(\"Relative true error=\",abs((true_value-I5)/true_value*100),\"%\")\n",
    "print(\"6 point:\")\n",
    "print(\"Integral value=\",I6)\n",
    "print(\"True error=\",e(5))\n",
    "print(\"Relative true error=\",abs((true_value-I6)/true_value*100),\"%\")"
   ]
  },
  {
   "cell_type": "code",
   "execution_count": 10,
   "id": "994c579d",
   "metadata": {},
   "outputs": [
    {
     "name": "stdout",
     "output_type": "stream",
     "text": [
      "Richarson extrapolation= -0.7053921158486869\n",
      "True value= -0.7071067811865476\n",
      "Relative error= 0.00242490297573363\n"
     ]
    }
   ],
   "source": [
    "#23.4\n",
    "import numpy as np\n",
    "def y(x):\n",
    "    return np.cos(x)\n",
    "def y2(x):\n",
    "    return -np.sin(x)\n",
    "\n",
    "x = np.pi/4\n",
    "h1 = np.pi/3\n",
    "h2 = np.pi/6\n",
    "\n",
    "d1 = (y(x+h1) - y(x-h1))/(2*h1)\n",
    "d2 = (y(x+h2) - y(x-h2))/(2*h2)\n",
    "d = d2*4/3 - d1*1/3\n",
    "\n",
    "print('Richarson extrapolation=',d)\n",
    "print('True value=',y2(x))\n",
    "print('Relative error=',abs(y2(x)-d)/abs(y2(x)))"
   ]
  },
  {
   "cell_type": "code",
   "execution_count": 16,
   "id": "9ef0e0a6",
   "metadata": {},
   "outputs": [
    {
     "name": "stdout",
     "output_type": "stream",
     "text": [
      "rocket's velocity at t= 0 v= 1.28 km/s\n",
      "rocket's velocity at t= 25 v= 1.16 km/s\n",
      "rocket's velocity at t= 50 v= 0.92 km/s\n",
      "rocket's velocity at t= 75 v= 0.68 km/s\n",
      "rocket's velocity at t= 100 v= 0.44 km/s\n",
      "rocket's velocity at t= 125 v= 0.32 km/s\n"
     ]
    }
   ],
   "source": [
    "#23.9\n",
    "t = [0,25,50,75,100,125]\n",
    "y = [0,32,58,78,92,100]\n",
    "h = 25\n",
    "\n",
    "def mid_df(x):\n",
    "    return (y[x+1] - y[x-1])/(2*h)\n",
    "\n",
    "def front_df(x):\n",
    "    return (y[x+1] - y[x])/h\n",
    "\n",
    "def back_df(x):\n",
    "    return (y[x] - y[x-1])/h\n",
    "\n",
    "\n",
    "v = []\n",
    "for i in range(0,len(t)):\n",
    "        if i == 0:\n",
    "            v.append(front_df(i))\n",
    "        elif i == 5:\n",
    "            v.append(back_df(i))\n",
    "        else:\n",
    "            v.append(mid_df(i))\n",
    "for j in range(6):\n",
    "    print(\"rocket's velocity at t=\",t[j],\"v=\",v[j],\"km/s\")\n",
    "            "
   ]
  },
  {
   "cell_type": "code",
   "execution_count": null,
   "id": "2623ac8c",
   "metadata": {},
   "outputs": [],
   "source": []
  }
 ],
 "metadata": {
  "kernelspec": {
   "display_name": "Python 3",
   "language": "python",
   "name": "python3"
  },
  "language_info": {
   "codemirror_mode": {
    "name": "ipython",
    "version": 3
   },
   "file_extension": ".py",
   "mimetype": "text/x-python",
   "name": "python",
   "nbconvert_exporter": "python",
   "pygments_lexer": "ipython3",
   "version": "3.8.8"
  }
 },
 "nbformat": 4,
 "nbformat_minor": 5
}
