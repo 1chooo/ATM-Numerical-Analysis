{
 "cells": [
  {
   "attachments": {},
   "cell_type": "markdown",
   "metadata": {},
   "source": [
    "# 2023 Final Exam \n",
    "\n",
    "### Course: AP3021\n",
    "\n",
    "## Question 3"
   ]
  },
  {
   "cell_type": "code",
   "execution_count": 11,
   "metadata": {},
   "outputs": [],
   "source": [
    "import scipy.io as sio\n",
    "import matplotlib.pyplot as plt\n",
    "import numpy as np"
   ]
  },
  {
   "attachments": {},
   "cell_type": "markdown",
   "metadata": {},
   "source": [
    "### 讀資料"
   ]
  },
  {
   "cell_type": "code",
   "execution_count": 12,
   "metadata": {},
   "outputs": [
    {
     "name": "stdout",
     "output_type": "stream",
     "text": [
      "66\n",
      "[-30 -29 -28 -27 -26 -25 -24 -23 -22 -21 -20 -19 -18 -17 -16 -15 -14 -13\n",
      " -12 -11 -10  -9  -8  -7  -6  -5  -4  -3  -2  -1   0   1   2   3   4   5\n",
      "   6   7   8   9  10  11  12  13  14  15  16  17  18  19  20  21  22  23\n",
      "  24  25  26  27  28  29  30  31  32  33  34  35]\n",
      "\n",
      "66\n",
      "[ 103.03784717  110.21840143  117.82566779  125.88035082  134.40391071\n",
      "  143.41857998  152.94738016  163.01413849  173.64350459  184.86096706\n",
      "  196.69287011  209.16643007  222.30975185  236.15184532  250.72264164\n",
      "  266.05300947  282.17477102  299.12071809  316.92462788  335.62127874\n",
      "  355.2464657   375.83701593  397.43080395  420.06676672  443.78491852\n",
      "  468.62636565  494.63332089  521.84911783  550.31822489  580.08625916\n",
      "  611.2         643.7074024   677.65761005  713.10096823  750.08903635\n",
      "  788.67460026  828.91168427  870.8555629   914.56277234  960.09112156\n",
      " 1007.49970316 1056.84890395 1108.2004151  1161.6172421  1217.1637143\n",
      " 1274.90549418 1334.90958622 1397.24434553 1461.97948606 1529.18608847\n",
      " 1598.93660769 1671.30488011 1746.36613043 1824.19697809 1904.87544344\n",
      " 1988.48095349 2075.09434726 2164.79788088 2257.67523221 2353.81150513\n",
      " 2453.29323352 2556.20838475 2662.64636294 2772.69801171 2886.45561668\n",
      " 3004.01290756]\n"
     ]
    }
   ],
   "source": [
    "mat_contents = sio.loadmat(\"cceqs.mat\")\n",
    "sorted(mat_contents.keys())\n",
    "Tc = mat_contents['Tc'][0]\n",
    "e = mat_contents['e'][0]\n",
    "\n",
    "print(len(Tc))\n",
    "print(Tc)\n",
    "\n",
    "print()\n",
    "\n",
    "print(len(e))\n",
    "print(e)"
   ]
  },
  {
   "attachments": {},
   "cell_type": "markdown",
   "metadata": {},
   "source": [
    "### 確認資料"
   ]
  },
  {
   "cell_type": "code",
   "execution_count": 13,
   "metadata": {},
   "outputs": [
    {
     "data": {
      "image/png": "[encoded data removed]",
      "text/plain": [
       "<Figure size 432x288 with 1 Axes>"
      ]
     },
     "metadata": {
      "needs_background": "light"
     },
     "output_type": "display_data"
    }
   ],
   "source": [
    "plt.scatter(Tc,e)\n",
    "plt.title(\"Vapor Pressure vs Temperature\")\n",
    "plt.ylabel(\"Vapor Pressure (Pa)\")\n",
    "plt.xlabel(\"Temperature (degree Celsius)\")\n",
    "\n",
    "plt.show()"
   ]
  },
  {
   "attachments": {},
   "cell_type": "markdown",
   "metadata": {},
   "source": [
    "#### a. Please construct the C-C equation using the LINEAR regression"
   ]
  },
  {
   "attachments": {},
   "cell_type": "markdown",
   "metadata": {},
   "source": [
    "### Define the LINEAR regression"
   ]
  },
  {
   "cell_type": "code",
   "execution_count": 23,
   "metadata": {},
   "outputs": [],
   "source": [
    "def regression(x, y, n):\n",
    "\n",
    "    sum_x = 0   # the sum of the x\n",
    "    sum_y = 0   # the sum of the y\n",
    "\n",
    "    sum_xy = 0  # the sum of the x * y\n",
    "    sum_x2 = 0  # the sum of the x ^ 2\n",
    "\n",
    "    st = 0      \n",
    "    sr = 0      \n",
    "\n",
    "    for i in range(0, n):\n",
    "        sum_x += x[i]\n",
    "        sum_y += y[i]\n",
    "\n",
    "        sum_xy += x[i] * y[i]\n",
    "        sum_x2 += x[i] * x[i]\n",
    "\n",
    "    x_mean = sum_x / n\n",
    "    y_mean = sum_y / n\n",
    "\n",
    "    a1 = (n * sum_xy - sum_x * sum_y) / (n * sum_x2 - sum_x * sum_x)\n",
    "    a0 = y_mean - a1 * x_mean\n",
    "\n",
    "    for i in range(0, n):\n",
    "        st += (y[i] - y_mean) ** 2\n",
    "        sr += (y[i] - a0 - a1 * x[i]) ** 2\n",
    "\n",
    "    std_estimate_error = (sr - (n - 2)) ** 0.5\n",
    "    r2 = (st - sr) / st\n",
    "    r = ((st - sr) / st) ** 0.5\n",
    "\n",
    "    return a0, a1, std_estimate_error, r2, r"
   ]
  },
  {
   "attachments": {},
   "cell_type": "markdown",
   "metadata": {},
   "source": [
    "### Data with the LINEAR regression"
   ]
  },
  {
   "cell_type": "code",
   "execution_count": 25,
   "metadata": {},
   "outputs": [
    {
     "name": "stdout",
     "output_type": "stream",
     "text": [
      "After the LINEAR regression:\n",
      "\n",
      "a0:                               879.9865701296675\n",
      "a1:                               41.10433052361058\n",
      "std_estimate_error:               2160.6155885448184\n",
      "Coefficient of the determination: 0.8965758428578144\n",
      "Coefficient of the correlation:   0.9468768889659386\n"
     ]
    }
   ],
   "source": [
    "data_size = len(Tc)\n",
    "a0, a1, std_estimate_error, r2, r = regression(Tc, e, data_size)\n",
    "\n",
    "print(\"After the LINEAR regression:\\n\")\n",
    "print(\"a0:                              \", a0)\n",
    "print(\"a1:                              \", a1)\n",
    "print(\"std_estimate_error:              \", std_estimate_error)\n",
    "print(\"Coefficient of the determination:\", r2)\n",
    "print(\"Coefficient of the correlation:  \", r)"
   ]
  },
  {
   "attachments": {},
   "cell_type": "markdown",
   "metadata": {},
   "source": [
    "### Plot the LINEAR regression to the figure."
   ]
  },
  {
   "cell_type": "code",
   "execution_count": 22,
   "metadata": {},
   "outputs": [
    {
     "data": {
      "image/png": "[encoded data removed]",
      "text/plain": [
       "<Figure size 432x288 with 1 Axes>"
      ]
     },
     "metadata": {
      "needs_background": "light"
     },
     "output_type": "display_data"
    }
   ],
   "source": [
    "xs = np.arange(-30, 35, 0.1)\n",
    "ys = a1 * xs + a0\n",
    "plt.plot(xs, ys, 'r')\n",
    "plt.scatter(Tc,e)\n",
    "plt.title(\"Vapor Pressure vs Temperature\")\n",
    "plt.ylabel(\"Vapor Pressure (Pa)\")\n",
    "plt.xlabel(\"Temperature (degree Celsius)\")\n",
    "plt.legend([\"regression:\\ny = 879.9865701296675x + 41.10433052361058\", \"input data\"])\n",
    "plt.grid()\n",
    "\n",
    "plt.show()"
   ]
  },
  {
   "attachments": {},
   "cell_type": "markdown",
   "metadata": {},
   "source": [
    "#### b. Please determine the goodness of fitting"
   ]
  },
  {
   "attachments": {},
   "cell_type": "markdown",
   "metadata": {},
   "source": [
    "### Turn to the $ln$"
   ]
  },
  {
   "cell_type": "code",
   "execution_count": null,
   "metadata": {},
   "outputs": [],
   "source": []
  }
 ],
 "metadata": {
  "kernelspec": {
   "display_name": "Python 3",
   "language": "python",
   "name": "python3"
  },
  "language_info": {
   "codemirror_mode": {
    "name": "ipython",
    "version": 3
   },
   "file_extension": ".py",
   "mimetype": "text/x-python",
   "name": "python",
   "nbconvert_exporter": "python",
   "pygments_lexer": "ipython3",
   "version": "3.10.1 (v3.10.1:2cd268a3a9, Dec  6 2021, 14:28:59) [Clang 13.0.0 (clang-1300.0.29.3)]"
  },
  "orig_nbformat": 4,
  "vscode": {
   "interpreter": {
    "hash": "aee8b7b246df8f9039afb4144a1f6fd8d2ca17a180786b69acc140d282b71a49"
   }
  }
 },
 "nbformat": 4,
 "nbformat_minor": 2
}
