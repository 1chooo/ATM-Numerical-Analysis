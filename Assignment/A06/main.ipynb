{
 "cells": [
  {
   "cell_type": "markdown",
   "metadata": {},
   "source": [
    "# Assignment6\n",
    "\n",
    "Course: AP3021\n",
    "\n",
    "Student Number: 109601003\n",
    "\n",
    "Name: 林群賀"
   ]
  },
  {
   "cell_type": "markdown",
   "metadata": {},
   "source": [
    "## Q6-1\n",
    "\n",
    "### 1. Determine the matrix inverse."
   ]
  },
  {
   "cell_type": "code",
   "execution_count": 1,
   "metadata": {},
   "outputs": [
    {
     "name": "stdout",
     "output_type": "stream",
     "text": [
      "[[0.07253886 0.01278066 0.01243523]\n",
      " [0.02072539 0.06079447 0.03212435]\n",
      " [0.02590674 0.00932642 0.09015544]]\n"
     ]
    }
   ],
   "source": [
    "import numpy as np\n",
    "\n",
    "a = np.array([[15, -3, -1],\n",
    "              [-3, 18, -6],\n",
    "              [-4, -1, 12]])\n",
    "b = np.array([[3300], \n",
    "              [1200], \n",
    "              [2400]])\n",
    "\n",
    "def L(x):\n",
    "\n",
    "    f21 = x[1][0] / x[0][0]\n",
    "    f31 = x[2][0] / x[0][0]\n",
    "    x = np.array([[x[0][0], x[0][1], x[0][2]],\n",
    "                  [x[1][0] - (x[0][0] * f21), x[1][1] - (x[0][1] * f21), x[1][2] - (x[0][2] * f21)],\n",
    "                  [x[2][0] - (x[0][0] * f31), x[2][1] - (x[0][1] * f31), x[2][2] - (x[0][2] * f31)]])\n",
    "    f32 = x[2][1] / x[1][1]\n",
    "\n",
    "    return np.array([[  1,   0, 0],\n",
    "                     [f21,   1, 0],\n",
    "                     [f31, f32, 1]])\n",
    "\n",
    "\n",
    "def U(x):\n",
    "\n",
    "    a10 = x[1][0] / x[0][0]\n",
    "    a20 = x[2][0] / x[0][0]\n",
    "    x = np.array([[x[0][0], x[0][1], x[0][2]],\n",
    "                  [x[1][0] - (x[0][0] * a10), x[1][1] - (x[0][1] * a10), x[1][2] - (x[0][2] * a10)],\n",
    "                  [x[2][0] - (x[0][0] * a20), x[2][1] - (x[0][1] * a20), x[2][2] - (x[0][2] * a20)]])\n",
    "    a21 = x[2][1] / x[1][1]\n",
    "    x = np.array([[x[0][0], x[0][1], x[0][2]],\n",
    "                  [x[1][0], x[1][1], x[1][2]],\n",
    "                  [x[2][0], x[2][1] - (x[1][1] * a21), x[2][2] - (x[1][2] * a21)]])\n",
    "\n",
    "    return x\n",
    "\n",
    "\n",
    "def inverse(x):\n",
    "    LU_L = L(x)\n",
    "    LU_U = U(x)\n",
    "    inv = np.array([[0., 0., 0.],\n",
    "                    [0., 0., 0.],\n",
    "                    [0., 0., 0.]])\n",
    "\n",
    "    for i in range(0, 3):\n",
    "        if i == 0:\n",
    "            b_1 = 1\n",
    "            b_2 = 0\n",
    "            b_3 = 0\n",
    "        elif i == 1:\n",
    "            b_1 = 0\n",
    "            b_2 = 1\n",
    "            b_3 = 0\n",
    "        elif i == 2:\n",
    "            b_1 = 0\n",
    "            b_2 = 0\n",
    "            b_3 = 1\n",
    "        \n",
    "        d1 = b_1/LU_L[0][0]\n",
    "        d2 = (b_2-LU_L[1][0]*d1)/LU_L[1][1]\n",
    "        d3 = (b_3-LU_L[2][0]*d1-LU_L[2][1]*d2)/LU_L[2][2]\n",
    "        x3 = d3/LU_U[2][2]\n",
    "        x2 = (d2-LU_U[1][2]*x3)/LU_U[1][1]\n",
    "        x1 = (d1-LU_U[0][2]*x3-LU_U[0][1]*x2)/LU_U[0][0]\n",
    "        inv[0][i] = x1\n",
    "        inv[1][i] = x2\n",
    "        inv[2][i] = x3\n",
    "\n",
    "    return inv\n",
    "\n",
    "inverse_a = inverse(a)\n",
    "print(inverse_a)"
   ]
  },
  {
   "cell_type": "markdown",
   "metadata": {},
   "source": [
    "### 2. Use the inverse to determine the solution."
   ]
  },
  {
   "cell_type": "code",
   "execution_count": 2,
   "metadata": {},
   "outputs": [
    {
     "name": "stdout",
     "output_type": "stream",
     "text": [
      "[[284.55958549]\n",
      " [218.44559585]\n",
      " [313.05699482]]\n"
     ]
    }
   ],
   "source": [
    "x = np.dot(inverse_a, b)\n",
    "print(x)"
   ]
  },
  {
   "cell_type": "markdown",
   "metadata": {},
   "source": [
    "### 3. How much the rate of mass input to reactor 3 must be increased to induce a 10g/m3 rise in the concentration of reactor 1?"
   ]
  },
  {
   "cell_type": "code",
   "execution_count": 3,
   "metadata": {},
   "outputs": [
    {
     "name": "stdout",
     "output_type": "stream",
     "text": [
      "the rate of mass input to reactor3= 2440.0\n"
     ]
    }
   ],
   "source": [
    "x[0][0] = x[0][0] - 10 \n",
    "b_new = np.dot(a, x)\n",
    "\n",
    "print('the rate of mass input to reactor3=', b_new[2][0])"
   ]
  },
  {
   "cell_type": "markdown",
   "metadata": {},
   "source": [
    "### 4. How much will the concentration in reactor 3 be reduced if the rate of mass input to reactors 1 and 2 is reduced by 700 and 350 g/day, respectively?"
   ]
  },
  {
   "cell_type": "code",
   "execution_count": 4,
   "metadata": {},
   "outputs": [
    {
     "name": "stdout",
     "output_type": "stream",
     "text": [
      "initial concentration in reactor3 = 313.05699481865287\n",
      "Day 1 : the concentration in reactor3 = 291.6580310880829\n",
      "Day 2 : the concentration in reactor3 = 270.259067357513\n",
      "Day 3 : the concentration in reactor3 = 248.86010362694304\n"
     ]
    }
   ],
   "source": [
    "print('initial concentration in reactor3 =', x[2][0])\n",
    "\n",
    "for i in range(1, 4):\n",
    "    b[0][0] = b[0][0] - 700\n",
    "    b[1][0] = b[1][0] - 350\n",
    "    x_new = np.dot(inverse_a, b)\n",
    "\n",
    "    print('Day', i, ': the concentration in reactor3 =', x_new[2][0])"
   ]
  },
  {
   "cell_type": "markdown",
   "metadata": {},
   "source": [
    "## Q6-2\n",
    "\n",
    "### 1. Determine the condition number for the following system using the row-sum norm. Do not normalize the system."
   ]
  },
  {
   "cell_type": "code",
   "execution_count": 16,
   "metadata": {},
   "outputs": [
    {
     "name": "stdout",
     "output_type": "stream",
     "text": [
      "Condition number of A: 5.842636699114055e+18\n"
     ]
    }
   ],
   "source": [
    "a = np.array([[ 1,  4,  9, 16, 25],\n",
    "              [ 4,  9, 16, 25, 36],\n",
    "              [ 9, 16, 25, 36, 49],\n",
    "              [16, 25, 36, 49, 64],\n",
    "              [25, 36, 49, 64, 81]])\n",
    "a_determinant = np.linalg.det(a)\n",
    "\n",
    "print(\"Condition number of A:\", np.linalg.cond(a, p=None))\n",
    "\n",
    "# print('determinant of A =', a_determine)"
   ]
  },
  {
   "cell_type": "markdown",
   "metadata": {},
   "source": [
    "### 2. Repeat (a) but scale the matrix by making the max element in each row to 1."
   ]
  },
  {
   "cell_type": "code",
   "execution_count": 32,
   "metadata": {},
   "outputs": [
    {
     "name": "stdout",
     "output_type": "stream",
     "text": [
      "Making the max element in each row to 1:\n",
      "\n",
      "[[0.04       0.16       0.36       0.64       1.        ]\n",
      " [0.11111111 0.25       0.44444445 0.6944444  1.        ]\n",
      " [0.18367347 0.3265306  0.5102041  0.7346939  1.        ]\n",
      " [0.25       0.390625   0.5625     0.765625   1.        ]\n",
      " [0.30864197 0.44444445 0.60493827 0.79012346 1.        ]]\n"
     ]
    }
   ],
   "source": [
    "a = np.float32([[ 1,  4,  9, 16, 25],\n",
    "              [ 4,  9, 16, 25, 36],\n",
    "              [ 9, 16, 25, 36, 49],\n",
    "              [16, 25, 36, 49, 64],\n",
    "              [25, 36, 49, 64, 81]])\n",
    "\n",
    "for i in range(0, 5) :\n",
    "    for j in range(0, 5) :\n",
    "        a[i][j] = float(a[i][j] / a[i][4])\n",
    "        # print(a[i][j])\n",
    "        \n",
    "print(\"Making the max element in each row to 1:\\n\")\n",
    "print(a)"
   ]
  },
  {
   "cell_type": "markdown",
   "metadata": {},
   "source": [
    "### 3. 想想看，由condition number可知，這是一個什麼樣的矩陣呢?\n",
    "\n",
    "![6.2-3](./imgs/6.2-3.jpg)"
   ]
  },
  {
   "cell_type": "markdown",
   "metadata": {},
   "source": [
    "## Q6-3"
   ]
  },
  {
   "cell_type": "code",
   "execution_count": 6,
   "metadata": {},
   "outputs": [
    {
     "name": "stdout",
     "output_type": "stream",
     "text": [
      "[[ 3.]\n",
      " [ 1.]\n",
      " [-3.]\n",
      " [ 7.]]\n"
     ]
    }
   ],
   "source": [
    "a = np.array([[0, 1,  0,  0],\n",
    "              [0, 0,  2,  1],\n",
    "              [1, 1,  0,  0],\n",
    "              [1, 1, -1, -1]])\n",
    "b = np.array([[1],[1],[4],[0]])\n",
    "\n",
    "inverse_a = np.linalg.inv(a)\n",
    "print(inverse_a.dot(b))"
   ]
  },
  {
   "cell_type": "markdown",
   "metadata": {},
   "source": [
    "## Q6-4\n",
    "\n",
    "### LU decomposition."
   ]
  },
  {
   "cell_type": "code",
   "execution_count": 7,
   "metadata": {},
   "outputs": [
    {
     "name": "stdout",
     "output_type": "stream",
     "text": [
      "After LU decomposition\n",
      "[L] =\n",
      "[[1.         0.         0.        ]\n",
      " [2.5        1.         0.        ]\n",
      " [9.16666667 5.         1.        ]]\n",
      "[U] =\n",
      "[[ 6.         15.         55.        ]\n",
      " [ 0.         17.5        87.5       ]\n",
      " [ 0.          0.         37.33333333]]\n",
      "[A] =\n",
      "[[2.47857143]\n",
      " [2.35928571]\n",
      " [1.86071429]]\n",
      "a0 = [2.47857143] a1 = [2.35928571] a2 = [1.86071429]\n"
     ]
    }
   ],
   "source": [
    "a = np.array([[ 6,  15,  55],\n",
    "              [15,  55, 225],\n",
    "              [55, 225, 979]])\n",
    "b = np.array([[152.6],\n",
    "              [585.6],\n",
    "              [2488.8]])\n",
    "\n",
    "\n",
    "def L(x):\n",
    "\n",
    "    f21 = x[1][0] / x[0][0]\n",
    "    f31 = x[2][0] / x[0][0]\n",
    "    x = np.array([[x[0][0], x[0][1], x[0][2]],\n",
    "                  [x[1][0] - (x[0][0] * f21), x[1][1] - (x[0][1] * f21), x[1][2] - (x[0][2] * f21)],\n",
    "                  [x[2][0] - (x[0][0] * f31), x[2][1] - (x[0][1] * f31), x[2][2] - (x[0][2] * f31)]])\n",
    "    f32 = x[2][1] / x[1][1]\n",
    "\n",
    "    return np.array([[  1,   0, 0],\n",
    "                     [f21,   1, 0],\n",
    "                     [f31, f32, 1]])\n",
    "\n",
    "def U(x):\n",
    "\n",
    "    a10 = x[1][0] / x[0][0]\n",
    "    a20 = x[2][0] / x[0][0]\n",
    "    x = np.array([[x[0][0], x[0][1], x[0][2]],\n",
    "                  [x[1][0] - (x[0][0] * a10), x[1][1] - (x[0][1] * a10), x[1][2] - (x[0][2] * a10)],\n",
    "                  [x[2][0] - (x[0][0] * a20), x[2][1] - (x[0][1] * a20), x[2][2] - (x[0][2] * a20)]])\n",
    "    a21 = x[2][1] / x[1][1]\n",
    "    x = np.array([[x[0][0], x[0][1], x[0][2]],\n",
    "                  [x[1][0], x[1][1], x[1][2]],\n",
    "                  [x[2][0], x[2][1] - (x[1][1] * a21), x[2][2] - (x[1][2] * a21)]])\n",
    "\n",
    "    return x\n",
    "\n",
    "\n",
    "d = np.dot(np.linalg.inv(L(a)), b)      # [L]{D} = {B}\n",
    "x = np.dot(np.linalg.inv(U(a)), d)      # [U]{X} = {D}\n",
    "print('After LU decomposition\\n[L] =')\n",
    "print(L(a))\n",
    "print('[U] =')\n",
    "print(U(a))\n",
    "print('[A] =')\n",
    "print(x)\n",
    "print('a0 =', x[0], 'a1 =', x[1], 'a2 =', x[2])"
   ]
  },
  {
   "cell_type": "markdown",
   "metadata": {},
   "source": [
    "### Cholesky decomposition\n"
   ]
  },
  {
   "cell_type": "code",
   "execution_count": 8,
   "metadata": {},
   "outputs": [
    {
     "name": "stdout",
     "output_type": "stream",
     "text": [
      "Cholesky decomposition\n",
      "[L]=\n",
      "[[ 2.44948974  0.          0.        ]\n",
      " [ 6.12372436  4.18330013  0.        ]\n",
      " [22.45365598 20.91650066  6.11010093]]\n"
     ]
    }
   ],
   "source": [
    "l11 = np.sqrt(a[0][0])\n",
    "l21 = a[1][0] / l11\n",
    "l22 = np.sqrt(a[1][1] - l21 ** 2)\n",
    "l31 = a[2][0] / l11\n",
    "l32 = (a[2][1] - l21 * l31) / l22\n",
    "l33 = np.sqrt(a[2][2] - l31 ** 2 - l32 ** 2)\n",
    "l = np.array([[l11,   0,   0],\n",
    "              [l21, l22,   0],\n",
    "              [l31, l32, l33]])\n",
    "              \n",
    "print('Cholesky decomposition')\n",
    "print('[L]=')\n",
    "print(l)"
   ]
  },
  {
   "cell_type": "markdown",
   "metadata": {},
   "source": [
    "## Q6-5"
   ]
  },
  {
   "cell_type": "code",
   "execution_count": 9,
   "metadata": {},
   "outputs": [
    {
     "name": "stdout",
     "output_type": "stream",
     "text": [
      "x1 = 173.79293976576002\n",
      "x2 = 245.05792502579206\n",
      "x3 = 253.76707266232324\n",
      "\n",
      "Total used 6 times.\n"
     ]
    }
   ],
   "source": [
    "a = np.array([[ 0.8, -0.4,  0.0],\n",
    "              [-0.4,  0.8, -0.4],\n",
    "              [ 0.0, -0.4,  0.8]])\n",
    "b = np.array([[ 41],\n",
    "              [ 25],\n",
    "              [105]])\n",
    "\n",
    "x1 = 0\n",
    "x2 = 1\n",
    "x3 = 0\n",
    "count = 0\n",
    "c = 1.2\n",
    "\n",
    "while True:\n",
    "\n",
    "    xold1 = x1\n",
    "    xold2 = x2\n",
    "    xold3 = x3\n",
    "    es = 0.5 * 10 ** (-2)\n",
    "\n",
    "    count += 1\n",
    "    x1 = ((b[0][0]) - (a[0][1]) * x2 - (a[0][2]) * x3) / a[0][0]\n",
    "    x1 = c * x1 + (1 - c) * xold1\n",
    "    x2 = ((b[1][0]) - (a[1][0]) * x1 - (a[1][2]) * x3) / a[1][1]\n",
    "    x2 = c * x2 + (1 - c) * xold2\n",
    "    x3 = ((b[2][0]) - (a[2][0]) * x1 - (a[2][1]) * x2) / a[2][2]\n",
    "    x3 = c * x3 + (1 - c) * xold3\n",
    "    if ((x1 - xold1) / x1 < es) and \\\n",
    "           ((x2-xold2)/x2 < es) and \\\n",
    "           ((x3-xold3)/x3 < es) :\n",
    "        break\n",
    "\n",
    "print('x1 =', x1)\n",
    "print('x2 =', x2)\n",
    "print('x3 =', x3)\n",
    "print()\n",
    "print('Total used', count, \"times.\")"
   ]
  },
  {
   "cell_type": "markdown",
   "metadata": {},
   "source": [
    "## Q6-6\n",
    "\n",
    "### 1. without relaxation."
   ]
  },
  {
   "cell_type": "code",
   "execution_count": 10,
   "metadata": {},
   "outputs": [
    {
     "name": "stdout",
     "output_type": "stream",
     "text": [
      "without relaxation\n",
      "x1 = 4.0\n",
      "x2 = 8.0\n",
      "x3 = -1.9999999999999993\n",
      "\n",
      "Total used 3 times.\n"
     ]
    }
   ],
   "source": [
    "a = np.array([[ 2.0, -6.0, -1.0],\n",
    "              [-3.0, -1.0,  7.0],\n",
    "              [-8.0,  1.0, -2.0]])\n",
    "b = np.array([[-38.0],\n",
    "              [-34.0],\n",
    "              [-20.0]])\n",
    "\n",
    "def pivot(a, b):  \n",
    "\n",
    "    p = np.array((a), float)\n",
    "    q = np.array((b), float)\n",
    "    n = len(q)\n",
    "\n",
    "    for i in range(0, n - 1):\n",
    "\n",
    "        if abs(p[i, 1]) == 0:\n",
    "            for k in range(i + 1, n):\n",
    "                if abs((p[k, i])) > abs(p[i, i]):\n",
    "                    p[[i, k]] = p[[k, i]]\n",
    "                    q[[i, k]] = q[[k, i]]\n",
    "\n",
    "                    break\n",
    "\n",
    "        for j in range(i + 1, n):\n",
    "            f = p[j][i] / p[i][i]\n",
    "            p[j, :] = p[j, :] - f * p[i, :]\n",
    "            q[j] = q[j] -f * q[i]\n",
    "\n",
    "    return p,q\n",
    "\n",
    "\n",
    "a, b = pivot(a, b)\n",
    "x1 = 1\n",
    "x2 = 1\n",
    "x3 = 1\n",
    "count = 0\n",
    "es = 0.05\n",
    "\n",
    "while True:\n",
    "\n",
    "    xold1 = x1\n",
    "    xold2 = x2\n",
    "    xold3 = x3\n",
    "    count += 1\n",
    "    x1 = ((b[0][0]) - (a[0][1]) * xold2 - (a[0][2]) * xold3) / a[0][0]\n",
    "    x2 = ((b[1][0]) - (a[1][0]) * xold1 - (a[1][2]) * xold3) / a[1][1]\n",
    "    x3 = ((b[2][0]) - (a[2][0]) * xold1 - (a[2][1]) * xold2) / a[2][2]\n",
    "\n",
    "    if (((x1 - xold1) / x1) < es) and \\\n",
    "             ((x2-xold2)/x2 < es) and \\\n",
    "             ((x3-xold3)/x3 < es) :\n",
    "        break\n",
    "\n",
    "\n",
    "print('without relaxation')\n",
    "print('x1 =', x1)\n",
    "print('x2 =', x2)\n",
    "print('x3 =', x3)\n",
    "print()\n",
    "print('Total used', count, \"times.\")"
   ]
  },
  {
   "cell_type": "markdown",
   "metadata": {},
   "source": [
    "### 2. with relaxation.\n"
   ]
  },
  {
   "cell_type": "code",
   "execution_count": 11,
   "metadata": {},
   "outputs": [
    {
     "name": "stdout",
     "output_type": "stream",
     "text": [
      "with relaxation\n",
      "x1= 3.2435200000000086\n",
      "x2= 8.018080000000001\n",
      "x3= -2.000959999999999\n",
      "\n",
      "Total used 5 times.\n"
     ]
    }
   ],
   "source": [
    "a, b = pivot(a, b)\n",
    "x1 = 1\n",
    "x2 = 1\n",
    "x3 = 1\n",
    "count = 0\n",
    "c = 1.2\n",
    "es = 0.05\n",
    "\n",
    "while True:\n",
    "    xold1 = x1\n",
    "    xold2 = x2\n",
    "    xold3 = x3\n",
    "    count += 1\n",
    "    x1 = ((b[0][0]) - (a[0][1]) * xold2 - (a[0][2]) * xold3) / a[0][0]\n",
    "    x2 = ((b[1][0]) - (a[1][0]) * xold1 - (a[1][2]) * xold3) / a[1][1]\n",
    "    x3 = ((b[2][0]) - (a[2][0]) * xold1 - (a[2][1]) * xold2) / a[2][2]\n",
    "    x1 = c * x1 + (1 - c) * xold1\n",
    "    x2 = c * x2 + (1 - c) * xold2\n",
    "    x3 = c * x3 + (1 - c) * xold3\n",
    "\n",
    "    if (((x1 - xold1) / x1) < es) and \\\n",
    "             ((x2-xold2)/x2 < es) and \\\n",
    "             ((x3-xold3)/x3 < es) :\n",
    "        break\n",
    "    \n",
    "\n",
    "print('with relaxation')\n",
    "print('x1=',x1)\n",
    "print('x2=',x2)\n",
    "print('x3=',x3)\n",
    "print()\n",
    "print('Total used', count, \"times.\")"
   ]
  },
  {
   "cell_type": "markdown",
   "metadata": {},
   "source": [
    "## Q6-7"
   ]
  },
  {
   "cell_type": "code",
   "execution_count": 12,
   "metadata": {},
   "outputs": [
    {
     "name": "stdout",
     "output_type": "stream",
     "text": [
      "t11 = 106.23193359375\n",
      "t12 = 93.73193359375\n",
      "t21 = 56.23193359375\n",
      "t22 = 43.73193359375\n",
      "\n",
      "Total used 12 times.\n"
     ]
    }
   ],
   "source": [
    "a = np.array([[-4,  1,  1,  0],\n",
    "              [ 1, -4,  0,  1],\n",
    "              [ 1,  0, -4,  1],\n",
    "              [ 0,  1,  1, -4]])\n",
    "b = np.array([[-275],\n",
    "              [-225],\n",
    "              [ -75],\n",
    "              [-25]])\n",
    "\n",
    "x1 = 1\n",
    "x2 = 1\n",
    "x3 = 1\n",
    "x4 = 1\n",
    "count = 0\n",
    "\n",
    "while True:\n",
    "    xold1 = x1\n",
    "    xold2 = x2\n",
    "    xold3 = x3\n",
    "    xold4 = x4\n",
    "    count += 1\n",
    "    es = 0.0005\n",
    "    x1 = (b[0][0] - a[0][1] * xold2 - a[0][2] * xold3 - a[0][3] * xold4) / a[0][0]\n",
    "    x2 = (b[1][0] - a[1][0] * xold1 - a[1][2] * xold3 - a[1][3] * xold4) / a[1][1]\n",
    "    x3 = (b[2][0] - a[2][0] * xold1 - a[2][1] * xold2 - a[2][3] * xold4) / a[2][2]\n",
    "    x4 = (b[3][0] - a[3][0] * xold1 - a[3][1] * xold2 - a[3][2] * xold3) / a[3][3]\n",
    "\n",
    "    if (((x1 - xold1) / x1) < es) and \\\n",
    "             ((x2-xold2)/x2 < es) and \\\n",
    "             ((x3-xold3)/x3 < es) :\n",
    "        break\n",
    "\n",
    "print('t11 =', x1)\n",
    "print('t12 =', x2)\n",
    "print('t21 =', x3)\n",
    "print('t22 =', x4)\n",
    "print()\n",
    "print('Total used', count, \"times.\")"
   ]
  },
  {
   "cell_type": "markdown",
   "metadata": {},
   "source": [
    "## Q6-8\n",
    "\n",
    "### 1. Solve with the optimal gradient steepest descent method\n",
    "\n",
    "![6.8-1](./imgs/6.8-1.jpg)\n",
    "### 2. Solve with the Newton’s method\n",
    "![6.8-2](./imgs/6.8-2.jpg)\n"
   ]
  },
  {
   "cell_type": "markdown",
   "metadata": {},
   "source": [
    "## Q6-9\n",
    "\n",
    "$f(x, y) =e^{−x^{2}y^{2}}+cos(𝑥) +cos(2𝑦)$\n",
    "\n",
    "using the steepest ascend method.\n",
    "\n",
    "$f(x_0, y_0) = (-1, -1)$\n",
    "\n",
    "![6.9](./imgs/6.9.jpg)"
   ]
  },
  {
   "cell_type": "markdown",
   "metadata": {},
   "source": []
  }
 ],
 "metadata": {
  "kernelspec": {
   "display_name": "Python 3.10.1 64-bit",
   "language": "python",
   "name": "python3"
  },
  "language_info": {
   "codemirror_mode": {
    "name": "ipython",
    "version": 3
   },
   "file_extension": ".py",
   "mimetype": "text/x-python",
   "name": "python",
   "nbconvert_exporter": "python",
   "pygments_lexer": "ipython3",
   "version": "3.10.1 (v3.10.1:2cd268a3a9, Dec  6 2021, 14:28:59) [Clang 13.0.0 (clang-1300.0.29.3)]"
  },
  "orig_nbformat": 4,
  "vscode": {
   "interpreter": {
    "hash": "aee8b7b246df8f9039afb4144a1f6fd8d2ca17a180786b69acc140d282b71a49"
   }
  }
 },
 "nbformat": 4,
 "nbformat_minor": 2
}
