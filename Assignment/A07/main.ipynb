{
 "cells": [
  {
   "attachments": {},
   "cell_type": "markdown",
   "metadata": {},
   "source": [
    "# Assignment7\n",
    "\n",
    "Course: AP3021\n",
    "\n",
    "Student Number: 109601003\n",
    "\n",
    "Name: 林群賀"
   ]
  },
  {
   "attachments": {},
   "cell_type": "markdown",
   "metadata": {},
   "source": [
    "## Q7-1"
   ]
  },
  {
   "attachments": {},
   "cell_type": "markdown",
   "metadata": {},
   "source": [
    "### a. Use least-squares regression to fit a straight line. Compute the standard error [Eq.17.9] of the estimate and the correlation coefficient. Assess the fit. (Python+繪圖)"
   ]
  },
  {
   "cell_type": "code",
   "execution_count": 32,
   "metadata": {},
   "outputs": [
    {
     "name": "stdout",
     "output_type": "stream",
     "text": [
      "Condition number:  158.0603399688975\n",
      "Standard Deviation: 1.3066526967183245\n",
      "Coefficient of determination: 0.9143610668789809\n",
      "Correlation Coefficient: 0.9562222894698601\n"
     ]
    },
    {
     "data": {
      "image/png": "[encoded data removed]",
      "text/plain": [
       "<Figure size 432x288 with 1 Axes>"
      ]
     },
     "metadata": {
      "needs_background": "light"
     },
     "output_type": "display_data"
    }
   ],
   "source": [
    "import matplotlib.pyplot as plt\n",
    "import numpy as np\n",
    "\n",
    "x = np.array([1,   2, 3, 4, 5, 6, 7,  8,  9])\n",
    "y = np.array([1, 1.5, 2, 3, 4, 5, 8, 10, 13])\n",
    "\n",
    "space = np.linspace(1, 10) # line space\n",
    "A = np.zeros((2, 2))\n",
    "B = np.zeros(2)\n",
    "\n",
    "# Construct Matrix for solution\n",
    "n = np.size(x)\n",
    "m = 1\n",
    "A[0, 0] = np.size(x)\n",
    "A[0, 1] = np.sum(x)\n",
    "A[1, 0] = np.sum(x)\n",
    "A[1, 1] = np.sum(x ** 2)\n",
    "B[0] = np.sum(y)\n",
    "B[1] = np.sum(x * y)\n",
    "\n",
    "# Solve AX=B to know a0(X[0]), a1(X[1])\n",
    "X = np.inner(np.linalg.inv(A), B)\n",
    "print(\"Condition number: \", np.linalg.cond(A))\n",
    "\n",
    "# construct regression line\n",
    "regress = X[1] * space + X[0]\n",
    "\n",
    "St = np.sum((y - np.mean(y)) ** 2)\n",
    "Sr = np.sum((y - X[0] - X[1] * x) ** 2)\n",
    "Syx = np.sqrt(Sr / (n-(m+1)))\n",
    "r2 = (St - Sr) / St\n",
    "r = np.sqrt(r2)\n",
    "\n",
    "print('Standard Deviation:', Syx)\n",
    "print('Coefficient of determination:', r2)\n",
    "print('Correlation Coefficient:', r)\n",
    "\n",
    "plt.scatter(x, y, s=10)\n",
    "plt.plot(space, regress, 'r')\n",
    "plt.title(\"Linear Regression\")\n",
    "plt.legend(['Regression Line', 'Data Point'])\n",
    "plt.grid()\n",
    "\n",
    "plt.show()"
   ]
  },
  {
   "attachments": {},
   "cell_type": "markdown",
   "metadata": {},
   "source": [
    "### b. Use polynomial regression to fit a parabola to the data. Compute the standard error and correlation coefficient. Compare with (a). (Python+繪圖)"
   ]
  },
  {
   "cell_type": "code",
   "execution_count": 33,
   "metadata": {},
   "outputs": [
    {
     "name": "stdout",
     "output_type": "stream",
     "text": [
      "Condition number: 29878.808747043466\n",
      "Standard Deviation: 0.3447712921158663\n",
      "Coefficient of determination: 0.9948894656299115\n",
      "Correlation Coefficient: 0.9974414597508525\n"
     ]
    },
    {
     "data": {
      "image/png": "[encoded data removed]",
      "text/plain": [
       "<Figure size 432x288 with 1 Axes>"
      ]
     },
     "metadata": {
      "needs_background": "light"
     },
     "output_type": "display_data"
    }
   ],
   "source": [
    "import matplotlib.pyplot as plt\n",
    "import numpy as np\n",
    "\n",
    "x = np.array([1,   2, 3, 4, 5, 6, 7,  8,  9])\n",
    "y = np.array([1, 1.5, 2, 3, 4, 5, 8, 10, 13])\n",
    "\n",
    "space = np.linspace(1, 10)\n",
    "\n",
    "A = np.zeros((3, 3))\n",
    "B = np.zeros(3)\n",
    "\n",
    "# Construct Matrix for solution\n",
    "n = np.size(x)\n",
    "m = 2\n",
    "A[0, 0] = np.size(x)\n",
    "A[0, 1] = np.sum(x)\n",
    "A[1, 0] = np.sum(x)\n",
    "A[1, 1] = np.sum(x ** 2)\n",
    "A[0, 2] = np.sum(x ** 2)\n",
    "A[2, 0] = np.sum(x ** 2) \n",
    "A[1, 2] = np.sum(x ** 3)\n",
    "A[2, 1] = np.sum(x ** 3)\n",
    "A[2, 2] = np.sum(x ** 4)\n",
    "B[0] = np.sum(y)\n",
    "B[1] = np.sum(x * y)\n",
    "B[2] = np.sum((x ** 2) * y)\n",
    "\n",
    "# Solve AX=B to know a0(X[0]), a1(X[1])\n",
    "X = np.inner(np.linalg.inv(A), B)\n",
    "print(\"Condition number:\", np.linalg.cond(A)) # Knowing the condition number\n",
    "\n",
    "# construct regression line\n",
    "regress = X[2] * (space ** 2) + X[1] * space + X[0]\n",
    "\n",
    "# calculate St, Sr, Syx(STD), R^2, R\n",
    "St = np.sum((y - np.mean(y)) ** 2)\n",
    "Sr = np.sum((y - X[0] - X[1] * x - X[2] * (x ** 2)) ** 2)\n",
    "Syx = np.sqrt(Sr / (n - (m + 1)))\n",
    "r2 = (St - Sr) / St\n",
    "r = np.sqrt(r2)\n",
    "\n",
    "#print(A, B, X)\n",
    "print('Standard Deviation:', Syx)\n",
    "print('Coefficient of determination:', r2)\n",
    "print('Correlation Coefficient:', r)\n",
    "\n",
    "plt.scatter(x, y, s=15)\n",
    "plt.plot(space, regress, 'r')\n",
    "plt.title(\"Polynomial Regression\")\n",
    "plt.legend(['Regression Line', 'Data Point'])\n",
    "plt.grid()\n",
    "\n",
    "plt.show()"
   ]
  },
  {
   "attachments": {},
   "cell_type": "markdown",
   "metadata": {},
   "source": [
    "## Q7-2"
   ]
  },
  {
   "attachments": {},
   "cell_type": "markdown",
   "metadata": {},
   "source": [
    "### Fit an exponential model to the data. Plot the data and the equation on standard/semi-log graph. (Python+繪圖)"
   ]
  },
  {
   "cell_type": "code",
   "execution_count": 34,
   "metadata": {},
   "outputs": [
    {
     "name": "stdout",
     "output_type": "stream",
     "text": [
      "Condition number:  23.747545336711372\n",
      "Standard Deviation: 0.05309182012655235\n",
      "Coefficient of determination: 0.9935702501670921\n",
      "Correlation Coefficient: 0.9967799406925744\n"
     ]
    },
    {
     "data": {
      "image/png": "[encoded data removed]",
      "text/plain": [
       "<Figure size 432x288 with 1 Axes>"
      ]
     },
     "metadata": {
      "needs_background": "light"
     },
     "output_type": "display_data"
    }
   ],
   "source": [
    "import numpy as np\n",
    "import matplotlib.pyplot as plt\n",
    "\n",
    "x = np.array([0.4, 0.8,  1.2,  1.6,    2,  2.3])\n",
    "y = np.array([800, 980, 1500, 1945, 2900, 3600])\n",
    "lnx = np.log(x)\n",
    "lny = np.log(y)\n",
    "a0 = 1\n",
    "a1 = 1\n",
    "\n",
    "space=np.linspace(0, 2.5) # line space\n",
    "\n",
    "A = np.zeros((2, 2))\n",
    "B = np.zeros(2)\n",
    "\n",
    "# Construct Matrix for solution\n",
    "n = np.size(lnx)\n",
    "m = 1\n",
    "A[0, 0] = np.size(x)\n",
    "A[0, 1] = np.sum(x)\n",
    "A[1, 0] = np.sum(x)\n",
    "A[1, 1] = np.sum(x ** 2)\n",
    "B[0] = np.sum(lny)\n",
    "B[1] = np.sum(x * lny)\n",
    "\n",
    "# Solve AX=B to know a0(X[0]), a1(X[1])\n",
    "X = np.inner(np.linalg.inv(A), B)\n",
    "print(\"Condition number: \", np.linalg.cond(A))\n",
    "\n",
    "# Construct regression line\n",
    "regress = X[1] * space + X[0]\n",
    "exp_regress = np.exp(regress)\n",
    "\n",
    "# calculate St, Sr, Syx(STD), R^2, R\n",
    "St = np.sum((lny - np.mean(lny)) ** 2)\n",
    "Sr = np.sum((lny - X[0] - X[1] * x) ** 2)\n",
    "Syx = np.sqrt(Sr / (n - (m + 1)))\n",
    "r2 = (St - Sr) / St\n",
    "r = np.sqrt(r2)\n",
    "\n",
    "# R = (A[0, 0] * B[1] - A[0,1] * B[0]) / \n",
    "# (np.sqrt(A[0, 0] * A[1, 1] - A[0, 1] ** 2) *\n",
    "# np.sqrt(A[0, 0] * np.sum(y ** 2) - B[0] ** 2))\n",
    "\n",
    "print('Standard Deviation:', Syx)\n",
    "print('Coefficient of determination:', r2)\n",
    "print('Correlation Coefficient:', r)\n",
    "\n",
    "plt.scatter(x, y, s=15)\n",
    "plt.plot(space, exp_regress, 'r')\n",
    "plt.title(\"Exponential Regression\")\n",
    "plt.legend(['Regression Line', 'Data Point'])\n",
    "plt.grid()\n",
    "\n",
    "plt.show()"
   ]
  },
  {
   "attachments": {},
   "cell_type": "markdown",
   "metadata": {},
   "source": [
    "## Q7-3"
   ]
  },
  {
   "attachments": {},
   "cell_type": "markdown",
   "metadata": {},
   "source": [
    "### Use Newton’s interpolating polynomials of order 1 to 4 to get f(4). Choose your base points to attain good accuracy.(Python) (繪圖、值)"
   ]
  },
  {
   "cell_type": "code",
   "execution_count": 35,
   "metadata": {},
   "outputs": [],
   "source": [
    "def f(m, n):\n",
    "    \n",
    "    a = (y[m] - y[n]) / (x[m] - x[n])\n",
    "\n",
    "    return a"
   ]
  },
  {
   "cell_type": "code",
   "execution_count": 36,
   "metadata": {},
   "outputs": [
    {
     "name": "stdout",
     "output_type": "stream",
     "text": [
      "Newton's interpolating polynomials f(4) = 59.0\n"
     ]
    }
   ],
   "source": [
    "x = [1, 2,  3,  5,   7,   8]\n",
    "y = [3, 6, 19, 99, 291, 444]\n",
    "a = 4\n",
    "\n",
    "ans = y[2] + (a - x[2]) * f(3, 2)\n",
    "\n",
    "print(\"Newton's interpolating polynomials f(4) =\", ans)"
   ]
  },
  {
   "attachments": {},
   "cell_type": "markdown",
   "metadata": {},
   "source": [
    "## Q7-4"
   ]
  },
  {
   "attachments": {},
   "cell_type": "markdown",
   "metadata": {},
   "source": [
    "### Repeat Q18.6 using Lagrange polynomials of order 1 to 3. (Python) (繪圖、值) Interpret your results in word or print in code"
   ]
  },
  {
   "cell_type": "code",
   "execution_count": 37,
   "metadata": {},
   "outputs": [],
   "source": [
    "def NewtInt(x, y, n, x_miss):\n",
    "\n",
    "    fdd = np.zeros((n, n))\n",
    "    fdd[0:n, 0] = y[0:n]\n",
    "\n",
    "    for j in range(1, n, 1):\n",
    "        for i in range(0, n-j, 1):\n",
    "            fdd[i, j] = (fdd[i + 1, j-1] - fdd[i, j - 1]) / (x[i + j] - x[i])\n",
    "\n",
    "    y_interp = y[0]\n",
    "    xterm = 1.0\n",
    "\n",
    "    for order in range(1, n):\n",
    "        xterm = xterm * (x_miss - x[order - 1])\n",
    "        y_interp = y_interp + fdd[0, order] * xterm\n",
    "\n",
    "    return y_interp"
   ]
  },
  {
   "cell_type": "code",
   "execution_count": 38,
   "metadata": {},
   "outputs": [
    {
     "name": "stdout",
     "output_type": "stream",
     "text": [
      "Newton's interpolating polynomials f(4) = 42.0\n"
     ]
    }
   ],
   "source": [
    "import numpy as np\n",
    "\n",
    "x = [1, 2,  3,  5,   7,   8]\n",
    "y = [3, 6, 19, 99, 291, 444]\n",
    "n = 3\n",
    "x_miss = 4\n",
    "\n",
    "ans_New = NewtInt(x, y, n, x_miss)\n",
    "\n",
    "print(\"Newton's interpolating polynomials f(4) =\", ans_New)"
   ]
  },
  {
   "attachments": {},
   "cell_type": "markdown",
   "metadata": {},
   "source": [
    "## Q7-5 "
   ]
  },
  {
   "attachments": {},
   "cell_type": "markdown",
   "metadata": {},
   "source": [
    "### 1. Using (a) Linear interpolation (b) Newton’s interpolating polynomial (c) Cubic splines to estimate o(27).\n",
    "\n",
    "### 2. Note that the exact result is 7.986 mg/L."
   ]
  },
  {
   "attachments": {},
   "cell_type": "markdown",
   "metadata": {},
   "source": [
    "#### (a). Linear interpolation"
   ]
  },
  {
   "cell_type": "code",
   "execution_count": 39,
   "metadata": {},
   "outputs": [
    {
     "name": "stdout",
     "output_type": "stream",
     "text": [
      "Linear interpolation o27 = 8.000625\n",
      "exact_result = 7.986\n",
      "relative error = 0.001831329827197554\n"
     ]
    },
    {
     "data": {
      "image/png": "[encoded data removed]",
      "text/plain": [
       "<Figure size 432x288 with 1 Axes>"
      ]
     },
     "metadata": {
      "needs_background": "light"
     },
     "output_type": "display_data"
    }
   ],
   "source": [
    "import numpy as np\n",
    "import matplotlib.pyplot as plt\n",
    "\n",
    "T = [     0,      8,    16,    24,    32,    40]\n",
    "o = [14.621, 11.843, 9.870, 8.418, 7.305, 6.413]\n",
    "o27_1 = o[3] + (((o[4] - o[3]) / (T[4] - T[3])) * (27 - T[3]))\n",
    "true_value = 7.986\n",
    "ea = abs((true_value - o27_1) / true_value)\n",
    "\n",
    "print('Linear interpolation o27 =', o27_1)\n",
    "print('exact_result =', 7.986)\n",
    "print('relative error =', ea)\n",
    "\n",
    "plt.scatter(T, o, s=20)\n",
    "plt.scatter(27, o27_1, s=20)\n",
    "plt.plot(T, o)\n",
    "plt.title(\"Linear interpolation\")\n",
    "plt.legend(['Linear interpolation', 'Data point', 'Linear interpolation value'])\n",
    "plt.grid()\n",
    "\n",
    "plt.show()"
   ]
  },
  {
   "attachments": {},
   "cell_type": "markdown",
   "metadata": {},
   "source": [
    "#### (b). Newton’s interpolating polynomial"
   ]
  },
  {
   "cell_type": "code",
   "execution_count": 40,
   "metadata": {},
   "outputs": [],
   "source": [
    "def f(x, y):\n",
    "    \n",
    "    a = (o[x] - o[y]) / (T[x] - T[y])\n",
    "\n",
    "    return a\n",
    "\n",
    "def g(x, y, z):\n",
    "\n",
    "    b = (f(x, y) - f(y, z)) / (T[x] - T[z])\n",
    "    \n",
    "    return b\n",
    "\n",
    "def h(x, y, z, m):\n",
    "    \n",
    "    c = (g(x, y, z) - g(y, z, m)) / (T[x] - T[m])\n",
    "    \n",
    "    return c\n",
    "    \n",
    "def i(x, y, z, m, n):\n",
    "    \n",
    "    d = (h(x, y, z, m) - h(y, z, m, n)) / (T[x] - T[n])\n",
    "    \n",
    "    return d"
   ]
  },
  {
   "cell_type": "code",
   "execution_count": 41,
   "metadata": {},
   "outputs": [
    {
     "name": "stdout",
     "output_type": "stream",
     "text": [
      "Newton's interpolation o27= 7.967420959472656\n",
      "exact_result= 7.986\n",
      "relative error= 0.00232645135579064\n"
     ]
    }
   ],
   "source": [
    "import numpy as np\n",
    "import matplotlib.pyplot as plt\n",
    "\n",
    "T = [     0,      8,    16,    24,    32,    40]\n",
    "o = [14.621, 11.843, 9.870, 8.418, 7.305, 6.413]\n",
    "true_value = 7.986\n",
    "\n",
    "o27_2 = o[0] \\\n",
    "    + (27 - T[0]) * f(1, 0) \\\n",
    "    + (27 - T[0]) * (27 - T[1]) * g(2, 1, 0) \\\n",
    "    + (27 - T[0]) * (27 - T[1]) * (27 - T[2]) * h(3, 2, 1, 0) \\\n",
    "    + (27 - T[0]) * (27 - T[1]) * (27 - T[2]) * (27 - T[3]) * i(4, 3, 2, 1, 0)\n",
    "\n",
    "ea = abs((true_value - o27_2) / true_value)\n",
    "\n",
    "print(\"Newton's interpolation o27=\",o27_2)\n",
    "print('exact_result=',7.986)\n",
    "print('relative error=',ea)"
   ]
  },
  {
   "attachments": {},
   "cell_type": "markdown",
   "metadata": {},
   "source": [
    "#### (c) Cubic splines to estimate o(27)."
   ]
  },
  {
   "cell_type": "code",
   "execution_count": 44,
   "metadata": {},
   "outputs": [],
   "source": [
    "import numpy as np\n",
    "import matplotlib.pyplot as plt\n",
    "\n",
    "T = [     0,      8,    16,    24,    32,    40]\n",
    "o = [14.621, 11.843, 9.870, 8.418, 7.305, 6.413]\n",
    "true_value = 7.986\n",
    "\n",
    "def cubic_inter(x0, x, y):\n",
    "\n",
    "    x = np.array(x)\n",
    "    y = np.array(y)\n",
    "    # remove non finite values\n",
    "    # indexes = np.isfinite(x)\n",
    "    # check if sorted\n",
    "    if np.any(np.diff(x) < 0):\n",
    "        indexes = np.argsort(x)\n",
    "        x = x[indexes]\n",
    "        y = y[indexes]\n",
    "\n",
    "    size = len(x)\n",
    "    xdiff = np.diff(x)\n",
    "    ydiff = np.diff(y)\n",
    "\n",
    "    # allocate buffer matrices\n",
    "    Li = np.zeros(size)\n",
    "    Li_1 = np.zeros(size - 1)\n",
    "    z = np.zeros(size)\n",
    "\n",
    "    # fill diagonals Li and Li - 1 and solve [L][y] = [B]\n",
    "    Li[0] = np.sqrt(2 * xdiff[0])\n",
    "    Li_1[0] = 0.0\n",
    "    B0 = 0.0 # natural boundary\n",
    "    z[0] = B0 / Li[0]\n",
    "\n",
    "    for i in range(1, size-1, 1):\n",
    "        Li_1[i] = xdiff[i - 1] / Li[i - 1]\n",
    "        Li[i] = np.sqrt(2 * (xdiff[i - 1] + xdiff[i]) - Li_1[i - 1] * Li_1[i - 1])\n",
    "        Bi = 6 * (ydiff[i] / xdiff[i] - ydiff[i - 1] / xdiff[i - 1])\n",
    "        z[i] = (Bi - Li_1[i - 1] * z[i - 1]) / Li[i]\n",
    "\n",
    "    i = size - 1\n",
    "    Li_1[i - 1] = xdiff[-1] / Li[i - 1]\n",
    "    Li[i] = np.sqrt(2*xdiff[-1] - Li_1[i - 1] * Li_1[i - 1])\n",
    "    Bi = 0.0 # natural boundary\n",
    "    z[i] = (Bi - Li_1[i - 1]*z[i - 1])/Li[i]\n",
    "\n",
    "    # solve [L.T][x] = [y]\n",
    "    i = size - 1\n",
    "    z[i] = z[i] / Li[i]\n",
    "    for i in range(size - 2, -1, -1):\n",
    "        z[i] = (z[i] - Li_1[i - 1]*z[i+1])/Li[i]\n",
    "\n",
    "    # find index\n",
    "    index = x.searchsorted(x0)\n",
    "    np.clip(index, 1, size - 1, index)\n",
    "\n",
    "    xi1, xi0 = x[index], x[index - 1]\n",
    "    yi1, yi0 = y[index], y[index - 1]\n",
    "    zi1, zi0 = z[index], z[index - 1]\n",
    "    hi1 = xi1 - xi0\n",
    "\n",
    "    # calculate cubic\n",
    "    f0 = zi0 / (6 * hi1) * (xi1 - x0) ** 3 \\\n",
    "        + zi1 / (6 * hi1) * (x0 - xi0) ** 3 \\\n",
    "        + (yi1 / hi1 - zi1 * hi1 / 6) * (x0 - xi0) \\\n",
    "        + (yi0 / hi1 - zi0 * hi1 / 6) * (xi1 - x0)\n",
    "    \n",
    "    return f0"
   ]
  },
  {
   "cell_type": "code",
   "execution_count": 45,
   "metadata": {},
   "outputs": [
    {
     "data": {
      "image/png": "[encoded data removed]",
      "text/plain": [
       "<Figure size 432x288 with 1 Axes>"
      ]
     },
     "metadata": {
      "needs_background": "light"
     },
     "output_type": "display_data"
    },
    {
     "name": "stdout",
     "output_type": "stream",
     "text": [
      "Cubic spline= 8.0106776431084\n",
      "exact_result= 7.986\n",
      "relative error= 0.003090113086451281\n"
     ]
    }
   ],
   "source": [
    "if __name__ == '__main__':\n",
    "\n",
    "    x_new = np.linspace(0, 40, 40)\n",
    "    plt.scatter(T, o, s=15)\n",
    "    plt.scatter(27, cubic_inter(x_new, T, o)[26], s=15)\n",
    "    plt.title('Cubic spline')\n",
    "    plt.plot(x_new, cubic_inter(x_new,T,o))\n",
    "    plt.legend(['Cubic spline','Data point','Cubic spline value'])\n",
    "    plt.grid()\n",
    "    plt.show()\n",
    "\n",
    "print('Cubic spline=', cubic_inter(x_new,T,o)[26])\n",
    "print('exact_result=', 7.986)\n",
    "ea = abs((true_value - cubic_inter(x_new,T,o)[26])/true_value)\n",
    "print('relative error=',ea)"
   ]
  },
  {
   "attachments": {},
   "cell_type": "markdown",
   "metadata": {},
   "source": [
    "## Q7-6"
   ]
  },
  {
   "attachments": {},
   "cell_type": "markdown",
   "metadata": {},
   "source": [
    "### 1. Generate 8 equally-spaced points from f = sin2t from 0 to 2𝜋. Fit this data with a cubic spline.(Python+繪圖)"
   ]
  },
  {
   "cell_type": "code",
   "execution_count": 46,
   "metadata": {},
   "outputs": [],
   "source": [
    "import numpy as np\n",
    "import matplotlib.pyplot as plt\n",
    "\n",
    "\n",
    "PI = np.pi\n",
    "\n",
    "def f(x):\n",
    "\n",
    "    return (np.sin(x))**2\n",
    "\n",
    "\n",
    "def cubic_inter(x0, x, y):\n",
    "\n",
    "    x = np.array(x)\n",
    "    y = np.array(y)\n",
    "    # remove non finite values\n",
    "    # indexes = np.isfinite(x)\n",
    "    # check if sorted\n",
    "    if np.any(np.diff(x) < 0):\n",
    "        indexes = np.argsort(x)\n",
    "        x = x[indexes]\n",
    "        y = y[indexes]\n",
    "\n",
    "    size = len(x)\n",
    "    xdiff = np.diff(x)\n",
    "    ydiff = np.diff(y)\n",
    "\n",
    "    # allocate buffer matrices\n",
    "    Li = np.zeros(size)\n",
    "    Li_1 = np.zeros(size - 1)\n",
    "    z = np.zeros(size)\n",
    "\n",
    "    # fill diagonals Li and Li - 1 and solve [L][y] = [B]\n",
    "    Li[0] = np.sqrt(2 * xdiff[0])\n",
    "    Li_1[0] = 0.0\n",
    "    B0 = 0.0 # natural boundary\n",
    "    z[0] = B0 / Li[0]\n",
    "\n",
    "    for i in range(1, size-1, 1):\n",
    "        Li_1[i] = xdiff[i - 1] / Li[i - 1]\n",
    "        Li[i] = np.sqrt(2 * (xdiff[i - 1] + xdiff[i]) - Li_1[i - 1] * Li_1[i - 1])\n",
    "        Bi = 6 * (ydiff[i] / xdiff[i] - ydiff[i - 1] / xdiff[i - 1])\n",
    "        z[i] = (Bi - Li_1[i - 1] * z[i - 1]) / Li[i]\n",
    "\n",
    "    i = size - 1\n",
    "    Li_1[i - 1] = xdiff[-1] / Li[i - 1]\n",
    "    Li[i] = np.sqrt(2*xdiff[-1] - Li_1[i - 1] * Li_1[i - 1])\n",
    "    Bi = 0.0 # natural boundary\n",
    "    z[i] = (Bi - Li_1[i - 1]*z[i - 1])/Li[i]\n",
    "\n",
    "    # solve [L.T][x] = [y]\n",
    "    i = size - 1\n",
    "    z[i] = z[i] / Li[i]\n",
    "    for i in range(size - 2, -1, -1):\n",
    "        z[i] = (z[i] - Li_1[i - 1]*z[i+1])/Li[i]\n",
    "\n",
    "    # find index\n",
    "    index = x.searchsorted(x0)\n",
    "    np.clip(index, 1, size - 1, index)\n",
    "\n",
    "    xi1, xi0 = x[index], x[index - 1]\n",
    "    yi1, yi0 = y[index], y[index - 1]\n",
    "    zi1, zi0 = z[index], z[index - 1]\n",
    "    hi1 = xi1 - xi0\n",
    "\n",
    "    # calculate cubic\n",
    "    f0 = zi0 / (6 * hi1) * (xi1 - x0) ** 3 \\\n",
    "        + zi1 / (6 * hi1) * (x0 - xi0) ** 3 \\\n",
    "        + (yi1 / hi1 - zi1 * hi1 / 6) * (x0 - xi0) \\\n",
    "        + (yi0 / hi1 - zi0 * hi1 / 6) * (xi1 - x0)\n",
    "    \n",
    "    return f0"
   ]
  },
  {
   "cell_type": "code",
   "execution_count": 48,
   "metadata": {},
   "outputs": [
    {
     "ename": "IndexError",
     "evalue": "index 1 is out of bounds for axis 0 with size 0",
     "output_type": "error",
     "traceback": [
      "\u001b[0;31m---------------------------------------------------------------------------\u001b[0m",
      "\u001b[0;31mIndexError\u001b[0m                                Traceback (most recent call last)",
      "\u001b[1;32m/Users/linchunho/Developer/ATM-Numerical-Analysis/Assignment/A07/main.ipynb Cell 31\u001b[0m in \u001b[0;36m<module>\u001b[0;34m\u001b[0m\n\u001b[1;32m     <a href='vscode-notebook-cell:/Users/linchunho/Developer/ATM-Numerical-Analysis/Assignment/A07/main.ipynb#X46sZmlsZQ%3D%3D?line=10'>11</a>\u001b[0m x_new \u001b[39m=\u001b[39m np\u001b[39m.\u001b[39mlinspace(\u001b[39m0\u001b[39m, \u001b[39m2\u001b[39m \u001b[39m*\u001b[39m PI, \u001b[39m40\u001b[39m)\n\u001b[1;32m     <a href='vscode-notebook-cell:/Users/linchunho/Developer/ATM-Numerical-Analysis/Assignment/A07/main.ipynb#X46sZmlsZQ%3D%3D?line=11'>12</a>\u001b[0m plt\u001b[39m.\u001b[39mtitle(\u001b[39m'\u001b[39m\u001b[39mCubic spline\u001b[39m\u001b[39m'\u001b[39m)\n\u001b[0;32m---> <a href='vscode-notebook-cell:/Users/linchunho/Developer/ATM-Numerical-Analysis/Assignment/A07/main.ipynb#X46sZmlsZQ%3D%3D?line=12'>13</a>\u001b[0m plt\u001b[39m.\u001b[39mplot(x_new, cubic_inter(x_new, x, y),\u001b[39m'\u001b[39m\u001b[39mr\u001b[39m\u001b[39m'\u001b[39m)\n\u001b[1;32m     <a href='vscode-notebook-cell:/Users/linchunho/Developer/ATM-Numerical-Analysis/Assignment/A07/main.ipynb#X46sZmlsZQ%3D%3D?line=13'>14</a>\u001b[0m plt\u001b[39m.\u001b[39mlegend([\u001b[39m'\u001b[39m\u001b[39mCubic spline\u001b[39m\u001b[39m'\u001b[39m, \u001b[39m'\u001b[39m\u001b[39mData point\u001b[39m\u001b[39m'\u001b[39m])\n\u001b[1;32m     <a href='vscode-notebook-cell:/Users/linchunho/Developer/ATM-Numerical-Analysis/Assignment/A07/main.ipynb#X46sZmlsZQ%3D%3D?line=14'>15</a>\u001b[0m plt\u001b[39m.\u001b[39mgrid()\n",
      "\u001b[1;32m/Users/linchunho/Developer/ATM-Numerical-Analysis/Assignment/A07/main.ipynb Cell 31\u001b[0m in \u001b[0;36mcubic_inter\u001b[0;34m(x0, x, y)\u001b[0m\n\u001b[1;32m     <a href='vscode-notebook-cell:/Users/linchunho/Developer/ATM-Numerical-Analysis/Assignment/A07/main.ipynb#X46sZmlsZQ%3D%3D?line=47'>48</a>\u001b[0m     Li_1[i] \u001b[39m=\u001b[39m xdiff[i \u001b[39m-\u001b[39m \u001b[39m1\u001b[39m] \u001b[39m/\u001b[39m Li[i \u001b[39m-\u001b[39m \u001b[39m1\u001b[39m]\n\u001b[1;32m     <a href='vscode-notebook-cell:/Users/linchunho/Developer/ATM-Numerical-Analysis/Assignment/A07/main.ipynb#X46sZmlsZQ%3D%3D?line=48'>49</a>\u001b[0m     Li[i] \u001b[39m=\u001b[39m np\u001b[39m.\u001b[39msqrt(\u001b[39m2\u001b[39m \u001b[39m*\u001b[39m (xdiff[i \u001b[39m-\u001b[39m \u001b[39m1\u001b[39m] \u001b[39m+\u001b[39m xdiff[i]) \u001b[39m-\u001b[39m Li_1[i \u001b[39m-\u001b[39m \u001b[39m1\u001b[39m] \u001b[39m*\u001b[39m Li_1[i \u001b[39m-\u001b[39m \u001b[39m1\u001b[39m])\n\u001b[0;32m---> <a href='vscode-notebook-cell:/Users/linchunho/Developer/ATM-Numerical-Analysis/Assignment/A07/main.ipynb#X46sZmlsZQ%3D%3D?line=49'>50</a>\u001b[0m     Bi \u001b[39m=\u001b[39m \u001b[39m6\u001b[39m \u001b[39m*\u001b[39m (ydiff[i] \u001b[39m/\u001b[39m xdiff[i] \u001b[39m-\u001b[39m ydiff[i \u001b[39m-\u001b[39m \u001b[39m1\u001b[39m] \u001b[39m/\u001b[39m xdiff[i \u001b[39m-\u001b[39m \u001b[39m1\u001b[39m])\n\u001b[1;32m     <a href='vscode-notebook-cell:/Users/linchunho/Developer/ATM-Numerical-Analysis/Assignment/A07/main.ipynb#X46sZmlsZQ%3D%3D?line=50'>51</a>\u001b[0m     z[i] \u001b[39m=\u001b[39m (Bi \u001b[39m-\u001b[39m Li_1[i \u001b[39m-\u001b[39m \u001b[39m1\u001b[39m] \u001b[39m*\u001b[39m z[i \u001b[39m-\u001b[39m \u001b[39m1\u001b[39m]) \u001b[39m/\u001b[39m Li[i]\n\u001b[1;32m     <a href='vscode-notebook-cell:/Users/linchunho/Developer/ATM-Numerical-Analysis/Assignment/A07/main.ipynb#X46sZmlsZQ%3D%3D?line=52'>53</a>\u001b[0m i \u001b[39m=\u001b[39m size \u001b[39m-\u001b[39m \u001b[39m1\u001b[39m\n",
      "\u001b[0;31mIndexError\u001b[0m: index 1 is out of bounds for axis 0 with size 0"
     ]
    },
    {
     "data": {
      "image/png": "[encoded data removed]",
      "text/plain": [
       "<Figure size 432x288 with 1 Axes>"
      ]
     },
     "metadata": {
      "needs_background": "light"
     },
     "output_type": "display_data"
    }
   ],
   "source": [
    "if __name__ == '__main__':\n",
    "\n",
    "    x = [    PI / 4,     PI / 2, PI * 3 / 4, \n",
    "                 PI, PI * 5 / 4, PI * 6 / 4,\n",
    "         PI * 7 / 4, PI * 2]\n",
    "\n",
    "    for i in range(0, 8):\n",
    "        y = [f(x[i])]\n",
    "\n",
    "    plt.scatter(T, o, s=15)\n",
    "    x_new = np.linspace(0, 2 * PI, 40)\n",
    "    plt.title('Cubic spline')\n",
    "    plt.plot(x_new, cubic_inter(x_new, x, y),'r')\n",
    "    plt.legend(['Cubic spline', 'Data point'])\n",
    "    plt.grid()\n",
    "    plt.show()\n",
    "\n",
    "    print('Cubic spline=',cubic_inter(x_new,x,y))"
   ]
  },
  {
   "cell_type": "code",
   "execution_count": null,
   "metadata": {},
   "outputs": [],
   "source": []
  }
 ],
 "metadata": {
  "kernelspec": {
   "display_name": "Python 3",
   "language": "python",
   "name": "python3"
  },
  "language_info": {
   "codemirror_mode": {
    "name": "ipython",
    "version": 3
   },
   "file_extension": ".py",
   "mimetype": "text/x-python",
   "name": "python",
   "nbconvert_exporter": "python",
   "pygments_lexer": "ipython3",
   "version": "3.10.1 (v3.10.1:2cd268a3a9, Dec  6 2021, 14:28:59) [Clang 13.0.0 (clang-1300.0.29.3)]"
  },
  "orig_nbformat": 4,
  "vscode": {
   "interpreter": {
    "hash": "aee8b7b246df8f9039afb4144a1f6fd8d2ca17a180786b69acc140d282b71a49"
   }
  }
 },
 "nbformat": 4,
 "nbformat_minor": 2
}
