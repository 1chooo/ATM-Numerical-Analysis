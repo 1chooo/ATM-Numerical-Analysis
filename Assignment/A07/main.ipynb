{
 "cells": [
  {
   "attachments": {},
   "cell_type": "markdown",
   "metadata": {},
   "source": [
    "# Assignment7\n",
    "\n",
    "Course: AP3021\n",
    "\n",
    "Student Number: 109601003\n",
    "\n",
    "Name: 林群賀"
   ]
  },
  {
   "attachments": {},
   "cell_type": "markdown",
   "metadata": {},
   "source": [
    "## Q7-1\n",
    "\n",
    "### 1. Use least-squares regression to fit a straight line. Compute the standard error [Eq.17.9] of the estimate and the correlation coefficient. Assess the fit. (Python+繪圖)"
   ]
  },
  {
   "cell_type": "code",
   "execution_count": null,
   "metadata": {},
   "outputs": [],
   "source": [
    "import matplotlib.pyplot as plt\n",
    "import numpy as np\n",
    "\n",
    "x = np.array([1, 2, 3, 4, 5, 6, 7, 8, 9])\n",
    "y = np.array([1, 1.5, 2, 3, 4, 5, 8, 10, 13])\n",
    "\n",
    "space=np.linspace(1,10)#line space\n",
    "A = np.zeros((2, 2))\n",
    "B = np.zeros(2)\n",
    "\n",
    "#Construct Matrix for solution\n",
    "n=np.size(x)\n",
    "m=1\n",
    "A[0,0]=np.size(x)\n",
    "A[0,1]=np.sum(x)\n",
    "A[1,0]=np.sum(x)\n",
    "A[1,1]=np.sum(x**2)\n",
    "B[0]=np.sum(y)\n",
    "B[1]=np.sum(x*y)\n",
    "\n",
    "#Solve AX=B to know a0(X[0]), a1(X[1])\n",
    "X = np.inner(np.linalg.inv(A),B)\n",
    "print(\"condition number: \",np.linalg.cond(A)) \n",
    "\n",
    "#construct regression line\n",
    "regress = X[1] * space + X[0]\n",
    "\n",
    "St=np.sum((y-np.mean(y))**2)\n",
    "Sr=np.sum((y-X[0]-X[1]*x)**2)\n",
    "Syx=np.sqrt(Sr/(n-(m+1)))\n",
    "r2=(St-Sr)/St\n",
    "r=np.sqrt(r2)\n",
    "\n",
    "print('Standard Deviation:',Syx)\n",
    "print('Coefficient of determination:',r2)\n",
    "print('Correlation Coefficient:',r)\n",
    "\n",
    "plt.scatter(x, y,s=10)\n",
    "plt.plot(space, regress,'r')\n",
    "plt.title(\"Linear Regression\")\n",
    "plt.legend(['Regression Line','Data Point'])\n",
    "plt.grid()\n",
    "plt.show()"
   ]
  },
  {
   "attachments": {},
   "cell_type": "markdown",
   "metadata": {},
   "source": [
    "### 2. Use polynomial regression to fit a parabola to the data. Compute the standard error and correlation coefficient. Compare with (a). (Python+繪圖)"
   ]
  },
  {
   "cell_type": "code",
   "execution_count": null,
   "metadata": {},
   "outputs": [],
   "source": []
  }
 ],
 "metadata": {
  "kernelspec": {
   "display_name": "Python 3",
   "language": "python",
   "name": "python3"
  },
  "language_info": {
   "name": "python",
   "version": "3.10.1 (v3.10.1:2cd268a3a9, Dec  6 2021, 14:28:59) [Clang 13.0.0 (clang-1300.0.29.3)]"
  },
  "orig_nbformat": 4,
  "vscode": {
   "interpreter": {
    "hash": "aee8b7b246df8f9039afb4144a1f6fd8d2ca17a180786b69acc140d282b71a49"
   }
  }
 },
 "nbformat": 4,
 "nbformat_minor": 2
}
