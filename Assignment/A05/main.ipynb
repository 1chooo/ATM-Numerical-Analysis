{
 "cells": [
  {
   "cell_type": "markdown",
   "metadata": {},
   "source": [
    "# Assignment5\n",
    "\n",
    "Course: AP3021\n",
    "\n",
    "Student Number: 109601003\n",
    "\n",
    "Name: 林群賀"
   ]
  },
  {
   "cell_type": "markdown",
   "metadata": {},
   "source": [
    "## Q5-1\n",
    "\n",
    "### Given the equations\n",
    "\n",
    "$10x_1 +2x_2 -x_3 = 27 $\n",
    "\n",
    "$-3x_1 – 6x_2 + 2x_3 = -61.5$\n",
    "\n",
    "$x_1 +x_2 +5x_3 = -21.5$\n",
    "\n",
    "1. Solve by naïve Gauss elimination. Show all steps of the computation.(手寫)\n",
    "2. Substitute your results into the original equations to check your answers."
   ]
  },
  {
   "cell_type": "markdown",
   "metadata": {},
   "source": [
    "### Solve by naïve Gauss elimination. Show all steps of the computation.(手寫)\n",
    "\n",
    "![plot](./src/A5-1-1.jpg)\n",
    "\n",
    "### Substitute your results into the original equations to check your answers.\n",
    "\n",
    "![plot](./src/A5-1-2.jpg)"
   ]
  },
  {
   "cell_type": "markdown",
   "metadata": {},
   "source": [
    "## Q5-2\n",
    "\n",
    "### Use Gauss-Jordan elimination to solve :\n",
    "\n",
    "$2x_1 +x_2 -x_3 =1$\n",
    "\n",
    "$5x_1 +2x_2 +2x_3 =-4$ \n",
    "\n",
    "$3x_1 +x_2 +x_3 =5$\n",
    "\n",
    "1. Do not employ pivoting. Check your answers by substituting them into the original equations. (手寫)"
   ]
  },
  {
   "cell_type": "markdown",
   "metadata": {},
   "source": [
    "![plot](./src/A5-2-1.jpg)\n",
    "\n",
    "![plot](./src/A5-2-2.jpg)"
   ]
  },
  {
   "cell_type": "markdown",
   "metadata": {},
   "source": [
    "## Q5-3\n",
    "\n",
    "### Solve :\n",
    "\n",
    "$x_1 +x_2 -x_3 =-3$\n",
    "\n",
    "$6x_1 +2x_2 +2x_3 =2$\n",
    "\n",
    "$-3x_1 +4x_2 +x_3 =1$\n",
    "\n",
    "### With\n",
    "\n",
    "1. Naïve Gauss elimination (手寫)\n",
    "2. Gauss elimination with partial pivoting (手寫)\n",
    "3. Gauss-Jordan without partial pivoting (手寫)"
   ]
  },
  {
   "cell_type": "markdown",
   "metadata": {},
   "source": [
    "### Naïve Gauss elimination (手寫)\n",
    "\n",
    "![plot](./src/A5-3-1.jpg)\n",
    "\n",
    "### Gauss elimination with partial pivoting (手寫)\n",
    "\n",
    "![plot](./src/A5-3-2.jpg)\n",
    "\n",
    "### Gauss-Jordan without partial pivoting (手寫)\n",
    "\n",
    "![plot](./src/A5-3-3.jpg)"
   ]
  },
  {
   "cell_type": "markdown",
   "metadata": {},
   "source": [
    "## Q5-4\n",
    "\n",
    "Develop, debug, and test a program in either a high-level language or macro langrage of your choice to solve a system of equations with Gauss elimination with partial pivoting. Base the program on the pseudocode from Fig. 9.6. Test the program using the following system (which has an answer of $𝑥_1 = 𝑥_2 = 𝑥_3 = 1$) (Python)\n",
    "\n",
    "\n",
    "$x_1 +2x_2 –x_3 =2$\n",
    "\n",
    "$5x_1 +2x_2 +2x_3 =9$\n",
    "\n",
    "$-3x_1 +5x_2 –x_3 =1$"
   ]
  },
  {
   "cell_type": "markdown",
   "metadata": {},
   "source": [
    "### Pseudocode Gauss\n",
    "\n",
    "``` c\n",
    "SUB Gauss(a, b, n, x, tol, er)\n",
    "    DIMENSION s(n)\n",
    "    er = 0\n",
    "    DOFOR i = 1, n\n",
    "        si = ABS(a[i][1])\n",
    "        DOFOR j = 2, n\n",
    "            IF ABS(a[i][j]) > si THEN\n",
    "                si = ABS(a[i][j])\n",
    "        ENDDO\n",
    "    ENDDO\n",
    "\n",
    "    CALL Eliminate(a, s, n, b, tol, er)\n",
    "\n",
    "    IF (er != -1) THEN\n",
    "        CALL Substitute(a, n, b, x)\n",
    "    ENDIF\n",
    "END Gauss\n",
    "```"
   ]
  },
  {
   "cell_type": "markdown",
   "metadata": {},
   "source": [
    "### Pseudocode Elminate\n",
    "\n",
    "``` c\n",
    "SUB Eliminate(a, s, n, b, tol, er)\n",
    "    DOFOR k = 1, n - 1\n",
    "        CALL Pivot(a, b, s, n, k)\n",
    "\n",
    "        IF ABS(a[k][k] / s[k]) < tol THEN\n",
    "            er = 01\n",
    "            EXIT DO\n",
    "        END IF\n",
    "    \n",
    "        DOFOR i = k + 1, n\n",
    "            factor = a[i][k] / a[k][k]\n",
    "            DOFOR j = k + 1, n\n",
    "                a[i][j] = a[i][j] - factor * a[k][j]\n",
    "            ENDDO\n",
    "\n",
    "            b[i] = b[i] - factor * bk\n",
    "        ENDDO\n",
    "    ENDDO\n",
    "\n",
    "    IF ABS(a[n][n] / s[n]) < tol THEN\n",
    "        er = -1\n",
    "    ENDIF\n",
    "END Eliminate\n",
    "```"
   ]
  },
  {
   "cell_type": "markdown",
   "metadata": {},
   "source": [
    "### Pseudocode Pivot\n",
    "\n",
    "``` c\n",
    "SUB Pivot(a, b, s, n, k)\n",
    "    p = k\n",
    "    big = ABS(a[k][k] / s[k])\n",
    "    DOFOR ii = k + 1, n\n",
    "        dummy = ABS(a[ii][k] / s[ii])\n",
    "        IF dummy > big THEN\n",
    "            big = dummy\n",
    "            p = ii\n",
    "        END IF\n",
    "    ENDDO\n",
    "\n",
    "    IF p != k THEN\n",
    "        DOFOR jj = k, n\n",
    "            dummy = a[p][jj]\n",
    "            a[p][jj] = a[k][jj]\n",
    "            a[k][jj] = dummy\n",
    "        ENDDO\n",
    "\n",
    "        dummy = b[p]\n",
    "        b[p] = b[k]\n",
    "        b[k] = summy\n",
    "        dummy = s[p]\n",
    "        s[p] = s[k]\n",
    "        s[k] = dummy\n",
    "    END IF\n",
    "END Pivot\n",
    "```\n"
   ]
  },
  {
   "cell_type": "markdown",
   "metadata": {},
   "source": [
    "### Pseudocode Subsitute\n",
    "\n",
    "``` c\n",
    "SUB Substitute(a, n, b, x)\n",
    "    x[n] = b[n] / a[n][n]\n",
    "\n",
    "    DOFOR i = n - 1, 1, -1\n",
    "        sum = 0\n",
    "        DOFOR j = i + 1, n\n",
    "            sum = sum + a[i][j] * x[j]\n",
    "        ENDDO\n",
    "        x[n] = (b[n] - sum) / a[n][n]\n",
    "    ENDDO\n",
    "END Substitute\n",
    "```"
   ]
  },
  {
   "cell_type": "code",
   "execution_count": 1,
   "metadata": {},
   "outputs": [
    {
     "name": "stdout",
     "output_type": "stream",
     "text": [
      "[x1, x2, x3] = [1. 1. 1.]\n"
     ]
    }
   ],
   "source": [
    "#9.18\n",
    "import numpy as np\n",
    "\n",
    "def pivot(a, b):                 \n",
    "    p = np.array((a), float)\n",
    "    q = np.array((b), float)\n",
    "    n = len(q)\n",
    "\n",
    "    for i in range(0, n - 1) :\n",
    "        if abs(p[i, 1]) == 0 : \n",
    "            for k in range(i + 1, n) :\n",
    "                if abs((p[k, i])) > abs(p[i, i]) :\n",
    "                    p[[i, k]] = p[[k, i]] \n",
    "                    q[[i, k]] = q[[k, i]]\n",
    "                    break\n",
    "        for j in range(i + 1, n):\n",
    "            f = p[j][i] / p[i][i] \n",
    "            p[j,:] = p[j,:] - f * p[i,:]\n",
    "            q[j] = q[j] -f * q[i]\n",
    "\n",
    "    return p, q\n",
    "\n",
    "\n",
    "def back_substituted(a, b) : \n",
    "    n = b.size\n",
    "    x = np.zeros(n)\n",
    "\n",
    "    x[n - 1] = b[n - 1] / a[n - 1,n - 1]\n",
    "\n",
    "    for i in range(n - 2, -1, -1) :\n",
    "        sum1 = 0\n",
    "\n",
    "        for j in range(i + 1, n) :\n",
    "            sum1 = sum1 + a[i, j] * x[j]\n",
    "        x[i] = (b[i] - sum1) / a[i, i]\n",
    "\n",
    "    return x\n",
    "\n",
    "\n",
    "xx = np.array([[ 1, 2, -1], \n",
    "               [ 5, 2,  2], \n",
    "               [-3, 5, -1]])\n",
    "t = np.array([2, 9, 1])\n",
    "a, b = pivot(xx, t)\n",
    "x = back_substituted(a, b)\n",
    "\n",
    "print('[x1, x2, x3] =', x)"
   ]
  },
  {
   "cell_type": "markdown",
   "metadata": {},
   "source": [
    "## Q5-5"
   ]
  },
  {
   "cell_type": "code",
   "execution_count": null,
   "metadata": {},
   "outputs": [],
   "source": []
  }
 ],
 "metadata": {
  "kernelspec": {
   "display_name": "Python 3.10.1 64-bit",
   "language": "python",
   "name": "python3"
  },
  "language_info": {
   "codemirror_mode": {
    "name": "ipython",
    "version": 3
   },
   "file_extension": ".py",
   "mimetype": "text/x-python",
   "name": "python",
   "nbconvert_exporter": "python",
   "pygments_lexer": "ipython3",
   "version": "3.10.1"
  },
  "orig_nbformat": 4,
  "vscode": {
   "interpreter": {
    "hash": "aee8b7b246df8f9039afb4144a1f6fd8d2ca17a180786b69acc140d282b71a49"
   }
  }
 },
 "nbformat": 4,
 "nbformat_minor": 2
}
