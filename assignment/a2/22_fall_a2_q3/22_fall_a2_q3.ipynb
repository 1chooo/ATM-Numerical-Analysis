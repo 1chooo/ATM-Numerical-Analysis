{
 "cells": [
  {
   "attachments": {},
   "cell_type": "markdown",
   "metadata": {},
   "source": [
    "# [2022 Fall] Assignment2-3\n",
    "\n",
    "> Course: AP3021\n",
    "\n",
    "### Question: What is the difference between the intrinsic `INT` and `NINT` functions in Fortran? Find the corresponding functions in Python.\n",
    "### Answer: \n",
    "\n",
    "> The difference between two function in fortran.\n",
    "> * `INT`: convert to integer. In python: int()\n",
    "> * `NINT`: Round to nearest integer. In python: round()"
   ]
  },
  {
   "attachments": {},
   "cell_type": "markdown",
   "metadata": {},
   "source": [
    "```f90\n",
    "program test_int\n",
    "    implicit none\n",
    "    \n",
    "    integer :: i = 42\n",
    "    complex :: z = (-3.7, 1.0)\n",
    "    print *, int(i)\n",
    "    print *, int(z), int(z,8)\n",
    "\n",
    "    stop\n",
    "  end program\n",
    "```"
   ]
  },
  {
   "attachments": {},
   "cell_type": "markdown",
   "metadata": {},
   "source": [
    "![A2-3](./imgs/Picture3.jpg)"
   ]
  },
  {
   "cell_type": "markdown",
   "metadata": {},
   "source": []
  }
 ],
 "metadata": {
  "language_info": {
   "name": "python"
  },
  "orig_nbformat": 4
 },
 "nbformat": 4,
 "nbformat_minor": 2
}
