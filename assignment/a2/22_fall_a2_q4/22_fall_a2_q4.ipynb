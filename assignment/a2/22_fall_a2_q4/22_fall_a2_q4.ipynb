{
 "cells": [
  {
   "attachments": {},
   "cell_type": "markdown",
   "metadata": {},
   "source": [
    "# [2022 Fall] Assignment2-4\n",
    "\n",
    "> Course: AP3021\n",
    "\n",
    "### Question: Convert the following base-2 numbers to base-10 \n",
    "* 1011001 \n",
    "* 110.00101\n",
    "* 0.01011\n",
    "### Answer: \n",
    "\n",
    "| base-2    | base-10     |\n",
    "|-----------| ------------|\n",
    "| 1011001   | 89          |\n",
    "| 110.00101 | 6.15625     |\n",
    "| 0.01011   | 0.34375     |"
   ]
  },
  {
   "attachments": {},
   "cell_type": "markdown",
   "metadata": {},
   "source": [
    "![A2-4](./imgs/Picture4.jpg)"
   ]
  },
  {
   "cell_type": "markdown",
   "metadata": {},
   "source": []
  }
 ],
 "metadata": {
  "language_info": {
   "name": "python"
  },
  "orig_nbformat": 4
 },
 "nbformat": 4,
 "nbformat_minor": 2
}
