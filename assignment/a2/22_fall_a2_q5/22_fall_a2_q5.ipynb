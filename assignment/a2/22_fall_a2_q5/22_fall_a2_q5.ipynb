{
 "cells": [
  {
   "attachments": {},
   "cell_type": "markdown",
   "metadata": {},
   "source": [
    "# [2022 Fall] Assignment2-5\n",
    "\n",
    "> Course: AP3021\n",
    "### Question: Compose your own program based on Fig. 3.11 and use it to determine your computer’s machine epsilon.\n",
    "### Answer: \n",
    "\n",
    "![A2-5](./imgs/Picture5.jpg)"
   ]
  },
  {
   "cell_type": "markdown",
   "metadata": {},
   "source": []
  }
 ],
 "metadata": {
  "language_info": {
   "name": "python"
  },
  "orig_nbformat": 4
 },
 "nbformat": 4,
 "nbformat_minor": 2
}
