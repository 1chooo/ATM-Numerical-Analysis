{
 "cells": [
  {
   "attachments": {},
   "cell_type": "markdown",
   "metadata": {},
   "source": [
    "# [2022 Fall] Assignment2-2\n",
    "\n",
    "> Course: AP3021\n",
    "\n",
    "### Question: Find out the Python functions used to convert a floating point number into an integer.\n",
    "### Answer: \n",
    "> The function to convert float type into integer type: `int()`\n",
    "> \n",
    "> we can test two number: \n",
    "> 1. 10.0000000001\n",
    "> 2. 10.9999999999\n",
    "> \n",
    "> After using `int()` function, both turn into **10**.\n",
    "> Therefore, we get the conclusion that when we use the function to convert the float type into integer type, the value after point will be ignored."
   ]
  },
  {
   "cell_type": "code",
   "execution_count": null,
   "metadata": {},
   "outputs": [],
   "source": [
    "# The function to convert float type into integer type.\n",
    "\n",
    "print(\"The function we convert float type into integer type in python is: int()\\n\")\n",
    "\n",
    "\"\"\" The example of the python code to convert float type to int type. \"\"\"\n",
    "\n",
    "print(\"====== The First Experiment ======\")\n",
    "# First we announce the float type number.\n",
    "numberOne = 10.0000000001\n",
    "\n",
    "print(f\"The numberOne: {numberOne};\\tType: {type(numberOne).__name__}.\")\n",
    "\n",
    "# After using the function, it will ignore the value after point.\n",
    "numberOne = int(numberOne)\n",
    "print(f\"The converted numberOne: {numberOne};\\tConverted type: {type(numberOne).__name__}.\")\n",
    "\n",
    "print(\"\\n====== The Second Experiment ======\")\n",
    "\n",
    "# The next we can do another experiment, we announce the second number.\n",
    "numberTwo = 10.9999999999\n",
    "print(f\"The numberTwo: {numberTwo};\\tType: {type(numberTwo).__name__}.\")\n",
    "\n",
    "# After using the function, it still ignore the value after point.\n",
    "# No matter the value after the point. The result is the same.\n",
    "numberTwo = int(numberTwo)\n",
    "print(f\"The converted numberTwo: {numberTwo};\\tConverted type: {type(numberTwo).__name__}.\\n\")\n",
    "\n",
    "print(\"====== The conclusion ======\")\n",
    "print(\"Above all, we know that if we use function int() in python, no matter how value after the point, it will be losed.\")\n"
   ]
  },
  {
   "attachments": {},
   "cell_type": "markdown",
   "metadata": {},
   "source": [
    "![A2-2](./imgs/Picture2.jpg)"
   ]
  },
  {
   "cell_type": "markdown",
   "metadata": {},
   "source": []
  }
 ],
 "metadata": {
  "language_info": {
   "name": "python"
  },
  "orig_nbformat": 4
 },
 "nbformat": 4,
 "nbformat_minor": 2
}
