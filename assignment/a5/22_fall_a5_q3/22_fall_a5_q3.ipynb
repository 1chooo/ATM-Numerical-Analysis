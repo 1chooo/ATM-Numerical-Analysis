{
 "cells": [
  {
   "cell_type": "markdown",
   "metadata": {},
   "source": [
    "# [2022 Fall] Assignment5-3\n",
    "\n",
    "> Course: AP3021"
   ]
  },
  {
   "cell_type": "markdown",
   "metadata": {},
   "source": [
    "## Q5-3\n",
    "\n",
    "### Solve :\n",
    "\n",
    "$x_1 +x_2 -x_3 =-3$\n",
    "\n",
    "$6x_1 +2x_2 +2x_3 =2$\n",
    "\n",
    "$-3x_1 +4x_2 +x_3 =1$\n",
    "\n",
    "### With\n",
    "\n",
    "1. Naïve Gauss elimination (手寫)\n",
    "2. Gauss elimination with partial pivoting (手寫)\n",
    "3. Gauss-Jordan without partial pivoting (手寫)"
   ]
  },
  {
   "cell_type": "markdown",
   "metadata": {},
   "source": [
    "### Naïve Gauss elimination (手寫)\n",
    "\n",
    "![plot](./src/A5-3-1.jpg)\n",
    "\n",
    "### Gauss elimination with partial pivoting (手寫)\n",
    "\n",
    "![plot](./src/A5-3-2.jpg)\n",
    "\n",
    "### Gauss-Jordan without partial pivoting (手寫)\n",
    "\n",
    "![plot](./src/A5-3-3.jpg)"
   ]
  },
  {
   "cell_type": "code",
   "execution_count": null,
   "metadata": {},
   "outputs": [],
   "source": []
  }
 ],
 "metadata": {
  "language_info": {
   "name": "python"
  },
  "orig_nbformat": 4
 },
 "nbformat": 4,
 "nbformat_minor": 2
}
