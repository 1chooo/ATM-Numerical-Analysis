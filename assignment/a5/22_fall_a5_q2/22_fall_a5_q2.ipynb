{
 "cells": [
  {
   "cell_type": "markdown",
   "metadata": {},
   "source": [
    "# [2022 Fall] Assignment5-2\n",
    "\n",
    "> Course: AP3021"
   ]
  },
  {
   "cell_type": "markdown",
   "metadata": {},
   "source": [
    "## Q5-2\n",
    "\n",
    "### Use Gauss-Jordan elimination to solve :\n",
    "\n",
    "$2x_1 +x_2 -x_3 =1$\n",
    "\n",
    "$5x_1 +2x_2 +2x_3 =-4$ \n",
    "\n",
    "$3x_1 +x_2 +x_3 =5$\n",
    "\n",
    "1. Do not employ pivoting. Check your answers by substituting them into the original equations. (手寫)"
   ]
  },
  {
   "cell_type": "markdown",
   "metadata": {},
   "source": [
    "![plot](./src/A5-2-1.jpg)\n",
    "\n",
    "![plot](./src/A5-2-2.jpg)"
   ]
  },
  {
   "cell_type": "code",
   "execution_count": null,
   "metadata": {},
   "outputs": [],
   "source": []
  }
 ],
 "metadata": {
  "language_info": {
   "name": "python"
  },
  "orig_nbformat": 4
 },
 "nbformat": 4,
 "nbformat_minor": 2
}
