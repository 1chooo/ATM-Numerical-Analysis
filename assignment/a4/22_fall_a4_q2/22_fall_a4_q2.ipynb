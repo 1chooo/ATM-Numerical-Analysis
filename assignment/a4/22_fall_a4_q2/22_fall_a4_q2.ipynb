{
 "cells": [
  {
   "attachments": {},
   "cell_type": "markdown",
   "metadata": {},
   "source": [
    "# [2022 Fall] Assignment4-2\n",
    "\n",
    "> Course: AP3021"
   ]
  },
  {
   "cell_type": "code",
   "execution_count": null,
   "metadata": {},
   "outputs": [],
   "source": [
    "import matplotlib.pyplot as plt\n",
    "import math\n",
    "import numpy as np\n",
    "import pandas as pd\n",
    "import os"
   ]
  },
  {
   "attachments": {},
   "cell_type": "markdown",
   "metadata": {},
   "source": [
    "## 4-2-1\n",
    "\n",
    "How many bisection iterations would be required to determine temperature to an\n",
    "absolute error of 0.05°C? (𝑥𝑙 = 0°C, 𝑥𝑢 = 40°C)\n",
    "\n",
    "![plot](./src/imgs/A4_2_1.jpg)"
   ]
  },
  {
   "attachments": {},
   "cell_type": "markdown",
   "metadata": {},
   "source": [
    "## 4-2-2\n",
    "\n",
    "延續(1). Bisection program. (𝑂𝑠𝑓 = 8, 10, 𝑎𝑛𝑑 12𝑚𝑔/𝐿) (Python) PS : 溫度請帶絕對溫標"
   ]
  },
  {
   "cell_type": "code",
   "execution_count": null,
   "metadata": {},
   "outputs": [],
   "source": [
    "def f(temperature, osf) :\n",
    "    absolute_temperature = temperature + 273.15 # Ta\n",
    "\n",
    "    ans = ((-8.621949 * 10 ** 11) / absolute_temperature ** 4) \\\n",
    "        + ((1.243800  * 10 ** 10) / absolute_temperature ** 3) \\\n",
    "        + ((-6.642308 * 10 **  7) / absolute_temperature ** 2) \\\n",
    "        + ((1.575701  * 10 **  5) / absolute_temperature)      \\\n",
    "        - 139.34411 - math.log(osf)\n",
    "    \n",
    "    return ans"
   ]
  },
  {
   "cell_type": "code",
   "execution_count": null,
   "metadata": {},
   "outputs": [],
   "source": [
    "def count_et(true_value, approximation) :\n",
    "    true_error = true_value - approximation\n",
    "    et = (true_error / true_value) * 100\n",
    "\n",
    "    return et"
   ]
  },
  {
   "cell_type": "code",
   "execution_count": null,
   "metadata": {},
   "outputs": [],
   "source": [
    "def count_ea(new_x_root, old_x_root) :\n",
    "\n",
    "    if (old_x_root == -1) : # jump out the first data.\n",
    "        return 9999\n",
    "    else :\n",
    "        ea = abs((new_x_root - old_x_root) / new_x_root)\n",
    "        ea = ea * 100   # turn into percent\n",
    "        \n",
    "        return ea"
   ]
  },
  {
   "cell_type": "code",
   "execution_count": null,
   "metadata": {},
   "outputs": [],
   "source": [
    "def count_iter_times(x_lowwer, x_upper, Ead) :\n",
    "    iter_times = math.log(((x_upper - x_lowwer) / Ead), 2)\n",
    "\n",
    "    return iter_times"
   ]
  },
  {
   "cell_type": "code",
   "execution_count": null,
   "metadata": {},
   "outputs": [],
   "source": [
    "def bisection(x_lowwer, x_upper, Ead, osf, iter_max, iter_count) :\n",
    "    iter_times = count_iter_times(x_lowwer, x_upper, Ead)\n",
    "    print(\"Iterator at least:\", iter_times, \"times.\")\n",
    "    x_root = -1\n",
    "    \n",
    "    while True :\n",
    "        last_x_root = x_root\n",
    "        x_root = (x_lowwer + x_upper) / 2\n",
    "        iter_count += 1\n",
    "        temp = f(x_lowwer, osf) * f(x_root, osf)\n",
    "        # print(temp)\n",
    "\n",
    "        if (temp < 0) :\n",
    "            x_upper = x_root\n",
    "            # print(\"here\")\n",
    "        elif(temp > 0) :\n",
    "            x_lowwer = x_root\n",
    "            # print(\"here2\")\n",
    "        else :\n",
    "            return x_root\n",
    "\n",
    "        # how to get the true_value?\n",
    "        # true_value = \n",
    "\n",
    "        # et = (count_et(true_value, x_root))\n",
    "\n",
    "        ea = count_ea(x_root, last_x_root)\n",
    "\n",
    "        print(\"count:\", iter_count, \"root:\", x_root, \"ea\", ea)\n",
    "        # print(x_lowwer, x_upper)\n",
    "        \n",
    "        if iter_count >= iter_times or iter_count >= iter_max:\n",
    "            temperature = x_root + 273.15\n",
    "            \n",
    "            print(f\"if the os is {osf}\\nI iterate {iter_count} times\\nThe temperature is {temperature}K\")\n",
    "            return x_root"
   ]
  },
  {
   "attachments": {},
   "cell_type": "markdown",
   "metadata": {},
   "source": [
    "### Osf = 8"
   ]
  },
  {
   "cell_type": "code",
   "execution_count": null,
   "metadata": {},
   "outputs": [],
   "source": [
    "x_lowwer = 0\n",
    "x_upper = 40\n",
    "Ead = 0.05\n",
    "osf = 8\n",
    "iter_max = 500\n",
    "iter_count = 0\n",
    "\n",
    "ans = bisection(x_lowwer, x_upper, Ead, osf, iter_max, iter_count)"
   ]
  },
  {
   "attachments": {},
   "cell_type": "markdown",
   "metadata": {},
   "source": [
    "### Osf = 10"
   ]
  },
  {
   "cell_type": "code",
   "execution_count": null,
   "metadata": {},
   "outputs": [],
   "source": [
    "x_lowwer = 0\n",
    "x_upper = 40\n",
    "Ead = 0.05\n",
    "osf = 10\n",
    "iter_max = 500\n",
    "iter_count = 0\n",
    "\n",
    "print(\"Osf:\", osf)\n",
    "ans = bisection(x_lowwer, x_upper, Ead, osf, iter_max, iter_count)\n",
    "# print(ans)"
   ]
  },
  {
   "attachments": {},
   "cell_type": "markdown",
   "metadata": {},
   "source": [
    "### Osf = 12"
   ]
  },
  {
   "cell_type": "code",
   "execution_count": null,
   "metadata": {},
   "outputs": [],
   "source": [
    "x_lowwer = 0\n",
    "x_upper = 40\n",
    "Ead = 0.05\n",
    "osf = 12\n",
    "iter_max = 500\n",
    "iter_count = 0\n",
    "\n",
    "print(\"Osf:\", osf)\n",
    "ans = bisection(x_lowwer, x_upper, Ead, osf, iter_max, iter_count)\n",
    "# print(ans)"
   ]
  }
 ],
 "metadata": {
  "language_info": {
   "name": "python"
  },
  "orig_nbformat": 4
 },
 "nbformat": 4,
 "nbformat_minor": 2
}
