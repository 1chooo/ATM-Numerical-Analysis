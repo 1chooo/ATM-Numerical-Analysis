{
 "cells": [
  {
   "attachments": {},
   "cell_type": "markdown",
   "metadata": {},
   "source": [
    "# [2022 Fall] Assignment4-6\n",
    "\n",
    "> Course: AP3021"
   ]
  },
  {
   "cell_type": "markdown",
   "metadata": {},
   "source": [
    "## 4-6-1\n",
    "\n",
    "If R = 3 m, what depth must the tank be filled to so that it holds 30 𝑚3?\n",
    "\n",
    "![plot](./src//imgs/A4_6_1.jpg)\n"
   ]
  },
  {
   "cell_type": "markdown",
   "metadata": {},
   "source": [
    "## 4-6-2\n",
    "\n",
    "Newton-Raphson method (3 iterations; determine relative error after each iterations)(Python)\n"
   ]
  },
  {
   "cell_type": "code",
   "execution_count": 1,
   "metadata": {},
   "outputs": [],
   "source": [
    "import math"
   ]
  },
  {
   "cell_type": "code",
   "execution_count": null,
   "metadata": {},
   "outputs": [],
   "source": [
    "def f(h, R, V) :\n",
    "    PI = math.pi\n",
    "    ans = PI * (h ** 2) * (((3 * R) - h) / 3) - V\n",
    "\n",
    "    return ans"
   ]
  },
  {
   "cell_type": "code",
   "execution_count": null,
   "metadata": {},
   "outputs": [],
   "source": [
    "def f_prime(h, R) :\n",
    "    PI = math.pi\n",
    "    ans = (2 * PI * h * R) - (PI * (h ** 2))\n",
    "\n",
    "    return ans"
   ]
  },
  {
   "cell_type": "code",
   "execution_count": 2,
   "metadata": {},
   "outputs": [],
   "source": [
    "def newton_raphson(x0, es, iter_max, R, V) :\n",
    "    iter_count = 0\n",
    "    iter_count_list = []\n",
    "    x_root = x0\n",
    "    print(\"x0 =\", x0)\n",
    "    print()\n",
    "\n",
    "    while True :\n",
    "        last_x_root = x_root\n",
    "\n",
    "        try :\n",
    "            x_root = last_x_root - (f(x_root, R, V) / f_prime(x_root, R))\n",
    "        except :\n",
    "            print(\"total use\", iter_count, \"times.\")\n",
    "            return \"Divergence\"\n",
    "\n",
    "        iter_count += 1\n",
    "        iter_count_list.append(iter_count)\n",
    "        if x_root != 0 :\n",
    "            ea = abs((x_root - last_x_root) / x_root) * 100        \n",
    "\n",
    "        print(\"iter time:\", iter_count, \",ea =\", ea, \"root:\", x_root)\n",
    "\n",
    "        if (ea < es or iter_count >= iter_max) :\n",
    "            print(\"total use\", iter_count, \"times.\")\n",
    "            return x_root"
   ]
  },
  {
   "cell_type": "code",
   "execution_count": 3,
   "metadata": {},
   "outputs": [
    {
     "name": "stdout",
     "output_type": "stream",
     "text": [
      "x0 = 3\n",
      "\n",
      "iter time: 1 ,ea = 45.55808019742351 root: 2.061032953945969\n",
      "iter time: 2 ,ea = 1.6768713794196717 root: 2.0270420656974903\n",
      "iter time: 3 ,ea = 0.0067262694875214685 root: 2.026905730555795\n",
      "total use 3 times.\n",
      "\n",
      "The constrains of h: 2.026905730555795\n"
     ]
    }
   ],
   "source": [
    "R = 3\n",
    "V = 30\n",
    "x0 = R\n",
    "es = 0.01\n",
    "iter_max = 3\n",
    "\n",
    "print(\"\\nThe constrains of h:\", newton_raphson(x0, es, iter_max, R, V))"
   ]
  },
  {
   "cell_type": "markdown",
   "metadata": {},
   "source": [
    "## 4-6-3\n",
    "\n",
    "What are the constraints of h?"
   ]
  },
  {
   "cell_type": "code",
   "execution_count": 4,
   "metadata": {},
   "outputs": [
    {
     "name": "stdout",
     "output_type": "stream",
     "text": [
      "x0 = 3\n",
      "\n",
      "iter time: 1 ,ea = 45.55808019742351 root: 2.061032953945969\n",
      "iter time: 2 ,ea = 1.6768713794196717 root: 2.0270420656974903\n",
      "iter time: 3 ,ea = 0.0067262694875214685 root: 2.026905730555795\n",
      "total use 3 times.\n",
      "\n",
      "The constrains of h: 2.026905730555795\n"
     ]
    }
   ],
   "source": [
    "print(\"\\nThe constrains of h:\", newton_raphson(x0, es, iter_max, R, V))"
   ]
  },
  {
   "cell_type": "code",
   "execution_count": null,
   "metadata": {},
   "outputs": [],
   "source": []
  }
 ],
 "metadata": {
  "kernelspec": {
   "display_name": "venv",
   "language": "python",
   "name": "python3"
  },
  "language_info": {
   "codemirror_mode": {
    "name": "ipython",
    "version": 3
   },
   "file_extension": ".py",
   "mimetype": "text/x-python",
   "name": "python",
   "nbconvert_exporter": "python",
   "pygments_lexer": "ipython3",
   "version": "3.10.1"
  },
  "orig_nbformat": 4
 },
 "nbformat": 4,
 "nbformat_minor": 2
}
