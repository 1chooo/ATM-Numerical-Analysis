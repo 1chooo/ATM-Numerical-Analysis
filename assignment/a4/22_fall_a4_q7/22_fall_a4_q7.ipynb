{
 "cells": [
  {
   "attachments": {},
   "cell_type": "markdown",
   "metadata": {},
   "source": [
    "# [2022 Fall] Assignment4-7\n",
    "\n",
    "> Course: AP3021"
   ]
  },
  {
   "cell_type": "markdown",
   "metadata": {},
   "source": [
    "### 4-7\n",
    "\n",
    "Please read section 7.4 and describe the idea of Muller’s method.\n",
    "\n",
    "算是割線法的延伸，本想透過一直線通過函數到 x 軸的值來獲取數值解，不過 Muller's method 則做了修正，與割線法最大的不同就是透過「曲線」以曲線的性質變成透過第三個點來得到數值的分析解，作法則是用拋物線與 x 軸相交的點來得到數值解。"
   ]
  },
  {
   "cell_type": "code",
   "execution_count": null,
   "metadata": {},
   "outputs": [],
   "source": []
  }
 ],
 "metadata": {
  "language_info": {
   "name": "python"
  },
  "orig_nbformat": 4
 },
 "nbformat": 4,
 "nbformat_minor": 2
}
