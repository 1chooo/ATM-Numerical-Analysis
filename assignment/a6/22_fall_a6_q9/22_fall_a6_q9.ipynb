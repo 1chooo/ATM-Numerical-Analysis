{
 "cells": [
  {
   "cell_type": "markdown",
   "metadata": {},
   "source": [
    "# [2022 Fall] Assignment6-9\n",
    "\n",
    "> Course: AP3021"
   ]
  },
  {
   "cell_type": "markdown",
   "metadata": {},
   "source": [
    "## Q6-9\n",
    "\n",
    "$f(x, y) =e^{−x^{2}y^{2}}+cos(𝑥) +cos(2𝑦)$\n",
    "\n",
    "using the steepest ascend method.\n",
    "\n",
    "$f(x_0, y_0) = (-1, -1)$\n",
    "\n",
    "![6.9](./imgs/6.9.jpg)"
   ]
  }
 ],
 "metadata": {
  "language_info": {
   "name": "python"
  },
  "orig_nbformat": 4
 },
 "nbformat": 4,
 "nbformat_minor": 2
}
