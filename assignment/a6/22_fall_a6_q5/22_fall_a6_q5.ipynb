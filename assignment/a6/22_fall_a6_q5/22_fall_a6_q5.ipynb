{
 "cells": [
  {
   "cell_type": "markdown",
   "metadata": {},
   "source": [
    "# [2022 Fall] Assignment6-5\n",
    "\n",
    "> Course: AP3021"
   ]
  },
  {
   "cell_type": "markdown",
   "metadata": {},
   "source": [
    "## Q6-5"
   ]
  },
  {
   "cell_type": "code",
   "execution_count": null,
   "metadata": {},
   "outputs": [],
   "source": [
    "import numpy as np"
   ]
  },
  {
   "cell_type": "code",
   "execution_count": null,
   "metadata": {},
   "outputs": [],
   "source": [
    "a = np.array([\n",
    "    [ 0.8, -0.4,  0.0],\n",
    "    [-0.4,  0.8, -0.4],\n",
    "    [ 0.0, -0.4,  0.8]]\n",
    ")\n",
    "b = np.array([\n",
    "    [ 41],\n",
    "    [ 25],\n",
    "    [105]]\n",
    ")"
   ]
  },
  {
   "cell_type": "code",
   "execution_count": null,
   "metadata": {},
   "outputs": [],
   "source": [
    "x1 = 0\n",
    "x2 = 1\n",
    "x3 = 0\n",
    "count = 0\n",
    "c = 1.2"
   ]
  },
  {
   "cell_type": "code",
   "execution_count": null,
   "metadata": {},
   "outputs": [],
   "source": [
    "while True:\n",
    "    xold1 = x1\n",
    "    xold2 = x2\n",
    "    xold3 = x3\n",
    "    es = 0.5 * 10 ** (-2)\n",
    "\n",
    "    count += 1\n",
    "    x1 = ((b[0][0]) - (a[0][1]) * x2 - (a[0][2]) * x3) / a[0][0]\n",
    "    x1 = c * x1 + (1 - c) * xold1\n",
    "    x2 = ((b[1][0]) - (a[1][0]) * x1 - (a[1][2]) * x3) / a[1][1]\n",
    "    x2 = c * x2 + (1 - c) * xold2\n",
    "    x3 = ((b[2][0]) - (a[2][0]) * x1 - (a[2][1]) * x2) / a[2][2]\n",
    "    x3 = c * x3 + (1 - c) * xold3\n",
    "    if ((x1 - xold1) / x1 < es) and \\\n",
    "           ((x2-xold2)/x2 < es) and \\\n",
    "           ((x3-xold3)/x3 < es) :\n",
    "        break\n",
    "\n",
    "print('x1 =', x1)\n",
    "print('x2 =', x2)\n",
    "print('x3 =', x3)\n",
    "print()\n",
    "print('Total used', count, \"times.\")"
   ]
  }
 ],
 "metadata": {
  "language_info": {
   "name": "python"
  },
  "orig_nbformat": 4
 },
 "nbformat": 4,
 "nbformat_minor": 2
}
