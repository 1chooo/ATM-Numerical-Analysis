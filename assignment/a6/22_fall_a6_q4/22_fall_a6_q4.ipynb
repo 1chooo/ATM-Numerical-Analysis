{
 "cells": [
  {
   "cell_type": "markdown",
   "metadata": {},
   "source": [
    "# [2022 Fall] Assignment6-4\n",
    "\n",
    "> Course: AP3021"
   ]
  },
  {
   "cell_type": "markdown",
   "metadata": {},
   "source": [
    "## Q6-4\n",
    "\n",
    "### LU decomposition."
   ]
  },
  {
   "cell_type": "code",
   "execution_count": null,
   "metadata": {},
   "outputs": [],
   "source": [
    "import numpy as np"
   ]
  },
  {
   "cell_type": "code",
   "execution_count": null,
   "metadata": {},
   "outputs": [],
   "source": [
    "a = np.array([\n",
    "    [ 6,  15,  55],\n",
    "    [15,  55, 225],\n",
    "    [55, 225, 979]]\n",
    ")\n",
    "b = np.array([\n",
    "    [152.6],\n",
    "    [585.6],\n",
    "    [2488.8]]\n",
    ")"
   ]
  },
  {
   "cell_type": "code",
   "execution_count": null,
   "metadata": {},
   "outputs": [],
   "source": [
    "def L(x):\n",
    "\n",
    "    f21 = x[1][0] / x[0][0]\n",
    "    f31 = x[2][0] / x[0][0]\n",
    "    x = np.array([[x[0][0], x[0][1], x[0][2]],\n",
    "                  [x[1][0] - (x[0][0] * f21), x[1][1] - (x[0][1] * f21), x[1][2] - (x[0][2] * f21)],\n",
    "                  [x[2][0] - (x[0][0] * f31), x[2][1] - (x[0][1] * f31), x[2][2] - (x[0][2] * f31)]])\n",
    "    f32 = x[2][1] / x[1][1]\n",
    "\n",
    "    return np.array([[  1,   0, 0],\n",
    "                     [f21,   1, 0],\n",
    "                     [f31, f32, 1]])"
   ]
  },
  {
   "cell_type": "code",
   "execution_count": null,
   "metadata": {},
   "outputs": [],
   "source": [
    "def U(x):\n",
    "\n",
    "    a10 = x[1][0] / x[0][0]\n",
    "    a20 = x[2][0] / x[0][0]\n",
    "    x = np.array([[x[0][0], x[0][1], x[0][2]],\n",
    "                  [x[1][0] - (x[0][0] * a10), x[1][1] - (x[0][1] * a10), x[1][2] - (x[0][2] * a10)],\n",
    "                  [x[2][0] - (x[0][0] * a20), x[2][1] - (x[0][1] * a20), x[2][2] - (x[0][2] * a20)]])\n",
    "    a21 = x[2][1] / x[1][1]\n",
    "    x = np.array([[x[0][0], x[0][1], x[0][2]],\n",
    "                  [x[1][0], x[1][1], x[1][2]],\n",
    "                  [x[2][0], x[2][1] - (x[1][1] * a21), x[2][2] - (x[1][2] * a21)]])\n",
    "\n",
    "    return x"
   ]
  },
  {
   "cell_type": "code",
   "execution_count": null,
   "metadata": {},
   "outputs": [],
   "source": [
    "d = np.dot(np.linalg.inv(L(a)), b)      # [L]{D} = {B}\n",
    "x = np.dot(np.linalg.inv(U(a)), d)      # [U]{X} = {D}\n",
    "print('After LU decomposition\\n[L] =')\n",
    "print(L(a))\n",
    "print('[U] =')\n",
    "print(U(a))\n",
    "print('[A] =')\n",
    "print(x)\n",
    "print('a0 =', x[0], 'a1 =', x[1], 'a2 =', x[2])"
   ]
  },
  {
   "cell_type": "markdown",
   "metadata": {},
   "source": [
    "### Cholesky decomposition\n"
   ]
  },
  {
   "cell_type": "code",
   "execution_count": null,
   "metadata": {},
   "outputs": [],
   "source": [
    "l11 = np.sqrt(a[0][0])\n",
    "l21 = a[1][0] / l11\n",
    "l22 = np.sqrt(a[1][1] - l21 ** 2)\n",
    "l31 = a[2][0] / l11\n",
    "l32 = (a[2][1] - l21 * l31) / l22\n",
    "l33 = np.sqrt(a[2][2] - l31 ** 2 - l32 ** 2)\n",
    "l = np.array([[l11,   0,   0],\n",
    "              [l21, l22,   0],\n",
    "              [l31, l32, l33]])\n",
    "              \n",
    "print('Cholesky decomposition')\n",
    "print('[L]=')\n",
    "print(l)"
   ]
  }
 ],
 "metadata": {
  "language_info": {
   "name": "python"
  },
  "orig_nbformat": 4
 },
 "nbformat": 4,
 "nbformat_minor": 2
}
