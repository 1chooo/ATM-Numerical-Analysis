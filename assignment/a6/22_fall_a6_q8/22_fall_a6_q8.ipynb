{
 "cells": [
  {
   "cell_type": "markdown",
   "metadata": {},
   "source": [
    "# [2022 Fall] Assignment6-8\n",
    "\n",
    "> Course: AP3021"
   ]
  },
  {
   "cell_type": "markdown",
   "metadata": {},
   "source": [
    "## Q6-8\n",
    "\n",
    "### 1. Solve with the optimal gradient steepest descent method\n",
    "\n",
    "![6.8-1](./imgs/6.8-1.jpg)\n",
    "### 2. Solve with the Newton’s method\n",
    "![6.8-2](./imgs/6.8-2.jpg)\n"
   ]
  },
  {
   "cell_type": "markdown",
   "metadata": {},
   "source": []
  }
 ],
 "metadata": {
  "language_info": {
   "name": "python"
  },
  "orig_nbformat": 4
 },
 "nbformat": 4,
 "nbformat_minor": 2
}
