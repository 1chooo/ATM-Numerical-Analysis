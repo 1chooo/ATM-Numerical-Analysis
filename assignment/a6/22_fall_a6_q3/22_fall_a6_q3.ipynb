{
 "cells": [
  {
   "cell_type": "markdown",
   "metadata": {},
   "source": [
    "# [2022 Fall] Assignment6-3\n",
    "\n",
    "> Course: AP3021"
   ]
  },
  {
   "cell_type": "code",
   "execution_count": null,
   "metadata": {},
   "outputs": [],
   "source": [
    "import numpy as np"
   ]
  },
  {
   "cell_type": "code",
   "execution_count": null,
   "metadata": {},
   "outputs": [],
   "source": [
    "a = np.array([[0, 1,  0,  0],\n",
    "              [0, 0,  2,  1],\n",
    "              [1, 1,  0,  0],\n",
    "              [1, 1, -1, -1]])\n",
    "b = np.array([[1],[1],[4],[0]])\n",
    "\n",
    "inverse_a = np.linalg.inv(a)\n",
    "print(inverse_a.dot(b))"
   ]
  }
 ],
 "metadata": {
  "language_info": {
   "name": "python"
  },
  "orig_nbformat": 4
 },
 "nbformat": 4,
 "nbformat_minor": 2
}
