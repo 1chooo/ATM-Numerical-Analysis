{
 "cells": [
  {
   "attachments": {},
   "cell_type": "markdown",
   "metadata": {},
   "source": [
    "# [2022 Fall] Assignment1\n",
    "\n",
    "> Course: AP3021"
   ]
  },
  {
   "cell_type": "code",
   "execution_count": 1,
   "metadata": {},
   "outputs": [],
   "source": [
    "import math"
   ]
  },
  {
   "attachments": {},
   "cell_type": "markdown",
   "metadata": {},
   "source": [
    "Build the factorial mechanism "
   ]
  },
  {
   "cell_type": "code",
   "execution_count": 3,
   "metadata": {},
   "outputs": [],
   "source": [
    "def factorial(n) :\n",
    "    sum = 1\n",
    "\n",
    "    for i in range(2, n + 1) :\n",
    "        sum *= i\n",
    "\n",
    "    return sum"
   ]
  },
  {
   "attachments": {},
   "cell_type": "markdown",
   "metadata": {},
   "source": [
    "Build the error criterion : εs"
   ]
  },
  {
   "cell_type": "code",
   "execution_count": 4,
   "metadata": {},
   "outputs": [],
   "source": [
    "def countErrorCriterion(n) :\n",
    "    errorCriterion = (0.5 * 10 ** (2 - n)) * 100\n",
    "\n",
    "    return errorCriterion"
   ]
  },
  {
   "attachments": {},
   "cell_type": "markdown",
   "metadata": {},
   "source": [
    "Build the approximate estimate of the error : εa"
   ]
  },
  {
   "cell_type": "code",
   "execution_count": 5,
   "metadata": {},
   "outputs": [],
   "source": [
    "def countApproximateEstimateError(currentApproximation, previousApproximation) :\n",
    "    approximateError = currentApproximation - previousApproximation\n",
    "\n",
    "    if currentApproximation == 0 :    # The first and second value of cosine tylor polynomial is 0.0 and 1.0; therefore we have to pass them.\n",
    "        return 999\n",
    "    else :\n",
    "        approximateEstimateError = abs((approximateError / currentApproximation) * 100)\n",
    "\n",
    "    return approximateEstimateError"
   ]
  },
  {
   "attachments": {},
   "cell_type": "markdown",
   "metadata": {},
   "source": [
    "Build the percent relative error : εt"
   ]
  },
  {
   "cell_type": "code",
   "execution_count": 6,
   "metadata": {},
   "outputs": [],
   "source": [
    "def countPercentRelativeError(trueValue, approximation) :\n",
    "    trueError = trueValue - approximation\n",
    "    percentRelativeError = (trueError / trueValue) * 100\n",
    "\n",
    "    return percentRelativeError"
   ]
  },
  {
   "attachments": {},
   "cell_type": "markdown",
   "metadata": {},
   "source": [
    "Build cosine tylor polynomial"
   ]
  },
  {
   "cell_type": "code",
   "execution_count": 7,
   "metadata": {},
   "outputs": [],
   "source": [
    "def tylorPolynomial(n, x) :\n",
    "    sum = 0\n",
    "\n",
    "    for i in range(n) : \n",
    "        sum = sum + ((-1) ** i * x ** (2 * i)) / factorial(2 * i)\n",
    "\n",
    "    return float(sum)"
   ]
  },
  {
   "attachments": {},
   "cell_type": "markdown",
   "metadata": {},
   "source": [
    "Announce the variable."
   ]
  },
  {
   "cell_type": "code",
   "execution_count": 8,
   "metadata": {},
   "outputs": [],
   "source": [
    "def main():\n",
    "\n",
    "    PI = math.pi\n",
    "    n = 5\n",
    "    errorCriterion = countErrorCriterion(n)\n",
    "    loopCount = 0\n",
    "    currentApproximate = 0.0\n",
    "    previousApproximate = 0.0\n",
    "    trueValue = math.cos(2 * PI)\n",
    "    print(f\"True value of cos(0): {trueValue}.\")\n",
    "\n",
    "    # print((1.00000000000000 - 0.999978232974615 / 1.00000000000000) * 100)\n",
    "    print(f\"The error criterion is: {errorCriterion}, and n = {n}.\\n\\nStart the estimate: \\n\")\n",
    "\n",
    "    while True :\n",
    "        previousApproximate = currentApproximate\n",
    "        currentValue = tylorPolynomial(loopCount, 2 * PI)\n",
    "        currentApproximate = currentValue\n",
    "        approximateEstimateError = countApproximateEstimateError(currentApproximate, previousApproximate)\n",
    "        percentRelativeError = countPercentRelativeError(trueValue, currentValue)\n",
    "\n",
    "        if (approximateEstimateError < errorCriterion) :\n",
    "            loopCount += 1\n",
    "\n",
    "            print(f\"Times: {loopCount}, \\ncurrent value: {currentValue}, \\tapproximate estimate error: {approximateEstimateError} \\tpercent relative error: {percentRelativeError}%.\\n\")\n",
    "            print(f\"Here is the error that we accept!!!\")\n",
    "            print(f\"Total use {loopCount} times to get the result we want!\")\n",
    "\n",
    "            break\n",
    "        else :\n",
    "            loopCount += 1\n",
    "\n",
    "        print(f\"Times: {loopCount}, \\ncurrent value: {currentValue}, \\tapproximate estimate error: {approximateEstimateError} \\tpercent relative error: {percentRelativeError}%.\")"
   ]
  },
  {
   "cell_type": "code",
   "execution_count": 9,
   "metadata": {},
   "outputs": [
    {
     "name": "stdout",
     "output_type": "stream",
     "text": [
      "True value of cos(0): 1.0.\n",
      "The error criterion is: 0.05, and n = 5.\n",
      "\n",
      "Start the estimate: \n",
      "\n",
      "Times: 1, \n",
      "current value: 0.0, \tapproximate estimate error: 999 \tpercent relative error: 100.0%.\n",
      "Times: 2, \n",
      "current value: 1.0, \tapproximate estimate error: 100.0 \tpercent relative error: 0.0%.\n",
      "Times: 3, \n",
      "current value: -18.739208802178716, \tapproximate estimate error: 105.33640459720868 \tpercent relative error: 1973.9208802178716%.\n",
      "Times: 4, \n",
      "current value: 46.200185220489566, \tapproximate estimate error: 140.560895400627 \tpercent relative error: -4520.018522048957%.\n",
      "Times: 5, \n",
      "current value: -39.25663198620415, \tapproximate estimate error: 217.6875928549489 \tpercent relative error: 4025.6631986204147%.\n",
      "Times: 6, \n",
      "current value: 20.98800938567249, \tapproximate estimate error: 287.0431409898395 \tpercent relative error: -1998.8009385672492%.\n",
      "Times: 7, \n",
      "current value: -5.438247397701897, \tapproximate estimate error: 485.9333320242407 \tpercent relative error: 643.8247397701897%.\n",
      "Times: 8, \n",
      "current value: 2.465288973616568, \tapproximate estimate error: 320.59269545687425 \tpercent relative error: -146.5288973616568%.\n",
      "Times: 9, \n",
      "current value: 0.7508982625278968, \tapproximate estimate error: 228.31198268020754 \tpercent relative error: 24.91017374721032%.\n",
      "Times: 10, \n",
      "current value: 1.0329042309836878, \tapproximate estimate error: 27.302237709610523 \tpercent relative error: -3.2904230983687777%.\n",
      "Times: 11, \n",
      "current value: 0.9965213898411421, \tapproximate estimate error: 3.650984465907502 \tpercent relative error: 0.34786101588578644%.\n",
      "Times: 12, \n",
      "current value: 1.000301224041822, \tapproximate estimate error: 0.3778695966608076 \tpercent relative error: -0.030122404182209017%.\n",
      "Times: 13, \n",
      "current value: 0.999978232974615, \tapproximate estimate error: 0.032299809791492 \tpercent relative error: 0.002176702538503328%.\n",
      "\n",
      "Here is the error that we accept!!!\n",
      "Total use 13 times to get the result we want!\n"
     ]
    }
   ],
   "source": [
    "if __name__ == '__main__':\n",
    "    main()"
   ]
  }
 ],
 "metadata": {
  "kernelspec": {
   "display_name": "Python 3",
   "language": "python",
   "name": "python3"
  },
  "language_info": {
   "codemirror_mode": {
    "name": "ipython",
    "version": 3
   },
   "file_extension": ".py",
   "mimetype": "text/x-python",
   "name": "python",
   "nbconvert_exporter": "python",
   "pygments_lexer": "ipython3",
   "version": "3.10.1"
  },
  "orig_nbformat": 4
 },
 "nbformat": 4,
 "nbformat_minor": 2
}
